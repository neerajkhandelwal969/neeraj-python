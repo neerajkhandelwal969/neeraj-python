{
 "cells": [
  {
   "cell_type": "code",
   "execution_count": 1,
   "metadata": {},
   "outputs": [
    {
     "name": "stdout",
     "output_type": "stream",
     "text": [
      "hello\n"
     ]
    }
   ],
   "source": [
    "\n",
    "print('hello')"
   ]
  },
  {
   "cell_type": "code",
   "execution_count": 7,
   "metadata": {},
   "outputs": [
    {
     "name": "stdout",
     "output_type": "stream",
     "text": [
      "c\n"
     ]
    }
   ],
   "source": [
    "a = 7\n",
    "b = 7\n",
    "print('c')"
   ]
  },
  {
   "cell_type": "code",
   "execution_count": 8,
   "metadata": {},
   "outputs": [
    {
     "data": {
      "text/plain": [
       "7"
      ]
     },
     "execution_count": 8,
     "metadata": {},
     "output_type": "execute_result"
    }
   ],
   "source": [
    "a"
   ]
  },
  {
   "cell_type": "code",
   "execution_count": 11,
   "metadata": {},
   "outputs": [
    {
     "data": {
      "text/plain": [
       "int"
      ]
     },
     "execution_count": 11,
     "metadata": {},
     "output_type": "execute_result"
    }
   ],
   "source": [
    "a = 3\n",
    "b = 4\n",
    "v = 5\n",
    "type(a)\n",
    "type(b)\n",
    "type(v)"
   ]
  },
  {
   "cell_type": "code",
   "execution_count": 12,
   "metadata": {},
   "outputs": [
    {
     "data": {
      "text/plain": [
       "7"
      ]
     },
     "execution_count": 12,
     "metadata": {},
     "output_type": "execute_result"
    }
   ],
   "source": [
    "a + b"
   ]
  },
  {
   "cell_type": "code",
   "execution_count": 13,
   "metadata": {},
   "outputs": [
    {
     "data": {
      "text/plain": [
       "12"
      ]
     },
     "execution_count": 13,
     "metadata": {},
     "output_type": "execute_result"
    }
   ],
   "source": [
    "a + b+ v"
   ]
  },
  {
   "cell_type": "code",
   "execution_count": 14,
   "metadata": {},
   "outputs": [
    {
     "data": {
      "text/plain": [
       "-6"
      ]
     },
     "execution_count": 14,
     "metadata": {},
     "output_type": "execute_result"
    }
   ],
   "source": [
    "a - b - v"
   ]
  },
  {
   "cell_type": "code",
   "execution_count": 15,
   "metadata": {},
   "outputs": [
    {
     "data": {
      "text/plain": [
       "60"
      ]
     },
     "execution_count": 15,
     "metadata": {},
     "output_type": "execute_result"
    }
   ],
   "source": [
    "a * b * v"
   ]
  },
  {
   "cell_type": "code",
   "execution_count": 16,
   "metadata": {},
   "outputs": [
    {
     "data": {
      "text/plain": [
       "-4.25"
      ]
     },
     "execution_count": 16,
     "metadata": {},
     "output_type": "execute_result"
    }
   ],
   "source": [
    "a/b - v\n"
   ]
  },
  {
   "cell_type": "code",
   "execution_count": 17,
   "metadata": {},
   "outputs": [
    {
     "data": {
      "text/plain": [
       "'e'"
      ]
     },
     "execution_count": 17,
     "metadata": {},
     "output_type": "execute_result"
    }
   ],
   "source": [
    "a = 'hello'\n",
    "a[1]"
   ]
  },
  {
   "cell_type": "code",
   "execution_count": 19,
   "metadata": {},
   "outputs": [
    {
     "data": {
      "text/plain": [
       "'hello'"
      ]
     },
     "execution_count": 19,
     "metadata": {},
     "output_type": "execute_result"
    }
   ],
   "source": [
    "d=str(a)\n",
    "d"
   ]
  },
  {
   "cell_type": "code",
   "execution_count": 23,
   "metadata": {},
   "outputs": [
    {
     "data": {
      "text/plain": [
       "'d'"
      ]
     },
     "execution_count": 23,
     "metadata": {},
     "output_type": "execute_result"
    }
   ],
   "source": [
    "a='devil'\n",
    "a[:1]"
   ]
  },
  {
   "cell_type": "code",
   "execution_count": 25,
   "metadata": {},
   "outputs": [
    {
     "data": {
      "text/plain": [
       "'l'"
      ]
     },
     "execution_count": 25,
     "metadata": {},
     "output_type": "execute_result"
    }
   ],
   "source": [
    "a[4:]"
   ]
  },
  {
   "cell_type": "code",
   "execution_count": 26,
   "metadata": {},
   "outputs": [
    {
     "data": {
      "text/plain": [
       "5"
      ]
     },
     "execution_count": 26,
     "metadata": {},
     "output_type": "execute_result"
    }
   ],
   "source": [
    "len(a)"
   ]
  },
  {
   "cell_type": "code",
   "execution_count": 28,
   "metadata": {},
   "outputs": [
    {
     "data": {
      "text/plain": [
       "'neeraj'"
      ]
     },
     "execution_count": 28,
     "metadata": {},
     "output_type": "execute_result"
    }
   ],
   "source": [
    "e = 'neeraj'\n",
    "(e)"
   ]
  },
  {
   "cell_type": "code",
   "execution_count": 29,
   "metadata": {},
   "outputs": [
    {
     "data": {
      "text/plain": [
       "'NEERAJ'"
      ]
     },
     "execution_count": 29,
     "metadata": {},
     "output_type": "execute_result"
    }
   ],
   "source": [
    "e.upper()"
   ]
  },
  {
   "cell_type": "code",
   "execution_count": 35,
   "metadata": {},
   "outputs": [
    {
     "data": {
      "text/plain": [
       "'neeraj'"
      ]
     },
     "execution_count": 35,
     "metadata": {},
     "output_type": "execute_result"
    }
   ],
   "source": [
    "f= ' neeraj '\n",
    "f.strip()"
   ]
  },
  {
   "cell_type": "code",
   "execution_count": 37,
   "metadata": {},
   "outputs": [
    {
     "data": {
      "text/plain": [
       "' neecaj '"
      ]
     },
     "execution_count": 37,
     "metadata": {},
     "output_type": "execute_result"
    }
   ],
   "source": [
    "f.replace('r','c')"
   ]
  },
  {
   "cell_type": "code",
   "execution_count": 39,
   "metadata": {},
   "outputs": [
    {
     "data": {
      "text/plain": [
       "' nreraj '"
      ]
     },
     "execution_count": 39,
     "metadata": {},
     "output_type": "execute_result"
    }
   ],
   "source": [
    "f.replace('ee','re')"
   ]
  },
  {
   "cell_type": "code",
   "execution_count": 45,
   "metadata": {},
   "outputs": [
    {
     "data": {
      "text/plain": [
       "'my age is17'"
      ]
     },
     "execution_count": 45,
     "metadata": {},
     "output_type": "execute_result"
    }
   ],
   "source": [
    "a = '17'\n",
    "b = 'my age is'\n",
    "b+a"
   ]
  },
  {
   "cell_type": "code",
   "execution_count": 46,
   "metadata": {},
   "outputs": [
    {
     "data": {
      "text/plain": [
       "[1, 2, 3, 4]"
      ]
     },
     "execution_count": 46,
     "metadata": {},
     "output_type": "execute_result"
    }
   ],
   "source": [
    "g = [1,2,3,4]\n",
    "g"
   ]
  },
  {
   "cell_type": "code",
   "execution_count": 48,
   "metadata": {},
   "outputs": [
    {
     "data": {
      "text/plain": [
       "(1, 2, 3, 4)"
      ]
     },
     "execution_count": 48,
     "metadata": {},
     "output_type": "execute_result"
    }
   ],
   "source": [
    "i = (1,2,3,4)\n",
    "i"
   ]
  },
  {
   "cell_type": "code",
   "execution_count": 50,
   "metadata": {},
   "outputs": [
    {
     "data": {
      "text/plain": [
       "1"
      ]
     },
     "execution_count": 50,
     "metadata": {},
     "output_type": "execute_result"
    }
   ],
   "source": [
    "g[0]\n"
   ]
  },
  {
   "cell_type": "code",
   "execution_count": 53,
   "metadata": {},
   "outputs": [
    {
     "data": {
      "text/plain": [
       "1"
      ]
     },
     "execution_count": 53,
     "metadata": {},
     "output_type": "execute_result"
    }
   ],
   "source": [
    "i[0]"
   ]
  },
  {
   "cell_type": "code",
   "execution_count": 61,
   "metadata": {},
   "outputs": [
    {
     "ename": "TypeError",
     "evalue": "'tuple' object is not callable",
     "output_type": "error",
     "traceback": [
      "\u001b[1;31m---------------------------------------------------------------------------\u001b[0m",
      "\u001b[1;31mTypeError\u001b[0m                                 Traceback (most recent call last)",
      "\u001b[1;32m<ipython-input-61-90955ecd73ed>\u001b[0m in \u001b[0;36m<module>\u001b[1;34m\u001b[0m\n\u001b[0;32m      1\u001b[0m \u001b[0mi\u001b[0m \u001b[1;33m=\u001b[0m \u001b[1;33m(\u001b[0m\u001b[1;36m1\u001b[0m\u001b[1;33m,\u001b[0m\u001b[1;36m2\u001b[0m\u001b[1;33m,\u001b[0m\u001b[1;36m3\u001b[0m\u001b[1;33m,\u001b[0m\u001b[1;36m4\u001b[0m\u001b[1;33m)\u001b[0m\u001b[1;33m\u001b[0m\u001b[1;33m\u001b[0m\u001b[0m\n\u001b[1;32m----> 2\u001b[1;33m \u001b[0mi\u001b[0m\u001b[1;33m(\u001b[0m\u001b[1;36m0\u001b[0m\u001b[1;33m)\u001b[0m\u001b[1;33m\u001b[0m\u001b[1;33m\u001b[0m\u001b[0m\n\u001b[0m",
      "\u001b[1;31mTypeError\u001b[0m: 'tuple' object is not callable"
     ]
    }
   ],
   "source": [
    "i = (1,2,3,4)\n",
    "i(0)"
   ]
  },
  {
   "cell_type": "code",
   "execution_count": 66,
   "metadata": {},
   "outputs": [
    {
     "data": {
      "text/plain": [
       "[2, 2, 3, 4, 4, 4, 3, 5, 5]"
      ]
     },
     "execution_count": 66,
     "metadata": {},
     "output_type": "execute_result"
    }
   ],
   "source": [
    "g.append(5)\n",
    "g"
   ]
  },
  {
   "cell_type": "code",
   "execution_count": 70,
   "metadata": {},
   "outputs": [
    {
     "data": {
      "text/plain": [
       "[2, 2, 3, 4, 4]"
      ]
     },
     "execution_count": 70,
     "metadata": {},
     "output_type": "execute_result"
    }
   ],
   "source": [
    "g.pop()\n",
    "g"
   ]
  },
  {
   "cell_type": "code",
   "execution_count": 73,
   "metadata": {},
   "outputs": [
    {
     "data": {
      "text/plain": [
       "[1, 2, 3, 7, 4]"
      ]
     },
     "execution_count": 73,
     "metadata": {},
     "output_type": "execute_result"
    }
   ],
   "source": [
    "g = [1,2,3,4]\n",
    "g.insert(3,7)\n",
    "g"
   ]
  },
  {
   "cell_type": "code",
   "execution_count": 79,
   "metadata": {},
   "outputs": [
    {
     "ename": "ValueError",
     "evalue": "list.remove(x): x not in list",
     "output_type": "error",
     "traceback": [
      "\u001b[1;31m---------------------------------------------------------------------------\u001b[0m",
      "\u001b[1;31mValueError\u001b[0m                                Traceback (most recent call last)",
      "\u001b[1;32m<ipython-input-79-46c70352dfff>\u001b[0m in \u001b[0;36m<module>\u001b[1;34m\u001b[0m\n\u001b[1;32m----> 1\u001b[1;33m \u001b[0mg\u001b[0m\u001b[1;33m.\u001b[0m\u001b[0mremove\u001b[0m\u001b[1;33m(\u001b[0m\u001b[1;36m3\u001b[0m\u001b[1;33m)\u001b[0m\u001b[1;33m\u001b[0m\u001b[1;33m\u001b[0m\u001b[0m\n\u001b[0m\u001b[0;32m      2\u001b[0m \u001b[0mg\u001b[0m\u001b[1;33m\u001b[0m\u001b[1;33m\u001b[0m\u001b[0m\n",
      "\u001b[1;31mValueError\u001b[0m: list.remove(x): x not in list"
     ]
    }
   ],
   "source": [
    "g.remove(3)\n",
    "g"
   ]
  },
  {
   "cell_type": "code",
   "execution_count": 80,
   "metadata": {},
   "outputs": [
    {
     "data": {
      "text/plain": [
       "[1, 2, 4]"
      ]
     },
     "execution_count": 80,
     "metadata": {},
     "output_type": "execute_result"
    }
   ],
   "source": [
    "g = [1,2,3,4]\n",
    "g.remove(3)\n",
    "g "
   ]
  },
  {
   "cell_type": "code",
   "execution_count": 82,
   "metadata": {},
   "outputs": [],
   "source": [
    "del i"
   ]
  },
  {
   "cell_type": "code",
   "execution_count": 83,
   "metadata": {},
   "outputs": [
    {
     "ename": "NameError",
     "evalue": "name 'i' is not defined",
     "output_type": "error",
     "traceback": [
      "\u001b[1;31m---------------------------------------------------------------------------\u001b[0m",
      "\u001b[1;31mNameError\u001b[0m                                 Traceback (most recent call last)",
      "\u001b[1;32m<ipython-input-83-397d543883c5>\u001b[0m in \u001b[0;36m<module>\u001b[1;34m\u001b[0m\n\u001b[1;32m----> 1\u001b[1;33m \u001b[0mi\u001b[0m\u001b[1;33m\u001b[0m\u001b[1;33m\u001b[0m\u001b[0m\n\u001b[0m",
      "\u001b[1;31mNameError\u001b[0m: name 'i' is not defined"
     ]
    }
   ],
   "source": [
    "i"
   ]
  },
  {
   "cell_type": "code",
   "execution_count": 84,
   "metadata": {},
   "outputs": [
    {
     "data": {
      "text/plain": [
       "[6, 7, 8, 9]"
      ]
     },
     "execution_count": 84,
     "metadata": {},
     "output_type": "execute_result"
    }
   ],
   "source": [
    "j = [6,7,8,9]\n",
    "j.copy()\n",
    "j"
   ]
  },
  {
   "cell_type": "code",
   "execution_count": 88,
   "metadata": {},
   "outputs": [
    {
     "data": {
      "text/plain": [
       "[6, 7, 8, 9]"
      ]
     },
     "execution_count": 88,
     "metadata": {},
     "output_type": "execute_result"
    }
   ],
   "source": [
    "m = j.copy()\n",
    "m"
   ]
  },
  {
   "cell_type": "code",
   "execution_count": 89,
   "metadata": {},
   "outputs": [
    {
     "data": {
      "text/plain": [
       "[9, 6, 4, 3]"
      ]
     },
     "execution_count": 89,
     "metadata": {},
     "output_type": "execute_result"
    }
   ],
   "source": [
    "n = [9,6,4,3]\n",
    "n"
   ]
  },
  {
   "cell_type": "code",
   "execution_count": 90,
   "metadata": {},
   "outputs": [
    {
     "data": {
      "text/plain": [
       "[9, 6, 4, 3]"
      ]
     },
     "execution_count": 90,
     "metadata": {},
     "output_type": "execute_result"
    }
   ],
   "source": [
    "n.sort\n",
    "n"
   ]
  },
  {
   "cell_type": "code",
   "execution_count": 92,
   "metadata": {},
   "outputs": [
    {
     "data": {
      "text/plain": [
       "['hello']"
      ]
     },
     "execution_count": 92,
     "metadata": {},
     "output_type": "execute_result"
    }
   ],
   "source": [
    "n = 'hello'\n",
    "n.split()"
   ]
  },
  {
   "cell_type": "code",
   "execution_count": 101,
   "metadata": {},
   "outputs": [
    {
     "data": {
      "text/plain": [
       "{'a': 'list', 'b': 'order', 'c': 'tuple'}"
      ]
     },
     "execution_count": 101,
     "metadata": {},
     "output_type": "execute_result"
    }
   ],
   "source": [
    "\n",
    "x = {'a':'list',\n",
    "     'b':'order',\n",
    "     'c':'tuple'}\n",
    "x"
   ]
  },
  {
   "cell_type": "code",
   "execution_count": 103,
   "metadata": {},
   "outputs": [
    {
     "data": {
      "text/plain": [
       "'list'"
      ]
     },
     "execution_count": 103,
     "metadata": {},
     "output_type": "execute_result"
    }
   ],
   "source": [
    "x['a']\n"
   ]
  },
  {
   "cell_type": "code",
   "execution_count": 117,
   "metadata": {},
   "outputs": [
    {
     "data": {
      "text/plain": [
       "{'a': 'dept', 'b': 'order', 'c': 'tuple'}"
      ]
     },
     "execution_count": 117,
     "metadata": {},
     "output_type": "execute_result"
    }
   ],
   "source": [
    "x['a']='dept'\n",
    "x"
   ]
  },
  {
   "cell_type": "code",
   "execution_count": 116,
   "metadata": {},
   "outputs": [
    {
     "data": {
      "text/plain": [
       "2"
      ]
     },
     "execution_count": 116,
     "metadata": {},
     "output_type": "execute_result"
    }
   ],
   "source": [
    "len(a)"
   ]
  },
  {
   "cell_type": "code",
   "execution_count": 128,
   "metadata": {},
   "outputs": [
    {
     "ename": "TypeError",
     "evalue": "pop() takes no arguments (1 given)",
     "output_type": "error",
     "traceback": [
      "\u001b[1;31m---------------------------------------------------------------------------\u001b[0m",
      "\u001b[1;31mTypeError\u001b[0m                                 Traceback (most recent call last)",
      "\u001b[1;32m<ipython-input-128-d2bb3f5d87ef>\u001b[0m in \u001b[0;36m<module>\u001b[1;34m\u001b[0m\n\u001b[1;32m----> 1\u001b[1;33m \u001b[0mx\u001b[0m\u001b[1;33m.\u001b[0m\u001b[0mpop\u001b[0m\u001b[1;33m(\u001b[0m\u001b[1;34m\"a\"\u001b[0m\u001b[1;33m)\u001b[0m\u001b[1;33m\u001b[0m\u001b[1;33m\u001b[0m\u001b[0m\n\u001b[0m",
      "\u001b[1;31mTypeError\u001b[0m: pop() takes no arguments (1 given)"
     ]
    }
   ],
   "source": [
    "x.pop(\"a\")\n"
   ]
  },
  {
   "cell_type": "code",
   "execution_count": 130,
   "metadata": {},
   "outputs": [
    {
     "data": {
      "text/plain": [
       "{'a': 'list', 'b': 'order', 'c': 'tuple'}"
      ]
     },
     "execution_count": 130,
     "metadata": {},
     "output_type": "execute_result"
    }
   ],
   "source": [
    "x = {'a':'list',\n",
    "     'b':'order',\n",
    "     'c':'tuple'}\n",
    "x"
   ]
  },
  {
   "cell_type": "code",
   "execution_count": 131,
   "metadata": {},
   "outputs": [
    {
     "data": {
      "text/plain": [
       "dict_keys(['a', 'b', 'c'])"
      ]
     },
     "execution_count": 131,
     "metadata": {},
     "output_type": "execute_result"
    }
   ],
   "source": [
    "x.keys()"
   ]
  },
  {
   "cell_type": "code",
   "execution_count": 132,
   "metadata": {},
   "outputs": [
    {
     "data": {
      "text/plain": [
       "dict_values(['list', 'order', 'tuple'])"
      ]
     },
     "execution_count": 132,
     "metadata": {},
     "output_type": "execute_result"
    }
   ],
   "source": [
    "x.values()"
   ]
  },
  {
   "cell_type": "code",
   "execution_count": 135,
   "metadata": {},
   "outputs": [],
   "source": [
    "import webbrowser as wb"
   ]
  },
  {
   "cell_type": "code",
   "execution_count": 138,
   "metadata": {},
   "outputs": [
    {
     "data": {
      "text/plain": [
       "True"
      ]
     },
     "execution_count": 138,
     "metadata": {},
     "output_type": "execute_result"
    }
   ],
   "source": [
    "wb.open_new_tab('www.google.com')"
   ]
  },
  {
   "cell_type": "code",
   "execution_count": 1,
   "metadata": {},
   "outputs": [
    {
     "name": "stdout",
     "output_type": "stream",
     "text": [
      "Enter search queryneeraj\n"
     ]
    }
   ],
   "source": [
    "import webbrowser as wb\n",
    "\n",
    "new=1\n",
    "\n",
    "tabUrl = \"http://www.google.com/search?q=\";\n",
    "term = input(\"Enter search query\");\n",
    "wb.open(tabUrl+term,new=new);"
   ]
  },
  {
   "cell_type": "code",
   "execution_count": null,
   "metadata": {},
   "outputs": [],
   "source": [
    "import webbrowser as wb\n",
    "\n",
    "new=1\n",
    "\n",
    "tabUrl = \"http://www.youtube.com/search?q=\";\n",
    "term = input(\"Enter search query\");\n",
    "wb.open(tabUrl+term,new=new);"
   ]
  },
  {
   "cell_type": "code",
   "execution_count": 11,
   "metadata": {},
   "outputs": [
    {
     "name": "stdout",
     "output_type": "stream",
     "text": [
      "Enter 1st number5\n",
      "Enter 2nd number2\n",
      "a is greater than b\n"
     ]
    }
   ],
   "source": [
    "a =int(input(\"Enter 1st number\"))\n",
    "b =int(input(\"Enter 2nd number\"))\n",
    "if(b>a):\n",
    " print(\"b is greater than a\")\n",
    "else:\n",
    " print(\"a is greater than b\")"
   ]
  },
  {
   "cell_type": "code",
   "execution_count": 15,
   "metadata": {},
   "outputs": [
    {
     "name": "stdout",
     "output_type": "stream",
     "text": [
      "Enter 1st number5\n",
      "Enter 2nd number7\n",
      "b is greater than a\n"
     ]
    }
   ],
   "source": [
    "a =int(input(\"Enter 1st number\"))\n",
    "b =int(input(\"Enter 2nd number\"))\n",
    "if(b<a):\n",
    " print(\"a is greater than b\")\n",
    "else:\n",
    " print(\"b is greater than a\")"
   ]
  },
  {
   "cell_type": "code",
   "execution_count": 20,
   "metadata": {},
   "outputs": [
    {
     "name": "stdout",
     "output_type": "stream",
     "text": [
      "a is greater than b\n"
     ]
    }
   ],
   "source": [
    "a =7\n",
    "b =6\n",
    "if(b>a):\n",
    " print(\"b is greater than a\")\n",
    "else:\n",
    " print(\"a is greater than b\")"
   ]
  },
  {
   "cell_type": "code",
   "execution_count": 16,
   "metadata": {},
   "outputs": [
    {
     "name": "stdout",
     "output_type": "stream",
     "text": [
      "enter 1st  number12\n",
      "enter 2nd number34\n",
      "enter 3rd number56\n",
      "a is smaller than c\n"
     ]
    }
   ],
   "source": [
    "a =int(input(\"enter 1st  number\"))\n",
    "b =int(input(\"enter 2nd number\"))\n",
    "c =int(input(\"enter 3rd number\"))\n",
    "if(a>b):\n",
    "    print(\"a is greater than b\")\n",
    "elif(a<c):\n",
    "    print(\"a is smaller than c\")\n",
    "else:\n",
    "    print(\"b is greatest\")\n",
    "    "
   ]
  },
  {
   "cell_type": "code",
   "execution_count": null,
   "metadata": {},
   "outputs": [],
   "source": [
    "a = 1\n",
    "while (a<6):\n",
    "    print(a)\n",
    "a += 1\n",
    "break; "
   ]
  },
  {
   "cell_type": "code",
   "execution_count": 10,
   "metadata": {},
   "outputs": [
    {
     "name": "stdout",
     "output_type": "stream",
     "text": [
      "1\n",
      "3\n",
      "5\n",
      "7\n"
     ]
    }
   ],
   "source": [
    "\n",
    "a = 1\n",
    "while (a<8):\n",
    "    print(a)\n",
    "    a += 2\n",
    "\n"
   ]
  },
  {
   "cell_type": "code",
   "execution_count": 11,
   "metadata": {},
   "outputs": [
    {
     "name": "stdout",
     "output_type": "stream",
     "text": [
      "1\n"
     ]
    }
   ],
   "source": [
    "a = 1\n",
    "while (a<6):\n",
    "    print(a)\n",
    "    a += 2\n",
    "    break;\n"
   ]
  },
  {
   "cell_type": "code",
   "execution_count": 18,
   "metadata": {},
   "outputs": [
    {
     "name": "stdout",
     "output_type": "stream",
     "text": [
      "1\n",
      "2\n",
      "3\n",
      "4\n",
      "5\n"
     ]
    }
   ],
   "source": [
    "i = [1,2,3,4,5]\n",
    "for x in i:\n",
    " print(x)"
   ]
  },
  {
   "cell_type": "code",
   "execution_count": 29,
   "metadata": {},
   "outputs": [
    {
     "name": "stdout",
     "output_type": "stream",
     "text": [
      "n\n",
      "e\n",
      "e\n",
      "r\n",
      "a\n",
      "j\n"
     ]
    }
   ],
   "source": [
    "a = ['neeraj',]\n",
    "for  b in 'neeraj':\n",
    "    print(b)"
   ]
  },
  {
   "cell_type": "code",
   "execution_count": 37,
   "metadata": {},
   "outputs": [
    {
     "data": {
      "text/plain": [
       "['neeraj', 'mohit']"
      ]
     },
     "execution_count": 37,
     "metadata": {},
     "output_type": "execute_result"
    }
   ],
   "source": [
    "a = ['neeraj','mohit']\n",
    "a"
   ]
  },
  {
   "cell_type": "code",
   "execution_count": 40,
   "metadata": {},
   "outputs": [
    {
     "name": "stdout",
     "output_type": "stream",
     "text": [
      "n\n",
      "e\n",
      "e\n",
      "r\n",
      "a\n",
      "j\n"
     ]
    }
   ],
   "source": [
    "for c in 'neeraj':\n",
    "    print(c)\n",
    "    \n",
    "    "
   ]
  },
  {
   "cell_type": "code",
   "execution_count": 41,
   "metadata": {},
   "outputs": [
    {
     "name": "stdout",
     "output_type": "stream",
     "text": [
      "m\n",
      "o\n",
      "h\n",
      "i\n",
      "t\n"
     ]
    }
   ],
   "source": [
    "for d in 'mohit':\n",
    "        print(d)"
   ]
  },
  {
   "cell_type": "code",
   "execution_count": 43,
   "metadata": {},
   "outputs": [
    {
     "name": "stdout",
     "output_type": "stream",
     "text": [
      "n\n",
      "e\n",
      "e\n",
      "r\n",
      "a\n",
      "j\n",
      "m\n",
      "o\n",
      "h\n",
      "i\n",
      "t\n"
     ]
    }
   ],
   "source": [
    "for c in 'neeraj':\n",
    "        print(c)\n",
    "    \n",
    "for d in 'mohit':\n",
    "        print(d)\n",
    "    "
   ]
  },
  {
   "cell_type": "code",
   "execution_count": 9,
   "metadata": {},
   "outputs": [
    {
     "name": "stdout",
     "output_type": "stream",
     "text": [
      "hello world\n"
     ]
    }
   ],
   "source": [
    "def xyz():\n",
    "    print(\"hello world\")\n",
    "xyz()    "
   ]
  },
  {
   "cell_type": "code",
   "execution_count": 25,
   "metadata": {},
   "outputs": [],
   "source": [
    "def xyz():\n",
    "    a = 'neeraj'\n",
    "    print('hello'+a)\n",
    "    "
   ]
  },
  {
   "cell_type": "code",
   "execution_count": 26,
   "metadata": {},
   "outputs": [
    {
     "ename": "NameError",
     "evalue": "name 'a' is not defined",
     "output_type": "error",
     "traceback": [
      "\u001b[1;31m---------------------------------------------------------------------------\u001b[0m",
      "\u001b[1;31mNameError\u001b[0m                                 Traceback (most recent call last)",
      "\u001b[1;32m<ipython-input-26-6c778aa69e59>\u001b[0m in \u001b[0;36m<module>\u001b[1;34m\u001b[0m\n\u001b[1;32m----> 1\u001b[1;33m \u001b[0mxyz\u001b[0m\u001b[1;33m(\u001b[0m\u001b[0ma\u001b[0m\u001b[1;33m)\u001b[0m\u001b[1;33m\u001b[0m\u001b[1;33m\u001b[0m\u001b[0m\n\u001b[0m",
      "\u001b[1;31mNameError\u001b[0m: name 'a' is not defined"
     ]
    }
   ],
   "source": [
    "xyz(a)"
   ]
  },
  {
   "cell_type": "code",
   "execution_count": 31,
   "metadata": {},
   "outputs": [
    {
     "ename": "NameError",
     "evalue": "name 'a' is not defined",
     "output_type": "error",
     "traceback": [
      "\u001b[1;31m---------------------------------------------------------------------------\u001b[0m",
      "\u001b[1;31mNameError\u001b[0m                                 Traceback (most recent call last)",
      "\u001b[1;32m<ipython-input-31-1dc838846e2c>\u001b[0m in \u001b[0;36m<module>\u001b[1;34m\u001b[0m\n\u001b[0;32m      2\u001b[0m     \u001b[0ma\u001b[0m\u001b[1;33m=\u001b[0m\u001b[1;34m'neeraj'\u001b[0m\u001b[1;33m\u001b[0m\u001b[1;33m\u001b[0m\u001b[0m\n\u001b[0;32m      3\u001b[0m     \u001b[0mprint\u001b[0m\u001b[1;33m(\u001b[0m\u001b[1;34m'hello'\u001b[0m\u001b[1;33m+\u001b[0m\u001b[0ma\u001b[0m\u001b[1;33m)\u001b[0m\u001b[1;33m\u001b[0m\u001b[1;33m\u001b[0m\u001b[0m\n\u001b[1;32m----> 4\u001b[1;33m \u001b[0mxyz\u001b[0m\u001b[1;33m(\u001b[0m\u001b[0ma\u001b[0m\u001b[1;33m)\u001b[0m\u001b[1;33m\u001b[0m\u001b[1;33m\u001b[0m\u001b[0m\n\u001b[0m",
      "\u001b[1;31mNameError\u001b[0m: name 'a' is not defined"
     ]
    }
   ],
   "source": [
    "def xyz(a):\n",
    "    a='neeraj'\n",
    "    print('hello'+a)\n",
    "xyz(a)"
   ]
  },
  {
   "cell_type": "code",
   "execution_count": 34,
   "metadata": {},
   "outputs": [
    {
     "ename": "NameError",
     "evalue": "name 'a' is not defined",
     "output_type": "error",
     "traceback": [
      "\u001b[1;31m---------------------------------------------------------------------------\u001b[0m",
      "\u001b[1;31mNameError\u001b[0m                                 Traceback (most recent call last)",
      "\u001b[1;32m<ipython-input-34-9eda52e95522>\u001b[0m in \u001b[0;36m<module>\u001b[1;34m\u001b[0m\n\u001b[0;32m      2\u001b[0m     \u001b[0ma\u001b[0m\u001b[1;33m=\u001b[0m\u001b[1;34m\"neeraj\"\u001b[0m\u001b[1;33m\u001b[0m\u001b[1;33m\u001b[0m\u001b[0m\n\u001b[0;32m      3\u001b[0m     \u001b[0mprint\u001b[0m\u001b[1;33m(\u001b[0m\u001b[1;34m'hello'\u001b[0m\u001b[1;33m+\u001b[0m\u001b[0ma\u001b[0m\u001b[1;33m)\u001b[0m\u001b[1;33m\u001b[0m\u001b[1;33m\u001b[0m\u001b[0m\n\u001b[1;32m----> 4\u001b[1;33m \u001b[0mxyz\u001b[0m\u001b[1;33m(\u001b[0m\u001b[0ma\u001b[0m\u001b[1;33m)\u001b[0m\u001b[1;33m\u001b[0m\u001b[1;33m\u001b[0m\u001b[0m\n\u001b[0m",
      "\u001b[1;31mNameError\u001b[0m: name 'a' is not defined"
     ]
    }
   ],
   "source": [
    "def xyz(a):\n",
    "    a='neeraj'\n",
    "    print('hello'+a)\n",
    "xyz(a)"
   ]
  },
  {
   "cell_type": "code",
   "execution_count": 36,
   "metadata": {},
   "outputs": [],
   "source": [
    "z = ['a,b,c,d,e']\n",
    "def k(z):\n",
    "    print(z)"
   ]
  },
  {
   "cell_type": "code",
   "execution_count": 37,
   "metadata": {},
   "outputs": [
    {
     "name": "stdout",
     "output_type": "stream",
     "text": [
      "['a,b,c,d,e']\n"
     ]
    }
   ],
   "source": [
    "k(z)"
   ]
  },
  {
   "cell_type": "code",
   "execution_count": 42,
   "metadata": {},
   "outputs": [],
   "source": [
    "z = ['a,b,c,d,e']\n",
    "def k(z):\n",
    "    for x in z:\n",
    "        print(z)"
   ]
  },
  {
   "cell_type": "code",
   "execution_count": 43,
   "metadata": {},
   "outputs": [
    {
     "name": "stdout",
     "output_type": "stream",
     "text": [
      "['a,b,c,d,e']\n"
     ]
    }
   ],
   "source": [
    "k(z)"
   ]
  },
  {
   "cell_type": "code",
   "execution_count": 46,
   "metadata": {},
   "outputs": [],
   "source": [
    "a=4\n",
    "b=6\n",
    "def v():\n",
    "    return a+b"
   ]
  },
  {
   "cell_type": "code",
   "execution_count": 47,
   "metadata": {},
   "outputs": [
    {
     "data": {
      "text/plain": [
       "10"
      ]
     },
     "execution_count": 47,
     "metadata": {},
     "output_type": "execute_result"
    }
   ],
   "source": [
    "v()"
   ]
  },
  {
   "cell_type": "code",
   "execution_count": 59,
   "metadata": {},
   "outputs": [
    {
     "name": "stdout",
     "output_type": "stream",
     "text": [
      "10\n",
      "12\n",
      "14\n",
      "16\n",
      "18\n"
     ]
    }
   ],
   "source": [
    "for i in  range (10,20,2):\n",
    "    print(i)\n"
   ]
  },
  {
   "cell_type": "code",
   "execution_count": 60,
   "metadata": {},
   "outputs": [],
   "source": [
    "a=[1,2,3,4]\n",
    "def rng():\n",
    "    return a*5"
   ]
  },
  {
   "cell_type": "code",
   "execution_count": 61,
   "metadata": {},
   "outputs": [
    {
     "data": {
      "text/plain": [
       "[1, 2, 3, 4, 1, 2, 3, 4, 1, 2, 3, 4, 1, 2, 3, 4, 1, 2, 3, 4]"
      ]
     },
     "execution_count": 61,
     "metadata": {},
     "output_type": "execute_result"
    }
   ],
   "source": [
    "rng()"
   ]
  },
  {
   "cell_type": "code",
   "execution_count": 68,
   "metadata": {},
   "outputs": [],
   "source": [
    " import abc"
   ]
  },
  {
   "cell_type": "code",
   "execution_count": 69,
   "metadata": {},
   "outputs": [
    {
     "ename": "AttributeError",
     "evalue": "module 'abc' has no attribute 'a'",
     "output_type": "error",
     "traceback": [
      "\u001b[1;31m---------------------------------------------------------------------------\u001b[0m",
      "\u001b[1;31mAttributeError\u001b[0m                            Traceback (most recent call last)",
      "\u001b[1;32m<ipython-input-69-1595ae52d3f7>\u001b[0m in \u001b[0;36m<module>\u001b[1;34m\u001b[0m\n\u001b[1;32m----> 1\u001b[1;33m \u001b[0mabc\u001b[0m\u001b[1;33m.\u001b[0m\u001b[0ma\u001b[0m\u001b[1;33m(\u001b[0m\u001b[1;34m\"neeraj\"\u001b[0m\u001b[1;33m)\u001b[0m\u001b[1;33m\u001b[0m\u001b[1;33m\u001b[0m\u001b[0m\n\u001b[0m",
      "\u001b[1;31mAttributeError\u001b[0m: module 'abc' has no attribute 'a'"
     ]
    }
   ],
   "source": [
    "abc.a(\"neeraj\")"
   ]
  },
  {
   "cell_type": "code",
   "execution_count": 1,
   "metadata": {},
   "outputs": [],
   "source": [
    " import abc"
   ]
  },
  {
   "cell_type": "code",
   "execution_count": 2,
   "metadata": {},
   "outputs": [
    {
     "ename": "AttributeError",
     "evalue": "module 'abc' has no attribute 'a'",
     "output_type": "error",
     "traceback": [
      "\u001b[1;31m---------------------------------------------------------------------------\u001b[0m",
      "\u001b[1;31mAttributeError\u001b[0m                            Traceback (most recent call last)",
      "\u001b[1;32m<ipython-input-2-1595ae52d3f7>\u001b[0m in \u001b[0;36m<module>\u001b[1;34m\u001b[0m\n\u001b[1;32m----> 1\u001b[1;33m \u001b[0mabc\u001b[0m\u001b[1;33m.\u001b[0m\u001b[0ma\u001b[0m\u001b[1;33m(\u001b[0m\u001b[1;34m\"neeraj\"\u001b[0m\u001b[1;33m)\u001b[0m\u001b[1;33m\u001b[0m\u001b[1;33m\u001b[0m\u001b[0m\n\u001b[0m",
      "\u001b[1;31mAttributeError\u001b[0m: module 'abc' has no attribute 'a'"
     ]
    }
   ],
   "source": [
    "abc.a(\"neeraj\")"
   ]
  },
  {
   "cell_type": "code",
   "execution_count": 3,
   "metadata": {},
   "outputs": [],
   "source": [
    "import abc"
   ]
  },
  {
   "cell_type": "code",
   "execution_count": 29,
   "metadata": {},
   "outputs": [
    {
     "ename": "SyntaxError",
     "evalue": "invalid syntax (<ipython-input-29-a7cb2a579ce0>, line 1)",
     "output_type": "error",
     "traceback": [
      "\u001b[1;36m  File \u001b[1;32m\"<ipython-input-29-a7cb2a579ce0>\"\u001b[1;36m, line \u001b[1;32m1\u001b[0m\n\u001b[1;33m    import dt.datetime.\u001b[0m\n\u001b[1;37m                       ^\u001b[0m\n\u001b[1;31mSyntaxError\u001b[0m\u001b[1;31m:\u001b[0m invalid syntax\n"
     ]
    }
   ],
   "source": [
    "import dt.datetime.\n",
    "import"
   ]
  },
  {
   "cell_type": "code",
   "execution_count": 23,
   "metadata": {},
   "outputs": [],
   "source": [
    "import time"
   ]
  },
  {
   "cell_type": "code",
   "execution_count": 30,
   "metadata": {},
   "outputs": [],
   "source": [
    "import time"
   ]
  },
  {
   "cell_type": "code",
   "execution_count": 31,
   "metadata": {},
   "outputs": [
    {
     "ename": "AttributeError",
     "evalue": "module 'abc' has no attribute 'a'",
     "output_type": "error",
     "traceback": [
      "\u001b[1;31m---------------------------------------------------------------------------\u001b[0m",
      "\u001b[1;31mAttributeError\u001b[0m                            Traceback (most recent call last)",
      "\u001b[1;32m<ipython-input-31-962833c81ab5>\u001b[0m in \u001b[0;36m<module>\u001b[1;34m\u001b[0m\n\u001b[0;32m      1\u001b[0m \u001b[1;32mimport\u001b[0m \u001b[0mabc\u001b[0m\u001b[1;33m\u001b[0m\u001b[1;33m\u001b[0m\u001b[0m\n\u001b[1;32m----> 2\u001b[1;33m \u001b[0mabc\u001b[0m\u001b[1;33m.\u001b[0m\u001b[0ma\u001b[0m\u001b[1;33m(\u001b[0m\u001b[1;33m)\u001b[0m\u001b[1;33m\u001b[0m\u001b[1;33m\u001b[0m\u001b[0m\n\u001b[0m",
      "\u001b[1;31mAttributeError\u001b[0m: module 'abc' has no attribute 'a'"
     ]
    }
   ],
   "source": [
    "import abc\n",
    "abc.a()"
   ]
  },
  {
   "cell_type": "code",
   "execution_count": 32,
   "metadata": {},
   "outputs": [],
   "source": [
    "import abc"
   ]
  },
  {
   "cell_type": "code",
   "execution_count": 33,
   "metadata": {},
   "outputs": [
    {
     "ename": "AttributeError",
     "evalue": "module 'abc' has no attribute 'a'",
     "output_type": "error",
     "traceback": [
      "\u001b[1;31m---------------------------------------------------------------------------\u001b[0m",
      "\u001b[1;31mAttributeError\u001b[0m                            Traceback (most recent call last)",
      "\u001b[1;32m<ipython-input-33-c990e97de36a>\u001b[0m in \u001b[0;36m<module>\u001b[1;34m\u001b[0m\n\u001b[1;32m----> 1\u001b[1;33m \u001b[0mabc\u001b[0m\u001b[1;33m.\u001b[0m\u001b[0ma\u001b[0m\u001b[1;33m(\u001b[0m\u001b[1;33m)\u001b[0m\u001b[1;33m\u001b[0m\u001b[1;33m\u001b[0m\u001b[0m\n\u001b[0m",
      "\u001b[1;31mAttributeError\u001b[0m: module 'abc' has no attribute 'a'"
     ]
    }
   ],
   "source": [
    "abc.a()"
   ]
  },
  {
   "cell_type": "code",
   "execution_count": 1,
   "metadata": {},
   "outputs": [],
   "source": [
    "import abc"
   ]
  },
  {
   "cell_type": "code",
   "execution_count": 1,
   "metadata": {},
   "outputs": [
    {
     "ename": "SyntaxError",
     "evalue": "invalid syntax (<ipython-input-1-55d1958c96ea>, line 2)",
     "output_type": "error",
     "traceback": [
      "\u001b[1;36m  File \u001b[1;32m\"<ipython-input-1-55d1958c96ea>\"\u001b[1;36m, line \u001b[1;32m2\u001b[0m\n\u001b[1;33m    except:\u001b[0m\n\u001b[1;37m         ^\u001b[0m\n\u001b[1;31mSyntaxError\u001b[0m\u001b[1;31m:\u001b[0m invalid syntax\n"
     ]
    }
   ],
   "source": [
    "print(x)\n",
    "except:\n",
    "    print(\"an exception occured\")"
   ]
  },
  {
   "cell_type": "code",
   "execution_count": 12,
   "metadata": {},
   "outputs": [
    {
     "name": "stdout",
     "output_type": "stream",
     "text": [
      "error\n"
     ]
    }
   ],
   "source": [
    "try:\n",
    "    print(0/0)\n",
    "except:\n",
    "        print(\"error\")\n"
   ]
  },
  {
   "cell_type": "code",
   "execution_count": 13,
   "metadata": {},
   "outputs": [
    {
     "name": "stdout",
     "output_type": "stream",
     "text": [
      "error\n",
      "not possible\n"
     ]
    }
   ],
   "source": [
    "try:\n",
    "    print(0/0)\n",
    "except:\n",
    "        print(\"error\")\n",
    "finally:\n",
    "        print(\"not possible\")\n"
   ]
  },
  {
   "cell_type": "code",
   "execution_count": 21,
   "metadata": {},
   "outputs": [
    {
     "ename": "IndentationError",
     "evalue": "expected an indented block (mymodule.py, line 2)",
     "output_type": "error",
     "traceback": [
      "Traceback \u001b[1;36m(most recent call last)\u001b[0m:\n",
      "  File \u001b[0;32m\"C:\\Users\\db2admin\\Anaconda3\\lib\\site-packages\\IPython\\core\\interactiveshell.py\"\u001b[0m, line \u001b[0;32m3296\u001b[0m, in \u001b[0;35mrun_code\u001b[0m\n    exec(code_obj, self.user_global_ns, self.user_ns)\n",
      "\u001b[1;36m  File \u001b[1;32m\"<ipython-input-21-789c0ce43099>\"\u001b[1;36m, line \u001b[1;32m1\u001b[1;36m, in \u001b[1;35m<module>\u001b[1;36m\u001b[0m\n\u001b[1;33m    import mymodule\u001b[0m\n",
      "\u001b[1;36m  File \u001b[1;32m\"C:\\Users\\db2admin\\Desktop\\neeraj python\\mymodule.py\"\u001b[1;36m, line \u001b[1;32m2\u001b[0m\n\u001b[1;33m    print(\"Hello\"+name)\u001b[0m\n\u001b[1;37m        ^\u001b[0m\n\u001b[1;31mIndentationError\u001b[0m\u001b[1;31m:\u001b[0m expected an indented block\n"
     ]
    }
   ],
   "source": [
    "import mymodule"
   ]
  },
  {
   "cell_type": "code",
   "execution_count": 28,
   "metadata": {},
   "outputs": [
    {
     "ename": "NameError",
     "evalue": "name 'mymodule' is not defined",
     "output_type": "error",
     "traceback": [
      "\u001b[1;31m---------------------------------------------------------------------------\u001b[0m",
      "\u001b[1;31mNameError\u001b[0m                                 Traceback (most recent call last)",
      "\u001b[1;32m<ipython-input-28-49a52757884b>\u001b[0m in \u001b[0;36m<module>\u001b[1;34m\u001b[0m\n\u001b[1;32m----> 1\u001b[1;33m \u001b[0mmymodule\u001b[0m\u001b[1;33m.\u001b[0m\u001b[0mgreeting\u001b[0m\u001b[1;33m(\u001b[0m\u001b[1;34m\"neeraj\"\u001b[0m\u001b[1;33m)\u001b[0m\u001b[1;33m\u001b[0m\u001b[1;33m\u001b[0m\u001b[0m\n\u001b[0m",
      "\u001b[1;31mNameError\u001b[0m: name 'mymodule' is not defined"
     ]
    }
   ],
   "source": [
    "mymodule.greeting(\"neeraj\")"
   ]
  },
  {
   "cell_type": "code",
   "execution_count": 22,
   "metadata": {},
   "outputs": [],
   "source": [
    "import os"
   ]
  },
  {
   "cell_type": "code",
   "execution_count": 26,
   "metadata": {},
   "outputs": [
    {
     "data": {
      "text/plain": [
       "0"
      ]
     },
     "execution_count": 26,
     "metadata": {},
     "output_type": "execute_result"
    }
   ],
   "source": [
    "os.system('mkdir neeraj')"
   ]
  },
  {
   "cell_type": "code",
   "execution_count": 24,
   "metadata": {},
   "outputs": [
    {
     "data": {
      "text/plain": [
       "0"
      ]
     },
     "execution_count": 24,
     "metadata": {},
     "output_type": "execute_result"
    }
   ],
   "source": [
    "os.system('dir')"
   ]
  },
  {
   "cell_type": "code",
   "execution_count": 27,
   "metadata": {},
   "outputs": [
    {
     "data": {
      "text/plain": [
       "0"
      ]
     },
     "execution_count": 27,
     "metadata": {},
     "output_type": "execute_result"
    }
   ],
   "source": [
    "os.system('rmdir neeraj')"
   ]
  },
  {
   "cell_type": "code",
   "execution_count": 29,
   "metadata": {},
   "outputs": [],
   "source": [
    "f = open('nakul.txt','w')"
   ]
  },
  {
   "cell_type": "code",
   "execution_count": 30,
   "metadata": {},
   "outputs": [
    {
     "data": {
      "text/plain": [
       "16"
      ]
     },
     "execution_count": 30,
     "metadata": {},
     "output_type": "execute_result"
    }
   ],
   "source": [
    "f.write('nakul khandelwal')"
   ]
  },
  {
   "cell_type": "code",
   "execution_count": 32,
   "metadata": {},
   "outputs": [],
   "source": [
    "f.close()"
   ]
  },
  {
   "cell_type": "code",
   "execution_count": 33,
   "metadata": {},
   "outputs": [],
   "source": [
    "f = open('nakul.txt','r')"
   ]
  },
  {
   "cell_type": "code",
   "execution_count": 48,
   "metadata": {},
   "outputs": [],
   "source": [
    "f.read()\n",
    "f.close()"
   ]
  },
  {
   "cell_type": "code",
   "execution_count": 38,
   "metadata": {},
   "outputs": [],
   "source": [
    "import os"
   ]
  },
  {
   "cell_type": "code",
   "execution_count": 49,
   "metadata": {},
   "outputs": [],
   "source": [
    "os.remove('nakul.txt')"
   ]
  },
  {
   "cell_type": "code",
   "execution_count": 50,
   "metadata": {},
   "outputs": [],
   "source": [
    "import re"
   ]
  },
  {
   "cell_type": "code",
   "execution_count": 51,
   "metadata": {},
   "outputs": [],
   "source": [
    "a =\"i'm with you\""
   ]
  },
  {
   "cell_type": "code",
   "execution_count": 57,
   "metadata": {},
   "outputs": [],
   "source": [
    "re.search(\"^i'm*with you$\", a)\n"
   ]
  },
  {
   "cell_type": "code",
   "execution_count": 8,
   "metadata": {},
   "outputs": [
    {
     "ename": "NameError",
     "evalue": "name 'a' is not defined",
     "output_type": "error",
     "traceback": [
      "\u001b[1;31m---------------------------------------------------------------------------\u001b[0m",
      "\u001b[1;31mNameError\u001b[0m                                 Traceback (most recent call last)",
      "\u001b[1;32m<ipython-input-8-fe842b7425e9>\u001b[0m in \u001b[0;36m<module>\u001b[1;34m\u001b[0m\n\u001b[1;32m----> 1\u001b[1;33m \u001b[1;32mif\u001b[0m\u001b[1;33m(\u001b[0m\u001b[0ma\u001b[0m\u001b[1;33m)\u001b[0m\u001b[1;33m:\u001b[0m\u001b[1;33m\u001b[0m\u001b[1;33m\u001b[0m\u001b[0m\n\u001b[0m\u001b[0;32m      2\u001b[0m   \u001b[0mprint\u001b[0m\u001b[1;33m(\u001b[0m\u001b[1;34m\"YES! We have a match!\"\u001b[0m\u001b[1;33m)\u001b[0m\u001b[1;33m\u001b[0m\u001b[1;33m\u001b[0m\u001b[0m\n\u001b[0;32m      3\u001b[0m \u001b[1;32melse\u001b[0m\u001b[1;33m:\u001b[0m\u001b[1;33m\u001b[0m\u001b[1;33m\u001b[0m\u001b[0m\n\u001b[0;32m      4\u001b[0m   \u001b[0mprint\u001b[0m\u001b[1;33m(\u001b[0m\u001b[1;34m\"No match\"\u001b[0m\u001b[1;33m)\u001b[0m\u001b[1;33m\u001b[0m\u001b[1;33m\u001b[0m\u001b[0m\n",
      "\u001b[1;31mNameError\u001b[0m: name 'a' is not defined"
     ]
    }
   ],
   "source": [
    "if(a):\n",
    "  print(\"YES! We have a match!\")\n",
    "else:\n",
    "  print(\"No match\")\n"
   ]
  },
  {
   "cell_type": "code",
   "execution_count": 9,
   "metadata": {},
   "outputs": [
    {
     "name": "stdout",
     "output_type": "stream",
     "text": [
      "Requirement already satisfied: pyqrcode in c:\\users\\db2admin\\anaconda3\\lib\\site-packages (1.2.1)\n",
      "Note: you may need to restart the kernel to use updated packages.\n"
     ]
    }
   ],
   "source": [
    "pip install pyqrcode"
   ]
  },
  {
   "cell_type": "code",
   "execution_count": 1,
   "metadata": {},
   "outputs": [],
   "source": [
    "import pyqrcode as df"
   ]
  },
  {
   "cell_type": "code",
   "execution_count": 2,
   "metadata": {},
   "outputs": [
    {
     "ename": "ModuleNotFoundError",
     "evalue": "No module named 'png'",
     "output_type": "error",
     "traceback": [
      "\u001b[1;31m---------------------------------------------------------------------------\u001b[0m",
      "\u001b[1;31mModuleNotFoundError\u001b[0m                       Traceback (most recent call last)",
      "\u001b[1;32m<ipython-input-2-cbea30231622>\u001b[0m in \u001b[0;36m<module>\u001b[1;34m\u001b[0m\n\u001b[0;32m      1\u001b[0m \u001b[0ma\u001b[0m\u001b[1;33m=\u001b[0m\u001b[0mdf\u001b[0m\u001b[1;33m.\u001b[0m\u001b[0mcreate\u001b[0m\u001b[1;33m(\u001b[0m\u001b[1;34m\"9571061885\"\u001b[0m\u001b[1;33m)\u001b[0m\u001b[1;33m\u001b[0m\u001b[1;33m\u001b[0m\u001b[0m\n\u001b[1;32m----> 2\u001b[1;33m \u001b[0ma\u001b[0m\u001b[1;33m.\u001b[0m\u001b[0mpng\u001b[0m\u001b[1;33m(\u001b[0m\u001b[1;34m\"b.png\"\u001b[0m\u001b[1;33m)\u001b[0m\u001b[1;33m\u001b[0m\u001b[1;33m\u001b[0m\u001b[0m\n\u001b[0m",
      "\u001b[1;32m~\\Anaconda3\\lib\\site-packages\\pyqrcode\\__init__.py\u001b[0m in \u001b[0;36mpng\u001b[1;34m(self, file, scale, module_color, background, quiet_zone)\u001b[0m\n\u001b[0;32m    461\u001b[0m         \"\"\"\n\u001b[0;32m    462\u001b[0m         builder._png(self.code, self.version, file, scale,\n\u001b[1;32m--> 463\u001b[1;33m                      module_color, background, quiet_zone)\n\u001b[0m\u001b[0;32m    464\u001b[0m \u001b[1;33m\u001b[0m\u001b[0m\n\u001b[0;32m    465\u001b[0m     def png_as_base64_str(self, scale=1, module_color=(0, 0, 0, 255),\n",
      "\u001b[1;32m~\\Anaconda3\\lib\\site-packages\\pyqrcode\\builder.py\u001b[0m in \u001b[0;36m_png\u001b[1;34m(code, version, file, scale, module_color, background, quiet_zone, debug)\u001b[0m\n\u001b[0;32m   1264\u001b[0m             modules) to the output (default: ``False``).\n\u001b[0;32m   1265\u001b[0m     \"\"\"\n\u001b[1;32m-> 1266\u001b[1;33m     \u001b[1;32mimport\u001b[0m \u001b[0mpng\u001b[0m\u001b[1;33m\u001b[0m\u001b[1;33m\u001b[0m\u001b[0m\n\u001b[0m\u001b[0;32m   1267\u001b[0m \u001b[1;33m\u001b[0m\u001b[0m\n\u001b[0;32m   1268\u001b[0m     \u001b[1;31m# Coerce scale parameter into an integer\u001b[0m\u001b[1;33m\u001b[0m\u001b[1;33m\u001b[0m\u001b[1;33m\u001b[0m\u001b[0m\n",
      "\u001b[1;31mModuleNotFoundError\u001b[0m: No module named 'png'"
     ]
    }
   ],
   "source": [
    "a=df.create(\"9571061885\")\n",
    "a.png(\"b.png\")"
   ]
  },
  {
   "cell_type": "code",
   "execution_count": 3,
   "metadata": {},
   "outputs": [
    {
     "name": "stdout",
     "output_type": "stream",
     "text": [
      "Requirement already satisfied: pyqrcode in c:\\users\\db2admin\\anaconda3\\lib\\site-packages (1.2.1)\n",
      "Note: you may need to restart the kernel to use updated packages.\n"
     ]
    }
   ],
   "source": [
    "pip install pyqrcode"
   ]
  },
  {
   "cell_type": "code",
   "execution_count": 4,
   "metadata": {},
   "outputs": [],
   "source": [
    "import pyqrcode as df\n"
   ]
  },
  {
   "cell_type": "code",
   "execution_count": 5,
   "metadata": {},
   "outputs": [
    {
     "ename": "ModuleNotFoundError",
     "evalue": "No module named 'png'",
     "output_type": "error",
     "traceback": [
      "\u001b[1;31m---------------------------------------------------------------------------\u001b[0m",
      "\u001b[1;31mModuleNotFoundError\u001b[0m                       Traceback (most recent call last)",
      "\u001b[1;32m<ipython-input-5-cbea30231622>\u001b[0m in \u001b[0;36m<module>\u001b[1;34m\u001b[0m\n\u001b[0;32m      1\u001b[0m \u001b[0ma\u001b[0m\u001b[1;33m=\u001b[0m\u001b[0mdf\u001b[0m\u001b[1;33m.\u001b[0m\u001b[0mcreate\u001b[0m\u001b[1;33m(\u001b[0m\u001b[1;34m\"9571061885\"\u001b[0m\u001b[1;33m)\u001b[0m\u001b[1;33m\u001b[0m\u001b[1;33m\u001b[0m\u001b[0m\n\u001b[1;32m----> 2\u001b[1;33m \u001b[0ma\u001b[0m\u001b[1;33m.\u001b[0m\u001b[0mpng\u001b[0m\u001b[1;33m(\u001b[0m\u001b[1;34m\"b.png\"\u001b[0m\u001b[1;33m)\u001b[0m\u001b[1;33m\u001b[0m\u001b[1;33m\u001b[0m\u001b[0m\n\u001b[0m",
      "\u001b[1;32m~\\Anaconda3\\lib\\site-packages\\pyqrcode\\__init__.py\u001b[0m in \u001b[0;36mpng\u001b[1;34m(self, file, scale, module_color, background, quiet_zone)\u001b[0m\n\u001b[0;32m    461\u001b[0m         \"\"\"\n\u001b[0;32m    462\u001b[0m         builder._png(self.code, self.version, file, scale,\n\u001b[1;32m--> 463\u001b[1;33m                      module_color, background, quiet_zone)\n\u001b[0m\u001b[0;32m    464\u001b[0m \u001b[1;33m\u001b[0m\u001b[0m\n\u001b[0;32m    465\u001b[0m     def png_as_base64_str(self, scale=1, module_color=(0, 0, 0, 255),\n",
      "\u001b[1;32m~\\Anaconda3\\lib\\site-packages\\pyqrcode\\builder.py\u001b[0m in \u001b[0;36m_png\u001b[1;34m(code, version, file, scale, module_color, background, quiet_zone, debug)\u001b[0m\n\u001b[0;32m   1264\u001b[0m             modules) to the output (default: ``False``).\n\u001b[0;32m   1265\u001b[0m     \"\"\"\n\u001b[1;32m-> 1266\u001b[1;33m     \u001b[1;32mimport\u001b[0m \u001b[0mpng\u001b[0m\u001b[1;33m\u001b[0m\u001b[1;33m\u001b[0m\u001b[0m\n\u001b[0m\u001b[0;32m   1267\u001b[0m \u001b[1;33m\u001b[0m\u001b[0m\n\u001b[0;32m   1268\u001b[0m     \u001b[1;31m# Coerce scale parameter into an integer\u001b[0m\u001b[1;33m\u001b[0m\u001b[1;33m\u001b[0m\u001b[1;33m\u001b[0m\u001b[0m\n",
      "\u001b[1;31mModuleNotFoundError\u001b[0m: No module named 'png'"
     ]
    }
   ],
   "source": [
    "a=df.create(\"9571061885\")\n",
    "a.png(\"b.png\")"
   ]
  },
  {
   "cell_type": "code",
   "execution_count": 1,
   "metadata": {},
   "outputs": [
    {
     "ename": "ModuleNotFoundError",
     "evalue": "No module named 'mysql'",
     "output_type": "error",
     "traceback": [
      "\u001b[1;31m---------------------------------------------------------------------------\u001b[0m",
      "\u001b[1;31mModuleNotFoundError\u001b[0m                       Traceback (most recent call last)",
      "\u001b[1;32m<ipython-input-1-2a6a0e886d88>\u001b[0m in \u001b[0;36m<module>\u001b[1;34m\u001b[0m\n\u001b[1;32m----> 1\u001b[1;33m \u001b[1;32mimport\u001b[0m \u001b[0mmysql\u001b[0m\u001b[1;33m.\u001b[0m\u001b[0mconnector\u001b[0m\u001b[1;33m\u001b[0m\u001b[1;33m\u001b[0m\u001b[0m\n\u001b[0m\u001b[0;32m      2\u001b[0m \u001b[1;33m\u001b[0m\u001b[0m\n\u001b[0;32m      3\u001b[0m mydb = mysql.connector.connect(\n\u001b[0;32m      4\u001b[0m   \u001b[0mhost\u001b[0m\u001b[1;33m=\u001b[0m\u001b[1;34m\"localhost\"\u001b[0m\u001b[1;33m,\u001b[0m\u001b[1;33m\u001b[0m\u001b[1;33m\u001b[0m\u001b[0m\n\u001b[0;32m      5\u001b[0m   \u001b[0muser\u001b[0m\u001b[1;33m=\u001b[0m\u001b[1;34m\"myusername\"\u001b[0m\u001b[1;33m,\u001b[0m\u001b[1;33m\u001b[0m\u001b[1;33m\u001b[0m\u001b[0m\n",
      "\u001b[1;31mModuleNotFoundError\u001b[0m: No module named 'mysql'"
     ]
    }
   ],
   "source": [
    "import mysql.connector\n",
    "\n",
    "mydb = mysql.connector.connect(\n",
    "  host=\"localhost\",\n",
    "  user=\"myusername\",\n",
    "  passwd=\"mypassword\"\n",
    ")\n",
    "\n",
    "mycursor = mydb.cursor()\n",
    "\n",
    "mycursor.execute(\"CREATE DATABASE mydatabase\")\n"
   ]
  },
  {
   "cell_type": "code",
   "execution_count": 2,
   "metadata": {},
   "outputs": [
    {
     "name": "stdout",
     "output_type": "stream",
     "text": [
      "Collecting mysql.connecter\n",
      "Note: you may need to restart the kernel to use updated packages.\n"
     ]
    },
    {
     "name": "stderr",
     "output_type": "stream",
     "text": [
      "  Could not find a version that satisfies the requirement mysql.connecter (from versions: )\n",
      "No matching distribution found for mysql.connecter\n"
     ]
    }
   ],
   "source": [
    "pip install mysql.connecter"
   ]
  },
  {
   "cell_type": "code",
   "execution_count": 3,
   "metadata": {},
   "outputs": [
    {
     "ename": "ModuleNotFoundError",
     "evalue": "No module named 'mysql'",
     "output_type": "error",
     "traceback": [
      "\u001b[1;31m---------------------------------------------------------------------------\u001b[0m",
      "\u001b[1;31mModuleNotFoundError\u001b[0m                       Traceback (most recent call last)",
      "\u001b[1;32m<ipython-input-3-2a6a0e886d88>\u001b[0m in \u001b[0;36m<module>\u001b[1;34m\u001b[0m\n\u001b[1;32m----> 1\u001b[1;33m \u001b[1;32mimport\u001b[0m \u001b[0mmysql\u001b[0m\u001b[1;33m.\u001b[0m\u001b[0mconnector\u001b[0m\u001b[1;33m\u001b[0m\u001b[1;33m\u001b[0m\u001b[0m\n\u001b[0m\u001b[0;32m      2\u001b[0m \u001b[1;33m\u001b[0m\u001b[0m\n\u001b[0;32m      3\u001b[0m mydb = mysql.connector.connect(\n\u001b[0;32m      4\u001b[0m   \u001b[0mhost\u001b[0m\u001b[1;33m=\u001b[0m\u001b[1;34m\"localhost\"\u001b[0m\u001b[1;33m,\u001b[0m\u001b[1;33m\u001b[0m\u001b[1;33m\u001b[0m\u001b[0m\n\u001b[0;32m      5\u001b[0m   \u001b[0muser\u001b[0m\u001b[1;33m=\u001b[0m\u001b[1;34m\"myusername\"\u001b[0m\u001b[1;33m,\u001b[0m\u001b[1;33m\u001b[0m\u001b[1;33m\u001b[0m\u001b[0m\n",
      "\u001b[1;31mModuleNotFoundError\u001b[0m: No module named 'mysql'"
     ]
    }
   ],
   "source": [
    "import mysql.connector\n",
    "\n",
    "mydb = mysql.connector.connect(\n",
    "  host=\"localhost\",\n",
    "  user=\"myusername\",\n",
    "  passwd=\"mypassword\"\n",
    ")\n",
    "\n",
    "mycursor = mydb.cursor()\n",
    "\n",
    "mycursor.execute(\"CREATE DATABASE mydatabase\")\n"
   ]
  },
  {
   "cell_type": "code",
   "execution_count": 1,
   "metadata": {},
   "outputs": [
    {
     "ename": "ModuleNotFoundError",
     "evalue": "No module named 'mysql'",
     "output_type": "error",
     "traceback": [
      "\u001b[1;31m---------------------------------------------------------------------------\u001b[0m",
      "\u001b[1;31mModuleNotFoundError\u001b[0m                       Traceback (most recent call last)",
      "\u001b[1;32m<ipython-input-1-2a6a0e886d88>\u001b[0m in \u001b[0;36m<module>\u001b[1;34m\u001b[0m\n\u001b[1;32m----> 1\u001b[1;33m \u001b[1;32mimport\u001b[0m \u001b[0mmysql\u001b[0m\u001b[1;33m.\u001b[0m\u001b[0mconnector\u001b[0m\u001b[1;33m\u001b[0m\u001b[1;33m\u001b[0m\u001b[0m\n\u001b[0m\u001b[0;32m      2\u001b[0m \u001b[1;33m\u001b[0m\u001b[0m\n\u001b[0;32m      3\u001b[0m mydb = mysql.connector.connect(\n\u001b[0;32m      4\u001b[0m   \u001b[0mhost\u001b[0m\u001b[1;33m=\u001b[0m\u001b[1;34m\"localhost\"\u001b[0m\u001b[1;33m,\u001b[0m\u001b[1;33m\u001b[0m\u001b[1;33m\u001b[0m\u001b[0m\n\u001b[0;32m      5\u001b[0m   \u001b[0muser\u001b[0m\u001b[1;33m=\u001b[0m\u001b[1;34m\"myusername\"\u001b[0m\u001b[1;33m,\u001b[0m\u001b[1;33m\u001b[0m\u001b[1;33m\u001b[0m\u001b[0m\n",
      "\u001b[1;31mModuleNotFoundError\u001b[0m: No module named 'mysql'"
     ]
    }
   ],
   "source": [
    "import mysql.connector\n",
    "\n",
    "mydb = mysql.connector.connect(\n",
    "  host=\"localhost\",\n",
    "  user=\"myusername\",\n",
    "  passwd=\"mypassword\"\n",
    ")\n",
    "\n",
    "mycursor = mydb.cursor()\n",
    "\n",
    "mycursor.execute(\"CREATE DATABASE mydatabase\")\n"
   ]
  },
  {
   "cell_type": "code",
   "execution_count": 42,
   "metadata": {},
   "outputs": [],
   "source": [
    "def kv(a):\n",
    "    print(\"hello world\")\n",
    "    "
   ]
  },
  {
   "cell_type": "code",
   "execution_count": 43,
   "metadata": {},
   "outputs": [],
   "source": [
    "def nk(b):\n",
    "    print(\"hi world\")\n",
    "   "
   ]
  },
  {
   "cell_type": "code",
   "execution_count": 44,
   "metadata": {},
   "outputs": [],
   "source": [
    "import threading"
   ]
  },
  {
   "cell_type": "code",
   "execution_count": 45,
   "metadata": {},
   "outputs": [
    {
     "name": "stdout",
     "output_type": "stream",
     "text": [
      "hi world\n",
      "hello world\n"
     ]
    }
   ],
   "source": [
    " \n",
    "if __name__=='__main__':\n",
    "    t1= threading.Thread(target=nk,args=(5,))\n",
    "    t2= threading.Thread(target=kv,args=(6,))\n",
    "    t1.start()\n",
    "    t2.start()\n",
    "    t1.join()\n",
    "    t2.join()\n",
    "    "
   ]
  },
  {
   "cell_type": "code",
   "execution_count": 42,
   "metadata": {},
   "outputs": [],
   "source": [
    "def ms(vs):\n",
    "    print(vs)"
   ]
  },
  {
   "cell_type": "code",
   "execution_count": 46,
   "metadata": {},
   "outputs": [],
   "source": [
    "def nk(nk):\n",
    "    print(nk)"
   ]
  },
  {
   "cell_type": "code",
   "execution_count": 47,
   "metadata": {},
   "outputs": [],
   "source": [
    "import threading"
   ]
  },
  {
   "cell_type": "code",
   "execution_count": 48,
   "metadata": {},
   "outputs": [
    {
     "name": "stdout",
     "output_type": "stream",
     "text": [
      "5\n",
      "6\n"
     ]
    }
   ],
   "source": [
    "if __name__=='__main__':\n",
    "    t1= threading.Thread(target=ms,args=(5,))\n",
    "    t2= threading.Thread(target=nk,args=(6,))\n",
    "    t1.start()\n",
    "    t2.start()\n",
    "    t1.join()\n",
    "    t2.join()\n",
    "    "
   ]
  },
  {
   "cell_type": "code",
   "execution_count": 49,
   "metadata": {},
   "outputs": [],
   "source": [
    "def nn(time):\n",
    "    print(time)\n",
    "    import time\n",
    "    print(time.ctime())"
   ]
  },
  {
   "cell_type": "code",
   "execution_count": 63,
   "metadata": {},
   "outputs": [],
   "source": [
    "def ms(vs):\n",
    "    print(vs)\n",
    "    a =1 \n",
    "    b =2 \n",
    "    c =3\n",
    "    if(a>b):\n",
    "        print(\"a is greater than b\")\n",
    "    elif(a<c):\n",
    "        print(\"a is smaller than c\")\n",
    "    else:\n",
    "        print(\"b is greatest\")\n"
   ]
  },
  {
   "cell_type": "code",
   "execution_count": 64,
   "metadata": {},
   "outputs": [],
   "source": [
    "import threading"
   ]
  },
  {
   "cell_type": "code",
   "execution_count": 65,
   "metadata": {},
   "outputs": [
    {
     "name": "stdout",
     "output_type": "stream",
     "text": [
      "5\n",
      "a is smaller than c\n",
      "6\n",
      "Sat Jun 29 00:51:32 2019\n"
     ]
    }
   ],
   "source": [
    "if __name__=='__main__':\n",
    "    t1= threading.Thread(target=ms,args=(5,))\n",
    "    t2= threading.Thread(target=nn,args=(6,))\n",
    "    t1.start()\n",
    "    t2.start()\n",
    "    t1.join()\n",
    "    t2.join()\n",
    "    "
   ]
  },
  {
   "cell_type": "code",
   "execution_count": 67,
   "metadata": {},
   "outputs": [],
   "source": [
    " z = ['a,b,c,d,e']\n",
    "def ks(z):\n",
    "    print(z)"
   ]
  },
  {
   "cell_type": "code",
   "execution_count": 68,
   "metadata": {},
   "outputs": [
    {
     "name": "stdout",
     "output_type": "stream",
     "text": [
      "5\n",
      "a is smaller than c\n",
      "6\n",
      "Sat Jun 29 00:54:18 2019\n",
      "7\n"
     ]
    }
   ],
   "source": [
    "if __name__=='__main__':\n",
    "    t1= threading.Thread(target=ms,args=(5,))\n",
    "    t2= threading.Thread(target=nn,args=(6,))\n",
    "    t3= threading.Thread(target=ks,args=(7,))\n",
    "    t1.start()\n",
    "    t2.start()\n",
    "    t3.start()\n",
    "    t1.join()\n",
    "    t2.join()\n",
    "    t3.join()\n",
    "    "
   ]
  },
  {
   "cell_type": "code",
   "execution_count": 79,
   "metadata": {},
   "outputs": [],
   "source": [
    "def cj(gg):\n",
    "    print(gg)\n",
    "    try:\n",
    "        print(0/0)\n",
    "    except:\n",
    "        print(\"error\")\n",
    "    finally:\n",
    "        print(\"not possible\")\n"
   ]
  },
  {
   "cell_type": "code",
   "execution_count": 80,
   "metadata": {},
   "outputs": [
    {
     "name": "stdout",
     "output_type": "stream",
     "text": [
      "5\n",
      "a is smaller than c\n",
      "6\n",
      "Sat Jun 29 01:02:54 2019\n",
      "7\n",
      "8\n",
      "error\n",
      "not possible\n"
     ]
    }
   ],
   "source": [
    "if __name__=='__main__':\n",
    "    t1= threading.Thread(target=ms,args=(5,))\n",
    "    t2= threading.Thread(target=nn,args=(6,))\n",
    "    t3= threading.Thread(target=ks,args=(7,))\n",
    "    t4= threading.Thread(target=cj,args=(8,))\n",
    "    t1.start()\n",
    "    t2.start()\n",
    "    t3.start()\n",
    "    t4.start()\n",
    "    t1.join()\n",
    "    t2.join()\n",
    "    t3.join()\n",
    "    t4.join()\n",
    "    "
   ]
  },
  {
   "cell_type": "code",
   "execution_count": 86,
   "metadata": {},
   "outputs": [
    {
     "name": "stdout",
     "output_type": "stream",
     "text": [
      "56\n",
      "\n",
      "a is smaller than c\n",
      "Sat Jun 29 01:25:04 2019\n",
      "7\n",
      "8\n",
      "error\n",
      "not possible\n"
     ]
    }
   ],
   "source": [
    "if __name__=='__main__':\n",
    "    t1= threading.Thread(target=ms,args=(5,))\n",
    "    t2= threading.Thread(target=nn,args=(6,))\n",
    "    t3= threading.Thread(target=ks,args=(7,))\n",
    "    t4= threading.Thread(target=cj,args=(8,))\n",
    "    t1.start()\n",
    "    t2.start()\n",
    "    t3.start()\n",
    "    t4.start()\n",
    "    t1.join()\n",
    "    t2.join()\n",
    "    t3.join()\n",
    "    t4.join()\n",
    "    "
   ]
  },
  {
   "cell_type": "code",
   "execution_count": 88,
   "metadata": {},
   "outputs": [],
   "source": [
    "import Nakul"
   ]
  },
  {
   "cell_type": "code",
   "execution_count": 89,
   "metadata": {},
   "outputs": [
    {
     "name": "stdout",
     "output_type": "stream",
     "text": [
      "nk\n"
     ]
    }
   ],
   "source": [
    "Nakul.a(\"nk\")"
   ]
  },
  {
   "cell_type": "code",
   "execution_count": 90,
   "metadata": {},
   "outputs": [],
   "source": [
    "import webbrowser as wb"
   ]
  },
  {
   "cell_type": "code",
   "execution_count": 91,
   "metadata": {},
   "outputs": [
    {
     "data": {
      "text/plain": [
       "True"
      ]
     },
     "execution_count": 91,
     "metadata": {},
     "output_type": "execute_result"
    }
   ],
   "source": [
    "wb.open_new_tab(\"www.google.com\")"
   ]
  },
  {
   "cell_type": "code",
   "execution_count": 93,
   "metadata": {},
   "outputs": [],
   "source": [
    "def cf(ap):\n",
    "    print(ap)\n",
    "    f = open('nakul.txt','w')\n",
    "    f.write('neeraj')\n",
    "    f.close()"
   ]
  },
  {
   "cell_type": "code",
   "execution_count": 94,
   "metadata": {},
   "outputs": [
    {
     "name": "stdout",
     "output_type": "stream",
     "text": [
      "5\n",
      "a is smaller than c\n",
      "6\n",
      "7\n",
      "8\n",
      "error\n",
      "not possible\n",
      "Sat Jun 29 01:31:46 2019\n",
      "9\n"
     ]
    }
   ],
   "source": [
    "if __name__=='__main__':\n",
    "    t1= threading.Thread(target=ms,args=(5,))\n",
    "    t2= threading.Thread(target=nn,args=(6,))\n",
    "    t3= threading.Thread(target=ks,args=(7,))\n",
    "    t4= threading.Thread(target=cj,args=(8,))\n",
    "    t5= threading.Thread(target=cf,args=(9,))\n",
    "    t1.start()\n",
    "    t2.start()\n",
    "    t3.start()\n",
    "    t4.start()\n",
    "    t5.start()\n",
    "    t1.join()\n",
    "    t2.join()\n",
    "    t3.join()\n",
    "    t4.join()\n",
    "    t5.join()\n",
    "    "
   ]
  },
  {
   "cell_type": "code",
   "execution_count": 95,
   "metadata": {},
   "outputs": [],
   "source": [
    "import time"
   ]
  },
  {
   "cell_type": "code",
   "execution_count": 96,
   "metadata": {},
   "outputs": [],
   "source": [
    "a = time.ctime()"
   ]
  },
  {
   "cell_type": "code",
   "execution_count": 99,
   "metadata": {},
   "outputs": [],
   "source": [
    "b = a.split()"
   ]
  },
  {
   "cell_type": "code",
   "execution_count": null,
   "metadata": {},
   "outputs": [],
   "source": [
    "b[3]\n",
    "while True:\n",
    "    if (b[3] == '01:45:21'):\n",
    "        print(\"hello\")\n",
    "        break"
   ]
  },
  {
   "cell_type": "code",
   "execution_count": 3,
   "metadata": {},
   "outputs": [],
   "source": [
    "from bs4 import BeautifulSoup"
   ]
  },
  {
   "cell_type": "code",
   "execution_count": 4,
   "metadata": {},
   "outputs": [],
   "source": [
    "import requests"
   ]
  },
  {
   "cell_type": "code",
   "execution_count": 19,
   "metadata": {},
   "outputs": [],
   "source": [
    "url = requests.get(\"https://www.cricbuzz.com\")"
   ]
  },
  {
   "cell_type": "code",
   "execution_count": 20,
   "metadata": {},
   "outputs": [
    {
     "name": "stdout",
     "output_type": "stream",
     "text": [
      "<Response [200]>\n"
     ]
    }
   ],
   "source": [
    "print(url)"
   ]
  },
  {
   "cell_type": "code",
   "execution_count": 21,
   "metadata": {},
   "outputs": [
    {
     "data": {
      "text/plain": [
       "'\\r\\n\\r\\n<!DOCTYPE html><html lang=\"en\" itemscope itemtype=\"http://schema.org/WebPage\"><head><meta charset=\"utf-8\"><script>var is_mobile = /symbian|tizen|midp|uc(web|browser)|MSIE (5.0|6.0|7.0|8.0)|tablet/i.test(navigator.userAgent);\\tif(is_mobile && window.location.hostname != \"www1.cricbuzz.com\") window.location.hostname = \"m.cricbuzz.com\";</script><style>body{background:#E3E6E3; font-family: helvetica,\"Segoe UI\",Arial,sans-serif;color:#222;font-size:14px; line-height: 1.5; margin:0;}\\tbody, .cb-comm-pg, .cb-hm-mid {min-height:1000px}\\t.container{width:980px;margin:0 auto;}\\t.page{max-width: 980px;margin: 0 auto;position: relative;}\\t.cb-col-8 {width:8%;}\\t.cb-col-10 {width:10%;}\\t.cb-col-14 {width:14%;}\\t.cb-col-16 {width:16%;}\\t.cb-col-20 {width:20%;}\\t.cb-col-25 {width:25%;}\\t.cb-col-27 {width:27%;}\\t.cb-col-33 {width:33%;}\\t.cb-col-40 {width:40%;}\\t.cb-col-46 {width:46%;}\\t.cb-col-47 {width:47%;}\\t.cb-col-50 {width:50%;}\\t.cb-col-60 {width:60%;}\\t.cb-col-66 {width:66%;}\\t.cb-col-67 {width:67%;}\\t.cb-col-73 {width:73%;}\\t.cb-col-75 {width:75%;}\\t.cb-col-84 {width:84%;}\\t.cb-col-80 {width:80%;}\\t.cb-col-90{width:90%;}\\t.cb-col-100 {width:100%;}\\t.cb-col {display: inline-block;box-sizing: border-box;float: left; min-height: 1px;}\\th1 {font-size: 36px;line-height: 42px; margin:0;}\\th2 {font-size: 24px; margin:0; line-height: 30px;}\\th3 {font-size: 18px;line-height: 24px; margin:0; }\\th4 {font-size: 16px; margin:0; }\\th5 {font-size: 14px; margin: 0;}\\t.cb-font-18 {font-size:18px;}\\timg{border-radius: 4px;}\\ta {text-decoration: none; color:#222;}\\ta, a:hover, a:active, a:focus {outline: medium none;}\\t.text-center {text-align: center;}\\t.cb-nws-lft-col{padding:15px 20px;}\\t.cb-nws-dtl-lft-col {padding: 10px 30px 0 30px;border-right: 1px solid #ecebeb ;}\\t.cb-nws-lst-rt{padding-left: 10px;}\\t.cb-srs-lst-itm {padding: 10px 0;}\\t.cb-lst-itm-sm{padding:10px 0 5px;}\\t.cb-scrd-lft-col{padding:15px 10px;} .cb-col-rt{padding: 10px;}\\t.text-white{color: #fff;}\\t.cb-scrd-hdr-rw, .cb-nav-pill-1.active {background: #028062 ;color: #fff;}\\t.cb-nav{position:relative; height:48px;background: #009270;}\\t.cb-hm-mnu-itm{padding: 16px 6px 11px; color:#fff; display:inline-block;}\\t.cb-hm-text{padding:10px 18px 10px 20px;}\\t.cb-hm-rght{padding: 15px;}\\t.cb-subnav .cb-sub-navigation {display: none; position: absolute;}\\t.cb-mat-mnu{background:#4a4a4a; width:980px; font-size: 0;}\\t.cb-mat-mnu-itm{font-size:12px; color:#fff; padding:10px; cursor: pointer; display:inline-block; max-width: 140px;}\\t.cb-mat-mnu-ttl{background: #333; padding: 10px 20px;}\\t.cb-mat-mnu-wrp{margin-bottom: 10px;}\\t.cb-ovr-flo{overflow: hidden; white-space: nowrap; text-overflow: ellipsis;}\\t.cb-mat-mnu-all{text-align: center; float: right; width:60px;}\\t.cb-nav-main{border-bottom:1px solid #e3e6e3;padding:0 0 5px 20px;}\\t.cb-nav-bar{padding-top:10px;clear:both;}\\t.cb-lst-itm, .cb-bg-white{background: #fff;}\\t.cb-nav-tab.active, .cb-nav-tab-hm.active{ font-weight: bold; color: #028062;}\\t.cb-nav-tab.active {border-bottom: 3px solid #028062; line-height: 24px; }\\t.cb-nav-tab-hm.active{ border-bottom:2px solid #028062; line-height: 22px;}\\t.cb-nav-tab{margin-right:20px;padding-bottom:6px;}\\t.cb-nav-tab-hm{margin-right:15px;padding-bottom:6px;}\\t.cb-nav-hdr{padding-top:15px}\\t.cb-nav-subhdr{padding:5px 0 10px 0;}\\t.cb-lv-scr-mtch-hdr{line-height: 21px;font-size: 16px;}\\t.disp-none{display:none;}\\t.disp-blck{display:block;}\\t.cb-font-24{font-size: 24px;}\\t.line-ht30{line-height: 30px;}\\t.line-ht24{line-height: 24px;}\\t.cb-hm-scg-blk{background: #fff; margin-bottom: 5px; height:90px;}\\t.mrgn-btm-5{margin-bottom : 5px;}\\t#scagTabContent .show{display: block; visibility: visible;}\\t#scagTabContent .hide{display: none; visibility: hidden;}\\t[ng\\\\:cloak], [ng-cloak], [data-ng-cloak], [x-ng-cloak], .ng-cloak, .x-ng-cloak { display: none !important;}\\t.cb-hm-lft{margin-bottom:5px;padding:0 15px;}\\t.cb-hm-lft-hdr{margin:0; padding:15px 15px 0; color: #009270;} .cb-hm-mid {border-left: 5px solid #e3e6e3 ;border-right: 5px solid #e3e6e3 ;padding: 0 15px;} .cb-mtch-blk {border-right: 1px solid #ecebeb ;line-height: 1.4;margin: 15px 0;padding: 0 20px;}\\t.crd-cntxt{font-size: 12px; color:#666; padding-bottom: 10px;}\\t.big-crd-main{border-top: 1px solid #ecebeb;padding:15px 0 5px; margin-bottom: 1px;clear: both;} .big-crd-reltd-itm {margin: 0 0 10px; width:100%; display: inline-block;}\\t.cb-nws-time{font-size:12px; padding-bottom: 5px;}\\t.cb-nws-hdln-ancr{padding-bottom: 5px;}\\t.cb-hmscg-bwl-txt, .cb-hmscg-bat-txt{font-weight:bold; padding-bottom:4px; height:18px;}\\t.cb-hmscg-bwl-txt{color:#666;}\\t.sml-crd-main{padding: 15px 0 5px; width: 100%;}\\t.big-crd-hdln{margin: 10px 0;}\\t.big-crd-rltd-txt {font-weight: bold; margin:10px 0; color:#1866DB;} .cb-nws-intr {color: #666;padding-bottom: 5px;} .cb-lv-scrs-well {background: #f5f5f5 ;display: inline-block;margin: 10px 0;padding: 10px 5px;}\\t.cb-hm-mtch-crd-width{min-width:300px;}\\t.cb-mr-30{margin-right: 30px;} .cb-schdl-hdr {margin: 0;padding: 15px 0 10px 10px;} .cb-lst-itm-lg {padding: 20px 0;} .cb-left-pad {padding: 20px 10px 0;}\\t.cb-nav-pill-1 {background: #CFE0DB;border-radius: 20px;color: #222;cursor: pointer;margin-right: 15px;padding: 5px 20px;} .cb-mtch-lst {padding: 15px 0;}\\t.cb-nws-min-cntr{padding: 10px; background: #f5f5f5; color:#333; margin:10px 0 15px;}\\t.sml-crd-subtxt{margin:0 10px 10px;}\\t/*-------------------------Live Pages -----------------------*/\\t.cb-scrcrd-status{padding:0 0 10px 10px;}\\t.cb-scrd-hdr-rw{padding:8px 10px;}\\t.cb-bg-gray{background: #ecebeb;}\\t.cb-lv-grn-strip{background: #ecebeb;}\\t.cb-min-hdr-rw, .cb-scrd-sub-hdr{padding: 4px 10px; font-size: 12px; color: #666;}\\t.cb-scrd-itms{padding: 4px 10px; font-size: 13px;}\\t.cb-text-link {color: #1866DB;}\\t.text-bold{font-weight: bold;}\\t.text-normal{font-weight: normal;}\\t.cb-mat-fct-itm{padding: 5px 0;}\\t.cb-min-bat-rw{padding-bottom: 5px;}\\t.cb-nws-sub-txt, .cb-nws-sub-txt, .cb-font-12{font-size:12px;}\\t.cb-font-16{font-size:16px;}\\t.cb-font-20{font-size:20px;}\\t.cb-min-inf{padding-top:10px; margin-left: -10px; display: inline-block;}\\t.cb-min-itm-rw{padding:5px 10px 0;}\\t.text-right{text-align:right;}\\t.cb-key-st-lst{padding: 10px 0 0 5px; }\\t.cb-min-prw-time{padding:20px 0 0;}\\t.cb-toss-sts{padding: 10px 0 30px;}\\t.cb-min-rcnt{padding: 7px 10px; margin: 0 -10px 0;}\\t.cb-key-lst-wrp{border: 1px solid #ecebeb; padding-bottom: 15px; margin-right: -10px;}\\t.cb-min-tm{font-size: 18px; font-weight: bold;}\\t.cb-min-stts{padding: 20px 0;}\\t.cb-mom-itm{padding: 0 0 10px;}\\t.cb-lv-grn-strip {padding: 10px 10px 5px;}\\t.cb-ovr-num{padding-top:2px;}\\t.cb-min-pad{padding-left: 5px;}\\t/*Upcoming Series*/\\t.cb-mnth{margin-top: 10px; padding: 0 10px;}\\t.cb-sch-lst-itm {padding:10px 0; margin-left: 20px;border-bottom: 1px solid #ecebeb;}\\t/*Matches By Day*/\\t.cb-mtchs-dy{padding:20px 20px 20px 10px ;}\\t.cb-mtchs-dy-tm,.cb-mtchs-dy-vnu{padding:20px 20px 20px 0px;}\\t/*Schedule Teams*/\\t.cb-lv-upcom-strip{padding: 5px 10px;background: #ecebeb;}\\t/*Archives*/\\t.cb-srs-cat{padding:10px; color:#028062; }\\t.pad-left{padding-left:30px;}\\t.cb-arcv-yr{font-size:20px; padding: 0 0 5px 10px;font-weight: bold}\\t.cb-yr-tmline{padding: 2px 15px 15px 0;}\\t.cb-sch-tms-widgt{padding: 5px 10px; margin:5px 2px 2px 2px; background: #f5f5f5; border-radius: 0; border:0; display: inline-block;}\\t/*Photos*/\\t.cb-thmb-dark {background: #333333; box-shadow:none; border-radius:4px; border:none; padding:0;color:#CCC;}\\t.cb-pht-main {padding:20px 15px;margin: 0 -10px;}\\t.cb-pht-block{padding:9px;float:left;height:280px;box-sizing: border-box;} .cb-gallery-pht-block{padding: 9px 9px 9px 16px;}\\t.img-responsive{height:auto; max-width:100%;}\\t.center-block{margin-right: auto;margin-left: auto;}\\t.cb-schdl{padding:0 10px;line-height: 1.5;}\\t.cb-caret-up, .cb-caret-down{display: inline-block; width: 0; height: 0; margin-left: 4px; margin-bottom: 1px; border-right: 4px solid transparent; border-left: 4px solid transparent;}\\t.cb-caret-up{border-bottom: 4px solid;}\\t.cb-caret-down{border-top: 4px solid;}\\t.cb-hm-rt-itm{margin: 0 0 5px; padding: 10px 10px 5px;}\\t.cb-hmscg-tm-nm{display:inline-block; width: 60px;}\\t.pull-right,.cb-all-mtch-tab{float:right;}\\t.cb-skin-ads-close{display: none;}\\t.cb-nws-sub-txt{padding-top:10px;}\\t.nws-dtl-hdln{margin-top:10px;}\\t.cb-min-lv{min-height:270px}\\t.cb-min-comp{min-height:150px;}\\t.cb-ttl-vts{margin-top:20px;}\\t.cb-poll-radio{width: 5%;margin:4px 10px 0 0;}\\t.cb-mini-tim{padding-bottom:20px;}\\t.cb-com-ln{margin: 0 0 10px; line-height: 24px;}\\t.cb-comm-static{min-height:31px; margin: 0 -10px 10px;}\\t.cb-com-ovr-sum-ad{min-height: 31px;}\\t.cb-comm-static-anchr{margin:5px 10px; display: block;}\\t.ad-unit-rendered{margin-bottom: 5px;}\\t.cb-mm-wrp { max-height: 0px; -webkit-transition: max-height 0.35s ease; transition: max-height 0.35s ease; overflow: hidden; }\\t.cb-mm-wrp.down { max-height: 1000px; transition: max-height 0.75s ease; -webkit-transition: max-height 0.75s ease; overflow: hidden;} .cb-srs-hstry-dtl {padding:10px 15px;margin-top:20px; border-radius: 4px;}\\t.cb-qck-lnk{margin-bottom: 5px; padding:10px 15px;}\\t.cb-qck-hdr{padding-right: 15px; border-right: 1px solid #ecebeb ;}\\t.cb-qck-ancr{margin-left: 15px;}\\t.cb-lst-vid-rw{padding-bottom: 0; height: 64px; border: 1px solid #ecebeb; margin-right: -10px;}\\t.cb-auth-img{border-radius: 100%;}\\t.cb-expt-athr{vertical-align: top; padding: 5px 0 0 0; display: inline-block; font-size: 16px}\\t.inline-block{display: inline-block;}\\t.cb-exprt-athr-hdr{text-align: right;font-size: 42px;font-family: bodani; color: #fff;padding-right: 15px;line-height:44px;text-transform:uppercase;}\\t.cb-exprt-athr-hdr-tag{text-align: right;font-size: 24px;font-family: bodani; color: #fff;padding-right: 15px;font-style:italic;}\\t.cb-athr-wgt-wrp{border:1px solid #ecebeb; padding:15px; margin-bottom:20px;background:#f5f5f5;}\\t.cb-exprt-athr-hdr-img{background: url(\"/images/harsha-banner.jpg\") no-repeat scroll; height:80px;}\\t.cb-overflow-hidden{overflow: hidden;}\\t/*Videos*/\\t.cb-vid-sm-ply-api {color: #fff;line-height: 34px;font-size: 18px;margin-left: 3px;}\\t.cb-vid-sml-card-api {margin-top: 10px;height: auto;padding: 0 12px 0 11px;}\\t.cb-cat-head-wrap {padding: 0 12px 0 11px;}\\t.cb-cat-head-text {margin-top: 5px;line-height: 20px;}\\t.cb-more-btn {padding: 8px 20px;border-radius: 2px;color: #fff;background: #009270;border: 0;cursor: pointer;}\\t.cb-cat-head-link {float: right;padding: 5px 25px;margin-top: 10px;border-radius: 4px;}\\t.cb-pos-rel{position: relative;}\\t.cb-videos-cat {border-bottom: 1px solid #ecebeb;padding: 10px 3px 15px 4px;}\\t.cb-cat-head-text-wrap {float: left;}\\t.cb-cat-head-count {margin: 0;color: #666;}\\th2.cb-cat-head-text{font-size : 18px}\\t.cb-vid-sml-card-api-head {font-size: 14px;font-weight: bold;line-height: 18px;max-height: 55px;margin: 2px 0 5px;overflow: hidden;}\\t.cb-cen {position: absolute;top: 50%;left: 50%;opacity: .8;transform: translateX(-50%) translateY(-50%);-webkit-transform: translateX(-50%) translateY(-50%);-moz-transform: translateX(-50%) translateY(-50%);-ms-transform: translateX(-50%) translateY(-50%);-o-transform: translateX(-50%) translateY(-50%);background: #222;text-align: center;height: 35px;width: 35px;border-radius: 50px;}\\t.cb-cen:hover{opacity: 1;}\\t.padding-handling-errors{padding: 20px 0px 10px 15px;border-bottom: 1px solid #ecebeb;}\\t.cb-col .cb-align-cen{float: none; text-align: center; padding: 7px 25px; margin-top: 20px;}\\t.cb-align-cen{padding-top: 10px;}\\t.cb-hot-cat{max-width: 90px; text-align: center; padding-right: 0;}\\t.cb-hot-cat-img{width: 72px;}\\t.cb-vid-slider-arrs{position: absolute; top: 52px; left: 0; right: 0; z-index: 5;}\\t.cb-vid-slider-arr{position: absolute; z-index: 5; height: 43px; width: 43px; border-radius: 50%; cursor: pointer;}\\t.cb-vid-slider-arr-prev{display: none; left: 0;}\\t.cb-vid-slider-arr-next{right: 0;}\\t.videos-list-carousal{overflow: hidden; position: relative; height: 220px;}\\t.videos-carousal-wrapper{float: none; list-style: none; padding: 0; margin: 0; transition: all 0.3s ease; display: flex; flex-direction: row; position: absolute; left: 0;}\\t.videos-carousal-item{min-width: 25%; justify-content: center; align-items: center;}\\t.cb-vid-more{float: right; color: #2C3E9A; font-size: 18px;}\\t.cb-vid-more:hover{text-decoration: underline;}\\t.cat-vid-carousal{height: 135px !important;}\\t.cat-vid-carousal .videos-carousal-item{min-width: auto;}\\t.cat-vid-carousal .cb-vid-slider-arrs{top: 24px;}\\t.cb-srs-sqd-box{min-height: 700px; background: #fff;}\\t.cb-float-none{float: none;}\\t.cb-margin-top-10{margin-top: 10px;}\\t.cb-schdl-nvtb {margin: 0 0 10px 0;padding: 10px;}\\t.cb-carousal-item-small {padding: 0 0 0 16px;}\\t.cb-carousal-item-small:first-child {padding-left: 11px;}\\t.cb-carousal-item-large {padding: 0 11px;}\\t.cb-carousal-item-small .cb-vid-txt-wrp{font-size: 12px;}\\t.cb-hot-cat .cb-vid-txt-wrp{display: -webkit-box; -webkit-box-orient: vertical; -webkit-line-clamp: 2; overflow: hidden; max-height: 40px;}\\t/*Rankings*/\\t.cb-ranking-nav.active{line-height: 21px}\\t.cb-rank-plyr{padding-left:15px}\\t.text-left{text-align:left;}\\t.cb-rank-tabs{padding-left: 10px;}\\t.cb-plyr-tbody{padding:5px 0;}\\t.cb-padding-left0{padding-left: 0;}\\t.cb-rank-hdr{margin-top: 15px; padding: 5px 0;}\\t.cb-bg-grey{background: #f5f5f5;}\\t/*Players*/\\t.cb-player-name-wrap{padding-top: 90px;}\\t.cb-plyr-tbl{margin-top: 30px}\\t.cb-font-40{font-size:40px;}\\t/*Teams*/\\t.cb-cursor-pointer{cursor: pointer;}\\t.cb-team-stats-btn{margin-top: 21px;}\\t.cb-upper-text{text-transform: capitalize;}</style><script>function getCookie(c_name){\\tvar i,x,y,ARRcookies=document.cookie.split(\";\");\\tfor (i=0;i<ARRcookies.length;i++){\\tx=ARRcookies[i].substr(0,ARRcookies[i].indexOf(\"=\"));\\ty=ARRcookies[i].substr(ARRcookies[i].indexOf(\"=\")+1);\\tx=x.replace(/^\\\\s+|\\\\s+$/g,\"\");\\tif (x==c_name){\\treturn unescape(y);\\t}\\t}\\t}\\tvar cbads_value = getCookie(\"cbzads\");\\tif(cbads_value != null && cbads_value.indexOf(\\'IN|AS\\') >= 0){\\tdocument.write(\"<style>.cb-geo-in-50{height:50px}</style>\")\\t}\\t/*polifill for remove function*/\\tif (!(\\'remove\\' in Element.prototype)) {\\tElement.prototype[\\'remove\\'] = function () {\\tif (this.parentNode) {\\tthis.parentNode.removeChild(this);\\t}\\t};\\t}</script><meta http-equiv=\"X-UA-Compatible\" content=\"IE=edge\" /><meta name=\"author\" content=\"\"><link rel=\"shortcut icon\" type=\"image/x-icon\" href=\"/images/cric_ball.ico\" /><meta name=\"google-signin-client_id\" content=\"125255339112-d594jen12o0j854sufu8jfn2gbbnaskj.apps.googleusercontent.com\"><LINK REL=\"apple-touch-icon\" href=\"/images/apple-touch-icon.png\" /> <title itemprop=\"name\">World Cup 2019, Cricket Score, Schedule, Latest News, Stats & Videos | Cricbuzz.com</title><meta name=\"description\" itemprop=\"description\" content=\"Get Live Cricket Score, Scorecard, Schedules of International, Domestic and World Cup matches along with Latest News, Videos and ICC Cricket Rankings of Players on Cricbuzz.\"><link rel=\"alternate\" href=\"android-app://com.cricbuzz.android/http/www.cricbuzz.com/\"><link rel=\"alternate\" href=\"//m.cricbuzz.com/\" media=\"only screen and (max-width: 640px)\"><meta name=\"robots\" content=\"index, follow\"><meta name=\"googlebot\" content=\"index, follow\"><meta name=\"google-site-verification\" content=\"google89fd37b1258ef4b9.html\"><meta name=\"p:domain_verify\" content=\"fd560568b43f31382de30f628c8430bd\"><meta name=\"msvalidate.01\" content=\"A509FA8BAE50018F9DF2553AEDEDF77B\"> <meta property=\"og:title\" content=\"World Cup 2019, Cricket Score, Schedule, Latest News, Stats &amp; Videos\"><meta property=\"og:description\" content=\"Get Live Cricket Score, Scorecard, Schedules of International, Domestic and World Cup matches along with Latest News, Videos and ICC Cricket Rankings of Players on Cricbuzz.\"><meta property=\"og:image\" content=\"http://www.cricbuzz.com\"><meta property=\"og:image:secure_url\" content=\"https://www.cricbuzz.com\"><meta property=\"fb:app_id\" content=\"30119633160\"><meta property=\"og:site_name\" content=\"Cricbuzz\"> <meta property=\"twitter:title\" content=\"World Cup 2019, Cricket Score, Schedule, Latest News, Stats &amp; Videos\"><meta property=\"twitter:description\" content=\"Get Live Cricket Score, Scorecard, Schedules of International, Domestic and World Cup matches along with Latest News, Videos and ICC Cricket Rankings of Players on Cricbuzz.\"><meta property=\"twitter:image\" content=\"https://www.cricbuzz.com\"><meta name=\"twitter:site\" content=\"@cricbuzz\"><meta name=\"twitter:domain\" content=\"cricbuzz.com\"><meta name=\"twitter:app:name:iphone\" content=\"Cricbuzz\"><meta name=\"twitter:app:id:iphone\" content=\"360466413\"><meta name=\"twitter:app:name:googleplay\" content=\"Cricbuzz\"><meta name=\"twitter:app:id:googleplay\" content=\"com.cricbuzz.android\"><meta name=\"twitter:widgets:csp\" content=\"on\"><meta property=\"fb:pages\" content=\"178697151159\" /><meta name=\"keywords\" content=\"\"><meta name=\"news_keywords\" content=\"\"><link rel=\"canonical\" href=\"https://www.cricbuzz.com\"><meta name=\"msapplication-config\" content=\"none\"/><script>var PAGE_NAME = \"cb-homepage\";\\tvar PAGE_TARGETS = {};\\tvar CBQueue = CBQueue || [];\\tvar CBQueueOnLoad = CBQueueOnLoad || [];\\t/*CBQueue.push(function(){roadblock(2,{country:[\"US\",\"CA\", \"ZA\", \"AU\"], continent:[\"EU\"]});});*/\\tCBQueue.push(function(){roadblock(2,{country:[\"US\"]});});\\t_udn = \"cricbuzz.com\";</script><script>(function(w){\\t\"use strict\";\\tvar loadCSS = function( href, before, media ){\\tvar doc = w.document;\\tvar ss = doc.createElement( \"link\" );\\tvar ref;\\tif( before ){\\tref = before;\\t}\\telse {\\tvar refs = ( doc.body || doc.getElementsByTagName( \"head\" )[ 0 ] ).childNodes;\\tref = refs[ refs.length - 1];\\t}\\tvar sheets = doc.styleSheets;\\tss.rel = \"stylesheet\";\\tss.href = href;\\tss.media = \"only x\";\\tref.parentNode.insertBefore( ss, ( before ? ref : ref.nextSibling ) );\\tvar onloadcssdefined = function( cb ){\\tvar resolvedHref = ss.href;\\tvar i = sheets.length;\\twhile( i-- ){\\tif( sheets[ i ].href === resolvedHref ){\\treturn cb();\\t}\\t}\\tsetTimeout(function() {\\tonloadcssdefined( cb );\\t});\\t};\\tss.onloadcssdefined = onloadcssdefined;\\tonloadcssdefined(function() {\\tss.media = media || \"all\";\\t});\\treturn ss;\\t};\\tif( typeof module !== \"undefined\" ){\\tmodule.exports = loadCSS;\\t}\\telse {\\tw.loadCSS = loadCSS;\\t}\\t}( typeof global !== \"undefined\" ? global : this ));\\tloadCSS( \"/dist/css/cricbuzz.min.6501.css\" );</script><noscript><link rel=\"stylesheet\" type=\"text/css\" href=\"/dist/css/cricbuzz.min.6501.css\"></noscript></head><body><a href=\"https://plus.google.com/104502282508811467249\" rel=\"publisher\"></a><a id=\"ad-skin\" target=\"_blank\" href=\"Javascript:void(0)\" class=\"cb-skin-ads-link cb-skin-ads-link-fixed ad-skin\"></a><a href=\"Javascript:void(0)\" class=\"cb-skin-ads-close cb-font-18 ad-skin-close\" style=\"position:fixed; z-index:1001; color:#FFF; background:#000; padding:2px 5px; right:2px;\">&#x2716;</a><header id=\"top\" style=\"z-index: 1000;position: relative;padding-top:10px;width:980px;margin:0 auto;\" itemscope itemtype=\"http://schema.org/WPHeader\"><div class=\"container\"><div id=\"leaderboard\" class=\"ad-unit text-center center-block\" style=\"min-height:90px;margin-bottom:10px;\"></div><div id=\"countdown\" class=\"ad-unit\" style=\"margin:-10px 15px 0px;float:right;position:absolute;\"></div><div class=\"toi-branding toi-referral\"></div><nav class=\"cb-nav cb-col cb-col-100\" id=\"cb-main-menu\"><a href=\"/\" target=\"_self\" class=\"cb-hm-text\"><img itemprop=\"image\" height=\"30\" width=\"101\" style=\"bottom: -4px; position: relative;\" alt=\"Cricbuzz Logo\" title=\"Cricbuzz Logo\" src=\"/images/cbz-logo.png\"></a><a class=\"cb-hm-mnu-itm\" target=\"_self\" href=\"/cricket-match/live-scores\" title=\"Live Cricket Score\">Live Scores</a><a class=\"cb-hm-mnu-itm\" target=\"_self\" href=\"/cricket-schedule/upcoming-series/international\" title=\"Cricket Schedule\">Schedule</a><a class=\"cb-hm-mnu-itm\" target=\"_self\" href=\"/cricket-scorecard-archives\" title=\"Cricket Scorecard Archives\">Archives</a><div class=\"cb-subnav cb-hm-mnu-itm feature-button cursor-pointer\" id=\"newsDropDown\"><a class=\"text-white\" target=\"_self\" href=\"/cricket-news\" >News</a><span class =\"cb-caret-down\"></span><nav class=\"cb-sub-navigation\"><a class=\"cb-subnav-item\" target=\"_self\" href=\"/cricket-news\" title=\"Latest Cricket News\">All Stories</a><a class=\"cb-subnav-item\" target=\"_self\" href=\"/cricket-news/latest-news\" title=\"Latest Cricket News\">Latest News</a><a class=\"cb-subnav-item\" target=\"_self\" href=\"/cricket-news/info/\" title=\"Latest Cricket Topics\">Topics</a><a class=\"cb-subnav-item\" target=\"_self\" href=\"/cricket-news/editorial/spotlight\" title=\"Cricket Editorials and Specials\">Spotlight</a><a class=\"cb-subnav-item\" target=\"_self\" href=\"/cricket-news/editorial/editorial-list\" title=\"Latest Cricket Opinions & Editorials\">Opinions</a><a class=\"cb-subnav-item\" target=\"_self\" href=\"/cricket-news/editorial/specials\" title=\"Latest Cricket Specials\">Specials</a><a class=\"cb-subnav-item\" target=\"_self\" href=\"/cricket-news/editorial/stats-analysis\" title=\"Latest Cricket Stats & Analysis\">Stats & Analysis</a><a class=\"cb-subnav-item\" target=\"_self\" href=\"/cricket-news/editorial/interviews\" title=\"Latest Cricket Player Interviews\">Interviews</a><a class=\"cb-subnav-item\" target=\"_self\" href=\"/cricket-news/editorial/live-blogs\" title=\"Latest Cricket Match live blogs\">Live Blogs</a><a class=\"cb-subnav-item\" target=\"_self\" href=\"/cricket-news/experts/harsha-bhogle/170\" title=\"Articles and Videos by Harsha Bhogle\">Harsha Bhogle</a></nav></div><div class=\"cb-subnav cb-hm-mnu-itm feature-button cursor-pointer\" id=\"seriesDropDown\"><a class=\"text-white\" target=\"_self\" href=\"/cricket-schedule/series\" >Series</a><span class =\"cb-caret-down\"></span><nav class=\"cb-sub-navigation\"><a class=\"cb-subnav-item\" target=\"_self\" href=\"/cricket-series/2697/icc-cricket-world-cup-2019\" title=\"ICC Cricket World Cup 2019\">ICC Cricket World Cup 2019</a><a class=\"cb-subnav-item\" target=\"_self\" href=\"/cricket-series/2818/zimbabwe-tour-of-netherlands-2019\" title=\"Zimbabwe tour of Netherlands, 2019\">Zimbabwe tour of Netherlands, 2019</a><a class=\"cb-subnav-item\" target=\"_self\" href=\"/cricket-series/2844/malaysia-tri-series-2019\" title=\"Malaysia Tri-Series 2019\">Malaysia Tri-Series 2019</a><a class=\"cb-subnav-item\" target=\"_self\" href=\"/cricket-series/2793/zimbabwe-tour-of-ireland-2019\" title=\"Zimbabwe tour of Ireland, 2019\">Zimbabwe tour of Ireland, 2019</a><a class=\"cb-subnav-item\" target=\"_self\" href=\"/cricket-series/2777/west-indies-women-tour-of-england-2019\" title=\"West Indies Women tour of England, 2019\">West Indies Women tour of England, 2019</a><a class=\"cb-subnav-item\" target=\"_self\" href=\"/cricket-series/2780/county-championship-division-one-2019\" title=\"County Championship Division One 2019\">County Championship Division One 2019</a></nav></div><div class=\"cb-subnav cb-hm-mnu-itm feature-button cursor-pointer\" id=\"teamDropDown\"><a class=\"text-white\" target=\"_self\" href=\"/cricket-team\" >Teams</a><span class =\"cb-caret-down\"></span><nav class=\"cb-sub-navigation cb-sub-lg\"> <div class=\"cb-sub-lg-outer\"> <div class=\"cb-sub-lg-sec\"> <h4 class=\"cb-sub-lg-sec-head\">Test Teams</h4> <a class=\"cb-subnav-item cb-sub-lg-sec-item\" target=\"_self\" href=\"/cricket-team/india/2\" title=\"India Cricket Team\">India</a> <a class=\"cb-subnav-item cb-sub-lg-sec-item\" target=\"_self\" href=\"/cricket-team/pakistan/3\" title=\"Pakistan Cricket Team\">Pakistan</a> <a class=\"cb-subnav-item cb-sub-lg-sec-item\" target=\"_self\" href=\"/cricket-team/australia/4\" title=\"Australia Cricket Team\">Australia</a> <a class=\"cb-subnav-item cb-sub-lg-sec-item\" target=\"_self\" href=\"/cricket-team/sri-lanka/5\" title=\"Sri Lanka Cricket Team\">Sri Lanka</a> <a class=\"cb-subnav-item cb-sub-lg-sec-item\" target=\"_self\" href=\"/cricket-team/bangladesh/6\" title=\"Bangladesh Cricket Team\">Bangladesh</a> <a class=\"cb-subnav-item cb-sub-lg-sec-item\" target=\"_self\" href=\"/cricket-team/england/9\" title=\"England Cricket Team\">England</a> <a class=\"cb-subnav-item cb-sub-lg-sec-item\" target=\"_self\" href=\"/cricket-team/west-indies/10\" title=\"West Indies Cricket Team\">West Indies</a> <a class=\"cb-subnav-item cb-sub-lg-sec-item\" target=\"_self\" href=\"/cricket-team/south-africa/11\" title=\"South Africa Cricket Team\">South Africa</a> <a class=\"cb-subnav-item cb-sub-lg-sec-item\" target=\"_self\" href=\"/cricket-team/zimbabwe/12\" title=\"Zimbabwe Cricket Team\">Zimbabwe</a> <a class=\"cb-subnav-item cb-sub-lg-sec-item\" target=\"_self\" href=\"/cricket-team/new-zealand/13\" title=\"New Zealand Cricket Team\">New Zealand</a> <a class=\"cb-subnav-item cb-sub-lg-sec-item\" target=\"_self\" href=\"/cricket-team/ireland/27\" title=\"Ireland Cricket Team\">Ireland</a> <a class=\"cb-subnav-item cb-sub-lg-sec-item\" target=\"_self\" href=\"/cricket-team/afghanistan/96\" title=\"Afghanistan Cricket Team\">Afghanistan</a> </div> <div class=\"cb-sub-lg-sec\"> <h4 class=\"cb-sub-lg-sec-head\">Associate</h4> <a class=\"cb-subnav-item cb-sub-lg-sec-item\" target=\"_self\" href=\"/cricket-team/united-arab-emirates/7\" title=\"United Arab Emirates Cricket Team\">United Arab Emirates</a> <a class=\"cb-subnav-item cb-sub-lg-sec-item\" target=\"_self\" href=\"/cricket-team/hong-kong/8\" title=\"Hong Kong Cricket Team\">Hong Kong</a> <a class=\"cb-subnav-item cb-sub-lg-sec-item\" target=\"_self\" href=\"/cricket-team/kenya/14\" title=\"Kenya Cricket Team\">Kenya</a> <a class=\"cb-subnav-item cb-sub-lg-sec-item\" target=\"_self\" href=\"/cricket-team/united-states/15\" title=\"United States Cricket Team\">United States</a> <a class=\"cb-subnav-item cb-sub-lg-sec-item\" target=\"_self\" href=\"/cricket-team/scotland/23\" title=\"Scotland Cricket Team\">Scotland</a> <a class=\"cb-subnav-item cb-sub-lg-sec-item\" target=\"_self\" href=\"/cricket-team/netherlands/24\" title=\"Netherlands Cricket Team\">Netherlands</a> <a class=\"cb-subnav-item cb-sub-lg-sec-item\" target=\"_self\" href=\"/cricket-team/bermuda/25\" title=\"Bermuda Cricket Team\">Bermuda</a> <a class=\"cb-subnav-item cb-sub-lg-sec-item\" target=\"_self\" href=\"/cricket-team/canada/26\" title=\"Canada Cricket Team\">Canada</a> <a class=\"cb-subnav-item cb-sub-lg-sec-item\" target=\"_self\" href=\"/cricket-team/uganda/44\" title=\"Uganda Cricket Team\">Uganda</a> <a class=\"cb-subnav-item cb-sub-lg-sec-item\" target=\"_self\" href=\"/cricket-team/malaysia/71\" title=\"Malaysia Cricket Team\">Malaysia</a> <a class=\"cb-subnav-item cb-sub-lg-sec-item\" target=\"_self\" href=\"/cricket-team/nepal/72\" title=\"Nepal Cricket Team\">Nepal</a> <a class=\"cb-subnav-item cb-sub-lg-sec-item\" target=\"_self\" href=\"/cricket-team/germany/77\" title=\"Germany Cricket Team\">Germany</a> </div> </div> <a target=\"_self\" href=\"/cricket-team\" class=\"cb-sub-lg-more\">More...</a></nav></div> <div class=\"cb-subnav cb-hm-mnu-itm feature-button cursor-pointer\" id=\"videosDropDown\"><a class=\"text-white\" target=\"_self\" href=\"/cricket-videos\">Videos</a><span class =\"cb-caret-down\"></span> <nav class=\"cb-sub-navigation\"> <a target=\"_self\" class=\"cb-subnav-item\" href=\"/cricket-videos\" title=\"All Cricket Videos\">All Videos</a> <a target=\"_self\" class=\"cb-subnav-item\" href=\"/cricket-videos/categories\" title=\"Cricket Videos Categories\">Categories</a> <a target=\"_self\" class=\"cb-subnav-item\" href=\"/cricket-videos/playlists\" title=\"Cricket Videos Playlists\">Playlists</a> </nav> </div> <div class=\"cb-subnav cb-hm-mnu-itm feature-button cursor-pointer\" id=\"rankingDropDown\"><a class=\"text-white\" href=\"/cricket-stats/icc-rankings/men/batting\">Rankings</a><span class =\"cb-caret-down\"></span><nav class=\"cb-sub-navigation\"><a class=\"cb-subnav-item\" target=\"_self\" href=\"/cricket-stats/icc-rankings/men/batting\" title=\"ICC Rankings Men\">ICC Rankings - Men</a><a class=\"cb-subnav-item\" target=\"_self\" href=\"/cricket-stats/icc-rankings/women/batting\" title=\"ICC Rankings Women\">ICC Rankings - Women</a></nav></div> <div class=\"cb-subnav cb-hm-mnu-itm feature-button cursor-pointer\">More<span class =\"cb-caret-down\"></span><nav class=\"cb-sub-navigation\" style=\"right:0px;\"> <a class=\"cb-subnav-item\" target=\"_self\" href=\"/cricket-photo-gallery\" title=\"Photo Gallery\">Photos</a> <a class=\"cb-subnav-item\" target=\"_self\" href=\"/mobileapps\" title=\"Mobile Apps\">Mobile Apps</a><a class=\"cb-subnav-item\" target=\"_self\" href=\"/careers\" title=\"Careers\">Careers</a><a class=\"cb-subnav-item\" target=\"_self\" href=\"/info/contact\" title=\"Contact Us\">Contact Us</a></nav></div> <div ng-controller=\"SearchCtrl\" ng-init=\" init(-1, 61, 76, 350, \\'\\', \\'nav\\')\"> <div class=\"cb-nav-search-wrap\" ng-style=\"{width: inputFocus?\\'830px\\':\\'170px\\'}\"> <div class=\"cb-col-100 cb-col cb-srch-bar cb-srch-bar-nav\"> <form ng-submit=\"search_results(false, false)\" name=\"form\" class=\"cb-search-form\" ng-cloak> <div class=\"cb-search-input-nav\"> <div class=\"cb-search-outer\"> <div class=\"cb-search-input-wrap\"> <input type=\"text\" class=\"js-cb-search-input cb-search-input-elem cb-search-input-elem-nav form-control cb-car-inp cb-srch-bg\" ng-change=\"suggest_search()\" maxlength=\"500\" ng-model=\"searchText\" id=\"search_bar\" name=\"search\" value=\"suggest.title\" autocomplete=\"off\" ng-class=\"{\\'cb-search-input-elem-error-nav\\':errorText, \\'cb-srch-high-zIndex\\':dropdownVisible, \\'cb-srch-input-focus\\':inputFocus}\" placeholder=\"{{errorText?errorText:(source == \\'nav\\' && inputFocus) || source == \\'search-page\\'?\\'Search for Player, Series, Team, News or Video. eg: Windies tour of India\\': \\'Search\\'}}\" ng-keydown=\"onKeyPress($event)\" ng-focus=\"onInputFocus()\" ng-blur=\"loseInputFocus()\" ng-model-options=\"{ debounce: 400 }\"/> <span class=\"cb-ico cb-search-input-icon cb-search-input-icon-nav\"></span> <span class=\"cb-srch-cross-new cb-srch-cross-new-nav cb-font-14\" ng-class=\"{\\'cb-srch-cross-focus\\': inputFocus, \\'cb-srch-high-zIndex\\':dropdownVisible}\" ng-click=\"reset_form(\\'view\\');\" ng-show=\"searchText.length > 0\">â\\x9c\\x96</span> </div> <div ng-show=\"dropdownVisible\" class=\"cb-srch-backdrop\" ng-click=\"hideDropdown()\"></div> <div ng-show=\"dropdownVisible && searchText.length >= 2 && search_ftr_suggst.length > 0\" class=\"cb-main-srch-box-wrap\"> <ul class=\"cb-main-srch-box\" id=\"searchBox_nav\"> <li class=\"cb-main-srch-box-item {{selected_suggestions == $index?\\'highlight\\':\\'\\'}}\" id=\"search_item_{{$index}}\" ng-click=\"search_results()\" ng-repeat=\"suggest in search_ftr_suggst track by $index\" ng-show=\"suggestions && searchText.length > 0 && inputFocus\" ng-mouseover=\"highlight_item_mouse_hover($index)\" ng-class=\"{\\'cb-main-srch-box-item-border\\':suggest.hasBorder, \\'cb-big\\': suggest.isSearchItem}\" > <a ng-if=\"!suggest.isSearchItem\" class=\"text-black cb-srch-suggest-link\"> <div class=\"cb-srch-suggest-img\" ng-class=\"{\\'cb-srch-suggest-img-teams\\': suggest.type == \\'Teams\\'}\"> <div ng-if=\"suggest.imgUrl\" class=\"\"> <img class=\"cb-srch-suggest-icon-img\" ng-src=\"{{suggest.imgUrl}}\" /> </div> <div ng-if=\"!suggest.imgUrl\" class=\"cb-srch-sugggest-icon {{suggest.iconClass}} cb-ico\"> </div> </div> <div class=\"cb-srch-suggest-content\"> <p class=\"cb-srch-suggest-content-title\" ng-bind-html=\"suggest | searchfilter:oldText\"></p> <p class=\"cb-srch-suggest-content-subtitle cb-font-12 cb-text-gray\">{{suggest.tag}}</p> </div> </a> <a ng-if=\"suggest.isSearchItem\" href=\"javascript:void(0)\" class=\"text-black cb-srch-suggest-link\"> <div class=\"cb-srch-suggest-img\"> <div class=\"cb-srch-sugggest-icon cb-srch-sugggest-icon-search cb-ico\"> </div> </div> <div class=\"cb-srch-suggest-content cb-center-text\"> <p class=\"cb-srch-suggest-content-title\">Search for &#8220;<span ng-bind=\"searchText\"></span>&#8221;</p> </div> </a> </li> </ul> </div> </div> </div> <div class=\"cb-search-submit-nav\" ng-class=\"{\\'cb-search-submit-input-focus\\': inputFocus, \\'cb-search-submit-error\\': errorText}\"> <a class=\"text-white cb-srch-bttn\" ng-class=\"{\\'cb-srch-high-zIndex\\':dropdownVisible}\" ng-click=\"search_results(false, true)\">SEARCH</a> </div> </form></div><style>.cb-srch-ico{margin: 0}</style> </div> </div> </nav></div></header><div class=\"page\"><div id=\"fb-root\"></div><div id=\"page-wrapper\" class=\"container\" style=\"display:inline-block;\"><div id=\"shosh\" class=\"ad-unit shosh-embed\" style=\"height:0; width:980px; text-align:center;\"></div><span id=\"skin_left\" class=\"ad-unit\" style=\"overflow:hidden; position:fixed;top:0;left:calc(50% - 635px);margin-right:3px;z-index:-99;\" ></span> <div class=\"cb-col cb-col-100\"><div id=\"match_menu_container\" class=\"cb-col cb-col-100 html-refresh\" url=\"/api/html/homepage-scag\" timeout=\"45000\"><div class=\"cb-nav-main cb-bg-white\" ng-init=\"run_active = \\'Featured\\'\"><nav class=\"cb-nav-bar\" id=\"scagTab\"><a href=\"javascript:void(0)\" ng-class=\"{true:\\'active\\',false:\\'\\'}[run_active == \\'Featured\\']\" class=\"cb-nav-tab-hm active\" id=\"featured-mtchs-tab\" ng-click=\"run_active = \\'Featured\\'\">Featured</a><a href=\"javascript:void(0)\" ng-class=\"{true:\\'active\\',false:\\'\\'}[run_active == \\'International\\']\" class=\"cb-nav-tab-hm \" id=\"international-mtchs-tab\" ng-click=\"run_active = \\'International\\'\">International</a><a href=\"javascript:void(0)\" ng-class=\"{true:\\'active\\',false:\\'\\'}[run_active == \\'ICC Cricket WC 2019\\']\" class=\"cb-nav-tab-hm \" id=\"icc-cricket-wc-2019-mtchs-tab\" ng-click=\"run_active = \\'ICC Cricket WC 2019\\'\">ICC Cricket WC 2019</a><a href=\"javascript:void(0)\" ng-class=\"{true:\\'active\\',false:\\'\\'}[run_active == \\'PAK U19 tour of SA\\']\" class=\"cb-nav-tab-hm \" id=\"pak-u19-tour-of-sa-mtchs-tab\" ng-click=\"run_active = \\'PAK U19 tour of SA\\'\">PAK U19 tour of SA</a><a class=\"cb-nav-tab-hm cb-text-link cb-all-mtch-tab\" href=\"/cricket-match/live-scores\" title=\"Live Scores of Cricket Matches\" id=\"AllMatches\">All Matches</a></nav></div><div class=\"cb-bg-white\" style=\"min-height:90px;\" id=\"hm-scag-mtch-blk\"><div ng-if=\"run_active == \\'Featured\\'\" ><div class=\"cb-col-100 cb-col cb-hm-scg-blk \"><div class=\"cb-col cb-col-25 cb-mtch-blk\"><a title=\"Pakistan v Afghanistan - Match 36\" href=\"/live-cricket-scores/20272/pak-vs-afg-match-36-icc-cricket-world-cup-2019\" target=\"_self\" class=\"cb-font-12\"><div class=\"cb-hmscg-bat-txt cb-ovr-flo \"><div class=\\'cb-ovr-flo cb-hmscg-tm-nm\\'>AFG</div><div class=\\'cb-ovr-flo\\' style=\\'display:inline-block; width:140px\\'>73/3 (14.1 Ovs)</div></div><div class=\"cb-hmscg-bwl-txt \"><div class=\\'cb-ovr-flo cb-hmscg-tm-nm\\'>PAK</div><div class=\\'cb-ovr-flo\\' style=\\'display:inline-block; width:140px\\'></div></div><div class=\" cb-ovr-flo cb-text-live\">Afghanistan opt to bat</div></a></div><div class=\"cb-col cb-col-25 cb-mtch-blk\"><a title=\"England v India - Match 38\" href=\"/live-cricket-scores/20274/eng-vs-ind-match-38-icc-cricket-world-cup-2019\" target=\"_self\" class=\"cb-font-12\"><div class=\"cb-hmscg-bat-txt cb-ovr-flo \">England</div> <div class=\"cb-hmscg-bat-txt cb-ovr-flo \">India</div><div class=\" cb-ovr-flo cb-text-preview\" ng-bind=\"1561887000000 |date: \\'EEEE, d MMM, hh:mm a\\'\"></div></a></div><div class=\"cb-col cb-col-25 cb-mtch-blk\"><a title=\"New Zealand v Australia - Match 37\" href=\"/live-cricket-scores/20273/nz-vs-aus-match-37-icc-cricket-world-cup-2019\" target=\"_self\" class=\"cb-font-12\"><div class=\"cb-hmscg-bat-txt cb-ovr-flo \">New Zealand</div> <div class=\"cb-hmscg-bat-txt cb-ovr-flo \">Australia</div><div class=\" cb-ovr-flo cb-text-preview\" ng-bind=\"1561811400000 |date: \\'EEEE, d MMM, hh:mm a\\'\"></div></a></div><div class=\"cb-col cb-col-25 cb-mtch-blk\"><a title=\"Sri Lanka v South Africa - Match 35\" href=\"/live-cricket-scores/20271/sl-vs-rsa-match-35-icc-cricket-world-cup-2019\" target=\"_self\" class=\"cb-font-12\"><div class=\"cb-hmscg-bat-txt cb-ovr-flo \"><div class=\\'cb-ovr-flo cb-hmscg-tm-nm\\'>RSA</div><div class=\\'cb-ovr-flo\\' style=\\'display:inline-block; width:140px\\'>206/1 (37.2 Ovs)</div></div><div class=\"cb-hmscg-bwl-txt \"><div class=\\'cb-ovr-flo cb-hmscg-tm-nm\\'>SL</div><div class=\\'cb-ovr-flo\\' style=\\'display:inline-block; width:140px\\'>203 (49.3 Ovs)</div></div><div class=\" cb-ovr-flo cb-text-complete\">South Africa won by 9 wkts</div></a></div></div></div><div ng-if=\"run_active == \\'International\\'\" ><div class=\"cb-col-100 cb-col cb-hm-scg-blk ng-cloak\"><div class=\"cb-col cb-col-25 cb-mtch-blk\"><a title=\"Pakistan v Afghanistan - Match 36\" href=\"/live-cricket-scores/20272/pak-vs-afg-match-36-icc-cricket-world-cup-2019\" target=\"_self\" class=\"cb-font-12\"><div class=\"cb-hmscg-bat-txt cb-ovr-flo \"><div class=\\'cb-ovr-flo cb-hmscg-tm-nm\\'>AFG</div><div class=\\'cb-ovr-flo\\' style=\\'display:inline-block; width:140px\\'>73/3 (14.1 Ovs)</div></div><div class=\"cb-hmscg-bwl-txt \"><div class=\\'cb-ovr-flo cb-hmscg-tm-nm\\'>PAK</div><div class=\\'cb-ovr-flo\\' style=\\'display:inline-block; width:140px\\'></div></div><div class=\" cb-ovr-flo cb-text-live\">Afghanistan opt to bat</div></a></div><div class=\"cb-col cb-col-25 cb-mtch-blk\"><a title=\"England v India - Match 38\" href=\"/live-cricket-scores/20274/eng-vs-ind-match-38-icc-cricket-world-cup-2019\" target=\"_self\" class=\"cb-font-12\"><div class=\"cb-hmscg-bat-txt cb-ovr-flo \">England</div> <div class=\"cb-hmscg-bat-txt cb-ovr-flo \">India</div><div class=\" cb-ovr-flo cb-text-preview\" ng-bind=\"1561887000000 |date: \\'EEEE, d MMM, hh:mm a\\'\"></div></a></div><div class=\"cb-col cb-col-25 cb-mtch-blk\"><a title=\"New Zealand v Australia - Match 37\" href=\"/live-cricket-scores/20273/nz-vs-aus-match-37-icc-cricket-world-cup-2019\" target=\"_self\" class=\"cb-font-12\"><div class=\"cb-hmscg-bat-txt cb-ovr-flo \">New Zealand</div> <div class=\"cb-hmscg-bat-txt cb-ovr-flo \">Australia</div><div class=\" cb-ovr-flo cb-text-preview\" ng-bind=\"1561811400000 |date: \\'EEEE, d MMM, hh:mm a\\'\"></div></a></div><div class=\"cb-col cb-col-25 cb-mtch-blk\"><a title=\"Sri Lanka v South Africa - Match 35\" href=\"/live-cricket-scores/20271/sl-vs-rsa-match-35-icc-cricket-world-cup-2019\" target=\"_self\" class=\"cb-font-12\"><div class=\"cb-hmscg-bat-txt cb-ovr-flo \"><div class=\\'cb-ovr-flo cb-hmscg-tm-nm\\'>RSA</div><div class=\\'cb-ovr-flo\\' style=\\'display:inline-block; width:140px\\'>206/1 (37.2 Ovs)</div></div><div class=\"cb-hmscg-bwl-txt \"><div class=\\'cb-ovr-flo cb-hmscg-tm-nm\\'>SL</div><div class=\\'cb-ovr-flo\\' style=\\'display:inline-block; width:140px\\'>203 (49.3 Ovs)</div></div><div class=\" cb-ovr-flo cb-text-complete\">South Africa won by 9 wkts</div></a></div></div></div><div ng-if=\"run_active == \\'ICC Cricket WC 2019\\'\" ><div class=\"cb-col-100 cb-col cb-hm-scg-blk ng-cloak\"><div class=\"cb-col cb-col-25 cb-mtch-blk\"><a title=\"Pakistan v Afghanistan - Match 36\" href=\"/live-cricket-scores/20272/pak-vs-afg-match-36-icc-cricket-world-cup-2019\" target=\"_self\" class=\"cb-font-12\"><div class=\"cb-hmscg-bat-txt cb-ovr-flo \"><div class=\\'cb-ovr-flo cb-hmscg-tm-nm\\'>AFG</div><div class=\\'cb-ovr-flo\\' style=\\'display:inline-block; width:140px\\'>73/3 (14.1 Ovs)</div></div><div class=\"cb-hmscg-bwl-txt \"><div class=\\'cb-ovr-flo cb-hmscg-tm-nm\\'>PAK</div><div class=\\'cb-ovr-flo\\' style=\\'display:inline-block; width:140px\\'></div></div><div class=\" cb-ovr-flo cb-text-live\">Afghanistan opt to bat</div></a></div><div class=\"cb-col cb-col-25 cb-mtch-blk\"><a title=\"England v India - Match 38\" href=\"/live-cricket-scores/20274/eng-vs-ind-match-38-icc-cricket-world-cup-2019\" target=\"_self\" class=\"cb-font-12\"><div class=\"cb-hmscg-bat-txt cb-ovr-flo \">England</div> <div class=\"cb-hmscg-bat-txt cb-ovr-flo \">India</div><div class=\" cb-ovr-flo cb-text-preview\" ng-bind=\"1561887000000 |date: \\'EEEE, d MMM, hh:mm a\\'\"></div></a></div><div class=\"cb-col cb-col-25 cb-mtch-blk\"><a title=\"New Zealand v Australia - Match 37\" href=\"/live-cricket-scores/20273/nz-vs-aus-match-37-icc-cricket-world-cup-2019\" target=\"_self\" class=\"cb-font-12\"><div class=\"cb-hmscg-bat-txt cb-ovr-flo \">New Zealand</div> <div class=\"cb-hmscg-bat-txt cb-ovr-flo \">Australia</div><div class=\" cb-ovr-flo cb-text-preview\" ng-bind=\"1561811400000 |date: \\'EEEE, d MMM, hh:mm a\\'\"></div></a></div><div class=\"cb-col cb-col-25 cb-mtch-blk\"><a title=\"Sri Lanka v South Africa - Match 35\" href=\"/live-cricket-scores/20271/sl-vs-rsa-match-35-icc-cricket-world-cup-2019\" target=\"_self\" class=\"cb-font-12\"><div class=\"cb-hmscg-bat-txt cb-ovr-flo \"><div class=\\'cb-ovr-flo cb-hmscg-tm-nm\\'>RSA</div><div class=\\'cb-ovr-flo\\' style=\\'display:inline-block; width:140px\\'>206/1 (37.2 Ovs)</div></div><div class=\"cb-hmscg-bwl-txt \"><div class=\\'cb-ovr-flo cb-hmscg-tm-nm\\'>SL</div><div class=\\'cb-ovr-flo\\' style=\\'display:inline-block; width:140px\\'>203 (49.3 Ovs)</div></div><div class=\" cb-ovr-flo cb-text-complete\">South Africa won by 9 wkts</div></a></div></div></div><div ng-if=\"run_active == \\'PAK U19 tour of SA\\'\" ><div class=\"cb-col-100 cb-col cb-hm-scg-blk ng-cloak\"><div class=\"cb-col cb-col-25 cb-mtch-blk\"><a title=\"South Africa U19 v Pakistan U19 - 4th Youth ODI\" href=\"/live-cricket-scores/22864/rsau19-vs-paku19-4th-youth-odi-pakistan-under-19-tour-of-south-africa-2019\" target=\"_self\" class=\"cb-font-12\"><div class=\"cb-hmscg-bat-txt cb-ovr-flo \">South Africa U19</div> <div class=\"cb-hmscg-bat-txt cb-ovr-flo \">Pakistan U19</div><div class=\" cb-ovr-flo cb-text-preview\" ng-bind=\"1561878000000 |date: \\'EEEE, d MMM, hh:mm a\\'\"></div></a></div></div></div></div></div><div id=\"menu_branding\" class=\"ad-unit\" style=\"float:right;\"></div></div><nav class=\"cb-col cb-col-100 cb-bg-white cb-qck-lnk\" id=\"cb-qck-navbar\"> <h1 class=\"cb-qck-lnk-hdr inline-block\">World Cup 2019</h1> <a class=\"cb-text-link cb-qck-ancr\" href=\"/cricket-series/2697/icc-cricket-world-cup-2019\" title=\"World Cup 2019\">Home</a><a class=\"cb-text-link cb-qck-ancr\" href=\"/cricket-series/2697/icc-cricket-world-cup-2019/matches\" title=\"World Cup 2019 Schedule\">Schedule</a><a class=\"cb-text-link cb-qck-ancr\" href=\"/cricket-series/2697/icc-cricket-world-cup-2019/points-table\" title=\"World Cup 2019 Points Table\">Points Table</a><a class=\"cb-text-link cb-qck-ancr\" href=\"/cricket-series/2697/icc-cricket-world-cup-2019/news\" title=\"World Cup 2019 News\">News</a><a class=\"cb-text-link cb-qck-ancr\" href=\"/cricket-series/2697/icc-cricket-world-cup-2019/videos\" title=\"World Cup 2019 Videos\">Videos</a><a class=\"cb-text-link cb-qck-ancr\" href=\"/cricket-series/2697/icc-cricket-world-cup-2019/squads\" title=\"World Cup 2019 Squads\">Squads</a><a class=\"cb-text-link cb-qck-ancr\" href=\"/special-content/boundary-tracker/2697/icc-cricket-world-cup-2019\" title=\"World Cup 2019 Boundary Tracker\">Boundary Tracker</a><a class=\"cb-text-link cb-qck-ancr\" href=\"/cricket-news/108171/world-cup-2019-that-happened\" title=\"World Cup Pulse\">Pulse</a></nav><style>.cb-qck-lnk-hdr{ font-size:18px; line-height: 27px;\\n}</style> <meta http-equiv=\"refresh\" content=\"400\"> <div class=\"cb-col cb-col-20\"> <div class=\"cb-bg-white\" id=\"cb-news-blck\"><h2 class=\"cb-hm-lft-hdr cb-lv-scr-mtch-hdr\">LATEST NEWS</h2><div class=\\'cb-hm-lft\\'><div class=\"cb-col-100 cb-lst-itm cb-lst-itm-sm\"><a class=\"cb-nws-hdln-ancr text-hvr-underline\" href=\"/cricket-news/108734/australia-resist-temptation-to-rest-starc-and-cummins-before-knockouts\" title=\"Australia resist temptation to rest Starc and Cummins before knockouts\">Australia resist temptation to rest Starc and Cummins before knockouts</a><div class=\"cb-nws-time\">8h ago</div></div><div class=\"cb-col-100 cb-lst-itm cb-lst-itm-sm\"><a class=\"cb-nws-hdln-ancr text-hvr-underline\" href=\"/cricket-news/108732/sri-lanka-switch-from-fifth-gear-to-reverse-in-double-quick-time\" title=\"Sri Lanka switch from fifth gear to reverse in double quick time\">Sri Lanka switch from fifth gear to reverse in double quick time</a><div class=\"cb-nws-time\">15h ago</div></div><div class=\"cb-col-100 cb-lst-itm cb-lst-itm-sm\"><a class=\"cb-nws-hdln-ancr text-hvr-underline\" href=\"/cricket-news/108731/du-plessis-and-the-saga-of-bittersweet-win\" title=\" Du Plessis and the saga of a bittersweet win\"> Du Plessis and the saga of a bittersweet win</a><div class=\"cb-nws-time\">15h ago</div></div><div class=\"cb-col-100 cb-lst-itm cb-lst-itm-sm\"><a class=\"cb-nws-hdln-ancr text-hvr-underline\" href=\"/cricket-news/108729/muted-buttler-keen-to-make-some-noise-icc-cricket-world-cup-2019\" title=\"Muted Buttler keen to make some noise\">Muted Buttler keen to make some noise</a><div class=\"cb-nws-time\">16h ago</div></div><div class=\"cb-col-100 cb-lst-itm cb-lst-itm-sm\"><a class=\"cb-nws-hdln-ancr text-hvr-underline\" href=\"/cricket-news/108726/naib-hopes-cricket-mends-relationships-off-the-pitch\" title=\"Naib hopes cricket mends relationships off the pitch\">Naib hopes cricket mends relationships off the pitch</a><div class=\"cb-nws-time\">18h ago</div></div><div class=\"cb-col-100 cb-lst-itm cb-lst-itm-sm\"><a class=\"cb-nws-hdln-ancr text-hvr-underline\" href=\"/cricket-news/108722/icc-cricket-world-cup-2019-carlos-brathwaite-fined-handed-demerit-point-for-dissenting-wide-call\" title=\"Brathwaite fined, handed demerit point for dissenting wide call\">Brathwaite fined, handed demerit point for dissenting wide call</a><div class=\"cb-nws-time\">21h ago</div></div><div class=\"cb-col-100 cb-lst-itm cb-lst-itm-sm\"><a class=\"cb-nws-hdln-ancr text-hvr-underline\" href=\"/cricket-news/108721/deepti-sharma-to-play-for-western-storm\" title=\"Deepti Sharma to play for Western Storm\">Deepti Sharma to play for Western Storm</a><div class=\"cb-nws-time\">22h ago</div></div><div class=\"cb-col-100 cb-lst-itm cb-lst-itm-sm\"><a class=\"cb-nws-hdln-ancr text-hvr-underline\" href=\"/cricket-news/108720/no-plan-to-retire-immediately-after-world-cup-mortaza\" title=\"No plan to retire immediately after World Cup: Mortaza\">No plan to retire immediately after World Cup: Mortaza</a><div class=\"cb-nws-time\">23h ago</div></div><div class=\"cb-col-100 cb-lst-itm cb-lst-itm-sm\"><a class=\"cb-nws-hdln-ancr text-hvr-underline\" href=\"/cricket-news/108718/icc-cricket-world-cup-2019-indian-cricket-team-west-indies-kl-rahul\" title=\"Rahul disappointed at throwing away starts\">Rahul disappointed at throwing away starts</a><div class=\"cb-nws-time\">1d ago</div></div><div class=\"cb-col-100 cb-lst-itm cb-lst-itm-sm\"><a class=\"cb-nws-hdln-ancr text-hvr-underline\" href=\"/cricket-news/108711/icc-cricket-world-cup-2019-south-africa-will-play-fearless-cricket-with-no-pressure-of-qualifying-chadika-hathurusingha-sri-lanka-cricket-team\" title=\"South Africa will play fearless cricket with no pressure of qualifying - Hathurusingha\">South Africa will play fearless cricket with no pressure of qualifying - Hathurusingha</a><div class=\"cb-nws-time\">1d ago</div></div><div class=\"cb-hm-mr-lnk\"><a class=\"cb-font-12 cb-text-link\" href=\"/cricket-news/latest-news\" title=\"More News\"><i>More News..</i></a></div></div></div> <div class=\"cb-bg-white\" id=\"hm-photos-blk\"> <h2 class=\"cb-hm-lft-hdr cb-lv-scr-mtch-hdr\">LATEST PHOTOS</h2> <div class=\\'cb-hm-lft\\'> <div class=\"cb-col-100 cb-lst-itm cb-lst-itm-sm\"> <a href=\"/cricket-gallery/4633/south-africa-v-sri-lanka-icc-world-cup-2019\" title=\"South Africa v Sri Lanka, ICC World Cup 2019\"> <img width=\"165\" height=\"95\" class=\"lazy-loading pad-0\" alt=\"South Africa v Sri Lanka, ICC World Cup 2019\" src=\"\" source=\"/a/img/v1/165x95/i1/c175780/south-africa-v-sri-lanka-icc.jpg\"/> <div class=\"cb-nws-hdln\">South Africa v Sri Lanka, ICC World Cup 2019</div> <span class=\"cb-nws-time\">Fri, Jun 28 2019</span> </a> </div> <div class=\"cb-col-100 cb-lst-itm cb-lst-itm-sm\"> <a href=\"/cricket-gallery/4632/west-indies-vs-india-icc-world-cup-2019-match-34\" title=\"West Indies vs India, ICC World Cup 2019, Match 34\"> <img width=\"165\" height=\"95\" class=\"lazy-loading pad-0\" alt=\"West Indies vs India, ICC World Cup 2019, Match 34\" src=\"\" source=\"/a/img/v1/165x95/i1/c175594/west-indies-vs-india-icc-worl.jpg\"/> <div class=\"cb-nws-hdln\">West Indies vs India, ICC World Cup 2019, Match 34</div> <span class=\"cb-nws-time\">Thu, Jun 27 2019</span> </a> </div> <div class=\"cb-col-100 cb-lst-itm cb-lst-itm-sm\"> <a href=\"/cricket-gallery/4631/new-zealand-vs-pakistan-icc-world-cup-match-33\" title=\"New Zealand vs Pakistan, ICC World Cup, Match 33\"> <img width=\"165\" height=\"95\" class=\"lazy-loading pad-0\" alt=\"New Zealand vs Pakistan, ICC World Cup, Match 33\" src=\"\" source=\"/a/img/v1/165x95/i1/c175492/new-zealand-vs-pakistan-icc-w.jpg\"/> <div class=\"cb-nws-hdln\">New Zealand vs Pakistan, ICC World Cup, Match 33</div> <span class=\"cb-nws-time\">Wed, Jun 26 2019</span> </a> </div> <div class=\"cb-col-100 cb-lst-itm cb-lst-itm-sm\"> <a href=\"/cricket-gallery/4630/england-v-australia-icc-world-cup-2019\" title=\"England v Australia, ICC World Cup 2019\"> <img width=\"165\" height=\"95\" class=\"lazy-loading pad-0\" alt=\"England v Australia, ICC World Cup 2019\" src=\"\" source=\"/a/img/v1/165x95/i1/c175312/england-v-australia-icc-world.jpg\"/> <div class=\"cb-nws-hdln\">England v Australia, ICC World Cup 2019</div> <span class=\"cb-nws-time\">Tue, Jun 25 2019</span> </a> </div> <div class=\"cb-col-100 cb-lst-itm cb-lst-itm-sm\"> <a href=\"/cricket-gallery/4629/afghanistan-v-bangladesh-icc-world-cup-match-31\" title=\"Afghanistan v Bangladesh, ICC World Cup, Match 31\"> <img width=\"165\" height=\"95\" class=\"lazy-loading pad-0\" alt=\"Afghanistan v Bangladesh, ICC World Cup, Match 31\" src=\"\" source=\"/a/img/v1/165x95/i1/c175163/afghanistan-v-bangladesh-icc.jpg\"/> <div class=\"cb-nws-hdln\">Afghanistan v Bangladesh, ICC World Cup, Match 31</div> <span class=\"cb-nws-time\">Mon, Jun 24 2019</span> </a> </div> <div class=\"cb-col-100 cb-lst-itm cb-lst-itm-sm\"> <a href=\"/cricket-gallery/4628/pakistan-vs-south-africa-match-30-icc-world-cup-2019\" title=\"Pakistan vs South Africa, Match 30, ICC World Cup 2019 \"> <img width=\"165\" height=\"95\" class=\"lazy-loading pad-0\" alt=\"Pakistan vs South Africa, Match 30, ICC World Cup 2019 \" src=\"\" source=\"/a/img/v1/165x95/i1/c175027/pakistan-vs-south-africa-matc.jpg\"/> <div class=\"cb-nws-hdln\">Pakistan vs South Africa, Match 30, ICC World Cup 2019 </div> <span class=\"cb-nws-time\">Sun, Jun 23 2019</span> </a> </div> <div class=\" cb-hm-mr-lnk\"> <a class=\"cb-font-12 cb-text-link\" href=\"/cricket-photo-gallery\" title=\"More Photos\"><i>More Photos..</i></a> </div> </div> </div> <div class=\"cb-bg-white\"> <h2 class=\"cb-hm-lft-hdr cb-lv-scr-mtch-hdr\">SCHEDULE</h2> <div class=\\'cb-hm-lft\\'> <div class=\"cb-col-100 cb-lst-itm cb-lst-itm-sm\"> <div>Pakistan vs Afghanistan, Match 36</div> <div class=\"cb-nws-time\"><span class=\"schedule-date\" timestamp=\"1561800600000\" venue=\"+01:00\" format=\"EEE MMM dd\"></span>&nbsp;&#8226;&nbsp;<span class=\"schedule-date\" timestamp=\"1561800600000\" venue=\"+01:00\" format=\"h:mm a\"></span>&nbsp;GMT</div> </div> <div class=\"cb-col-100 cb-lst-itm cb-lst-itm-sm\"> <div>New Zealand vs Australia, Match 37</div> <div class=\"cb-nws-time\"><span class=\"schedule-date\" timestamp=\"1561811400000\" venue=\"+01:00\" format=\"EEE MMM dd\"></span>&nbsp;&#8226;&nbsp;<span class=\"schedule-date\" timestamp=\"1561811400000\" venue=\"+01:00\" format=\"h:mm a\"></span>&nbsp;GMT</div> </div> <div class=\"cb-col-100 cb-lst-itm cb-lst-itm-sm\"> <div>England vs India, Match 38</div> <div class=\"cb-nws-time\"><span class=\"schedule-date\" timestamp=\"1561887000000\" venue=\"+01:00\" format=\"EEE MMM dd\"></span>&nbsp;&#8226;&nbsp;<span class=\"schedule-date\" timestamp=\"1561887000000\" venue=\"+01:00\" format=\"h:mm a\"></span>&nbsp;GMT</div> </div> <div class=\"cb-col-100 cb-lst-itm cb-lst-itm-sm\"> <div>Sri Lanka vs West Indies, Match 39</div> <div class=\"cb-nws-time\"><span class=\"schedule-date\" timestamp=\"1561973400000\" venue=\"+01:00\" format=\"EEE MMM dd\"></span>&nbsp;&#8226;&nbsp;<span class=\"schedule-date\" timestamp=\"1561973400000\" venue=\"+01:00\" format=\"h:mm a\"></span>&nbsp;GMT</div> </div> <div class=\"cb-col-100 cb-lst-itm cb-lst-itm-sm\"> <div>Ireland vs Zimbabwe, 1st ODI</div> <div class=\"cb-nws-time\"><span class=\"schedule-date\" timestamp=\"1561974300000\" venue=\"+01:00\" format=\"EEE MMM dd\"></span>&nbsp;&#8226;&nbsp;<span class=\"schedule-date\" timestamp=\"1561974300000\" venue=\"+01:00\" format=\"h:mm a\"></span>&nbsp;GMT</div> </div> <div class=\"cb-col-100 cb-lst-itm cb-lst-itm-sm\"> <div>Bangladesh vs India, Match 40</div> <div class=\"cb-nws-time\"><span class=\"schedule-date\" timestamp=\"1562059800000\" venue=\"+01:00\" format=\"EEE MMM dd\"></span>&nbsp;&#8226;&nbsp;<span class=\"schedule-date\" timestamp=\"1562059800000\" venue=\"+01:00\" format=\"h:mm a\"></span>&nbsp;GMT</div> </div> <div class=\"cb-col-100 cb-lst-itm cb-lst-itm-sm\"> <div>England vs New Zealand, Match 41</div> <div class=\"cb-nws-time\"><span class=\"schedule-date\" timestamp=\"1562146200000\" venue=\"+01:00\" format=\"EEE MMM dd\"></span>&nbsp;&#8226;&nbsp;<span class=\"schedule-date\" timestamp=\"1562146200000\" venue=\"+01:00\" format=\"h:mm a\"></span>&nbsp;GMT</div> </div> <div class=\"cb-hm-mr-lnk\"> <a class=\"cb-font-12 cb-text-link\" href=\"/cricket-schedule/upcoming-series/international\" title=\"Cricket Schedule\"><i>More Matches..</i></a> </div> </div> </div> </div><div class=\"cb-col cb-col-47\"><div id=\"video_playlist\"> <script> CBQueue.push(function(){ if((_GEO.country == \"US\" || _GEO.country == \"CA\") && false){ _ele(\\'#video_playlist\\').html(\\'<div class=\"cb-bg-white\" style=\"margin:0 5px 10px;\"><div class=\"kaltura-playlist\" uiconf_id=\"33885652\" entry_id=\"0_lvphia47\" uiautoplay=\"false\" style=\"width:420px;height:385px;padding:10px 15px;\"></div></div>\\'); }else if([\"AE\",\"SA\",\"KW\",\"BH\",\"QA\",\"OM\",\"GB\"].indexOf(_GEO.country) != -1 && false){ var eplr = document.createElement(\\'script\\'); eplr.type = \\'text/javascript\\'; eplr.async = true; eplr.src = \\'https://player.performgroup.com/eplayer.js#ccb175de91b4f3c5c4bbed6a35.qjdsydmry69m1je82zk8il975\\'; var vpl = document.getElementById(\\'video_playlist\\'); vpl.className = \"cb-bg-white\"; vpl.style.margin = \"0px 5px 10px\"; vpl.appendChild(eplr); } }); </script></div><script>CBQueue.push(function(){\\tif(_GEO.country == \"US\" || _GEO.country == \"CA\"){\\t_ele(\\'#kaltura-video-player\\').removeClass(\\'disp-none\\');\\t}\\tif(_GEO.country == \"IN\" ){\\t_ele(\\'specials-home-module\\').removeClass(\\'disp-none\\');\\t}\\n});</script><div class=\"cb-col cb-hm-mid cb-bg-white cb-hmpage\" style=\"clear:both\"> <div class=\\'big-crd-main cb-bg-white\\'><div class=\"crd-cntxt\"><span>PAK VS AFG, MATCH 36</span></div><a href=\"/live-cricket-scores/20272/pak-vs-afg-match-36\" title=\"Imad removes Rahmat; Afghanistan slide\"><img\\theight=\"235\"\\twidth=\"420\" alt=\"imad-removes-rahmat-afghanistan-slide\" title=\"Imad removes Rahmat; Afghanistan slide\" itemprop =\"image\" src=\"/a/img/v1/420x235/i1/c175803/imad-removes-rahmat-afghanist.jpg\" /></a><h2 class=\"big-crd-hdln\"><a href=\"/live-cricket-scores/20272/pak-vs-afg-match-36\" title=\"Imad removes Rahmat; Afghanistan slide\"> Imad removes Rahmat; Afghanistan slide</a></h2><div class=\"cb-nws-intr\">With two successive wins, Pakistan are back in contention for a spot in the semis while Afghanistan are yet to register a single victory</div><div class=\"cb-hm-mtch-crd-width cb-lv-scrs-well cb-lv-scrs-well-live\"> <a href=\"/live-cricket-scores/20272/pak-vs-afg-match-36-icc-cricket-world-cup-2019\" title=\"PAK Vs AFG, Match 36 Live cricket scores\"> <div class=\"cb-col cb-col-100 cb-hm-mtch-crd\"> <div class=\"cb-scr-wll-chvrn cb-col-90\"> <div class=\"cb-lv-scrs-col text-black\"> <div class=\"cb-col cb-mr-30\"> <div class=\\'text-bold\\'>AFG</div> <div class=\\'text-bold\\'>PAK</div> </div> <div class=\"cb-col\"> <div> <span>73-3</span> <span> (14.1)</span> </div> <div> </div> </div> </div> <div class=\"cb-lv-scrs-col cb-text-live\" style=\"white-space:unset;\">Afghanistan opt to bat</div> </div> <div class=\"cb-scr-wll-chvrn cb-col-10\"> <div class=\"cb-ico cb-lv-scr-chvrn-bg\"></div> </div> </div> </a></div><div class=\"big-crd-reltd-itm\"><a class=\"big-crd-rltd-txt\" href=\"/cricket-news/108735/live-blog\" title=\"Live blog\">Live blog</a></div></div><div class=\\'big-crd-main cb-bg-white\\'><div class=\"crd-cntxt\"><span>WORLD CUP 2019</span></div><a href=\"/cricket-news/108730/lords-switches-on-to-witness-trans-tasman-rivalry-in-a-different-light\" title=\"Lord\\'s switches on to witness Trans-Tasman rivalry in a different light\"><img\\theight=\"235\"\\twidth=\"420\" alt=\"lords-switches-on-to-witness-trans-tasman-rivalry-in-a-different-light\" title=\"Lord&#39;s switches on to witness Trans-Tasman rivalry in a different light\" itemprop =\"image\" src=\"/a/img/v1/420x235/i1/c175785/lords-switches-on-to-witness.jpg\" /></a><h2 class=\"big-crd-hdln\"><a href=\"/cricket-news/108730/lords-switches-on-to-witness-trans-tasman-rivalry-in-a-different-light\" title=\"Lord\\'s switches on to witness Trans-Tasman rivalry in a different light\"> Lord\\'s switches on to witness Trans-Tasman rivalry in a different light</a></h2><div class=\"cb-nws-intr\">With a playoff spot in sight, New Zealand will take on Australia in only the second day-night ODI at Lord\\'s</div><div class=\"big-crd-reltd-itm\"><a class=\"big-crd-rltd-txt\" href=\"/cricket-news/108725/world-cup-head-to-head-new-zealand-vs-australia\" title=\"World Cup Head to Head: New Zealand vs Australia\">World Cup Head to Head: New Zealand vs Australia</a></div></div><div class=\\'big-crd-main cb-bg-white\\'><div class=\"crd-cntxt\"><span>WORLD CUP 2019</span></div><a href=\"/cricket-news/108732/sri-lanka-switch-from-fifth-gear-to-reverse-in-double-quick-time\" title=\"Sri Lanka switch from fifth gear to reverse in double quick time\"><img\\theight=\"235\"\\twidth=\"420\" alt=\"sri-lanka-switch-from-fifth-gear-to-reverse-in-double-quick-time\" title=\"Sri Lanka switch from fifth gear to reverse in double quick time\" itemprop =\"image\" src=\"/a/img/v1/420x235/i1/c175791/sri-lanka-switch-from-fifth-ge.jpg\" /></a><h2 class=\"big-crd-hdln\"><a href=\"/cricket-news/108732/sri-lanka-switch-from-fifth-gear-to-reverse-in-double-quick-time\" title=\"Sri Lanka switch from fifth gear to reverse in double quick time\"> Sri Lanka switch from fifth gear to reverse in double quick time</a></h2><div class=\"cb-nws-intr\">After scoring 67 in the first ten overs, Sri Lanka were bowled out for a paltry 203</div><div class=\"big-crd-reltd-itm\"><a class=\"big-crd-rltd-txt\" href=\"/cricket-news/108727/dwaine-pretorius-chris-morris-bully-sri-lanka-into-submission\" title=\"Dwaine Pretorius, Chris Morris bully Sri Lanka into submission\">Report /\\tDwaine Pretorius, Chris Morris bully Sri Lanka into submission</a></div><div class=\"big-crd-reltd-itm\"><a class=\"big-crd-rltd-txt\" href=\"/cricket-news/108733/that-time-when-malinga-bowled-to-amla\" title=\"That time when Malinga bowled to Amla\">That time when Malinga bowled to Amla</a></div><div class=\"big-crd-reltd-itm\"><a class=\"big-crd-rltd-txt\" href=\"/cricket-news/108731/du-plessis-and-the-saga-of-a-bittersweet-win\" title=\"Du Plessis and the saga of a bittersweet win\">Du Plessis and the saga of a bittersweet win</a></div><div class=\"big-crd-reltd-itm\"><a class=\"big-crd-rltd-txt\" href=\"/cricket-news/108728/qualification-scenarios-sri-lankas-fate-beyond-their-control\" title=\"Qualification scenarios: Sri Lanka\\'s fate beyond their control\">Qualification scenarios: Sri Lanka\\'s fate beyond their control</a></div></div><div class=\"sml-crd-main\"><div class=\"crd-cntxt\">ON THE SPOT</div><div class=\"cb-col-33 cb-col\"><a href=\"/cricket-news/108717/mohammed-shami-good-length-great-results\" title=\"Mohammed Shami: Good length, great results\"><img\\theight=\"75\"\\twidth=\"135\"\\tclass=\"lazy-loading\" alt=\"mohammed-shami-good-length-great-results\" source=\"/a/img/v1/135x75/i1/c175673/mohammed-shami-good-length-g.jpg\" src=\"\" style=\"padding:0px;\"/></a></div><div class=\"cb-col-67 cb-col cb-hdln-hght\"><h3 class=\"sml-crd-hdln\"><a href=\"/cricket-news/108717/mohammed-shami-good-length-great-results\" title=\"Mohammed Shami: Good length, great results\">Mohammed Shami: Good length, great results</a></h3><div class=\"sml-crd-subtxt\">8h ago</div></div><div class=\"cb-nws-intr\">Running in from the Brian Statham end, Shami produced a seam-bowling masterclass against West Indies at Old Trafford</div> <div class=\"big-crd-reltd-itm\"> <a class=\"big-crd-rltd-txt\" href=\"/cricket-news/108718/rahul-disappointed-at-throwing-away-starts\" title=\"Rahul disappointed at throwing away starts\">Rahul disappointed at throwing away starts</a></div><div class=\"big-crd-reltd-itm\"> <a class=\"big-crd-rltd-txt\" href=\"/cricket-news/108729/muted-buttler-keen-to-make-some-noise\" title=\"Muted Buttler keen to make some noise\">Muted Buttler keen to make some noise</a></div></div><div class=\"sml-crd-main\"><div class=\"crd-cntxt\">WORLD CUP 2019</div><div class=\"cb-col-33 cb-col\"><a href=\"/cricket-news/108720/no-plan-to-retire-immediately-after-world-cup-mortaza\" title=\"No plan to retire immediately after World Cup: Mortaza\"><img\\theight=\"75\"\\twidth=\"135\"\\tclass=\"lazy-loading\" alt=\"no-plan-to-retire-immediately-after-world-cup-mortaza\" source=\"/a/img/v1/135x75/i1/c175701/no-plan-to-retire-immediately.jpg\" src=\"\" style=\"padding:0px;\"/></a></div><div class=\"cb-col-67 cb-col cb-hdln-hght\"><h3 class=\"sml-crd-hdln\"><a href=\"/cricket-news/108720/no-plan-to-retire-immediately-after-world-cup-mortaza\" title=\"No plan to retire immediately after World Cup: Mortaza\">No plan to retire immediately after World Cup: Mortaza</a></h3><div class=\"sml-crd-subtxt\">8h ago</div></div><div class=\"cb-nws-intr\">The Bangladesh captain had earlier announced 2019 will be his last World Cup, adding fuel to the retirement speculations</div> <div class=\"big-crd-reltd-itm\"> <a class=\"big-crd-rltd-txt\" href=\"/cricket-news/108686/gayle-backtracks-on-odi-retirement-available-for-india-series\" title=\"Gayle backtracks on ODI retirement, available for India series\">Gayle backtracks on ODI retirement, available for India series</a></div></div><div class=\"sml-crd-main\"><div class=\"crd-cntxt\">WOMEN\\'S CRICKET SUPER LEAGUE</div><div class=\"cb-col-33 cb-col\"><a href=\"/cricket-news/108721/deepti-sharma-to-play-for-western-storm\" title=\"Deepti Sharma to play for Western Storm\"><img\\theight=\"75\"\\twidth=\"135\"\\tclass=\"lazy-loading\" alt=\"deepti-sharma-to-play-for-western-storm\" source=\"/a/img/v1/135x75/i1/c175714/deepti-sharma-to-play-for-west.jpg\" src=\"\" style=\"padding:0px;\"/></a></div><div class=\"cb-col-67 cb-col cb-hdln-hght\"><h3 class=\"sml-crd-hdln\"><a href=\"/cricket-news/108721/deepti-sharma-to-play-for-western-storm\" title=\"Deepti Sharma to play for Western Storm\">Deepti Sharma to play for Western Storm</a></h3><div class=\"sml-crd-subtxt\">22h ago</div></div><div class=\"cb-nws-intr\">The 21-year-old is currently ranked second among ODI all-rounders</div> </div><div class=\"sml-crd-main\"><div class=\"crd-cntxt\">ENGLISH LEGEND</div><div class=\"cb-col-33 cb-col\"><a href=\"/cricket-news/108709/trescothick-announces-retirement-from-professional-cricket\" title=\"Trescothick announces retirement from professional cricket\"><img\\theight=\"75\"\\twidth=\"135\"\\tclass=\"lazy-loading\" alt=\"trescothick-announces-retirement-from-professional-cricket\" source=\"/a/img/v1/135x75/i1/c175606/trescothick-announces-retireme.jpg\" src=\"\" style=\"padding:0px;\"/></a></div><div class=\"cb-col-67 cb-col cb-hdln-hght\"><h3 class=\"sml-crd-hdln\"><a href=\"/cricket-news/108709/trescothick-announces-retirement-from-professional-cricket\" title=\"Trescothick announces retirement from professional cricket\">Trescothick announces retirement from professional cricket</a></h3><div class=\"sml-crd-subtxt\">1d ago</div></div><div class=\"cb-nws-intr\">The veteran southpaw, who made his first-class debut in 1993, has failed to find form in the ongoing County Championship season</div> </div><div class=\\'big-crd-main cb-bg-white\\'><div class=\"crd-cntxt\"><span>WHAT\\'S THE BUZZ</span></div><a href=\"/cricket-news/108171/world-cup-pulse\" title=\"World Cup Pulse\"><img\\theight=\"235\"\\twidth=\"420\" alt=\"world-cup-pulse\" title=\"World Cup Pulse\" itemprop =\"image\" src=\"/a/img/v1/420x235/i1/c170196/world-cup-pulse.jpg\" /></a><h2 class=\"big-crd-hdln\"><a href=\"/cricket-news/108171/world-cup-pulse\" title=\"World Cup Pulse\"> World Cup Pulse</a></h2><div class=\"cb-nws-intr\">All that\\'s happening on and off the field at the 2019 World Cup in England & Wales</div></div><div class=\"sml-crd-main\"><div class=\"crd-cntxt\">BANGLADESH CRICKET</div><div class=\"cb-col-33 cb-col\"><a href=\"/cricket-news/108706/bangladesh-await-security-clearance-for-sri-lanka-tour\" title=\"Bangladesh await security clearance for Sri Lanka tour\"><img\\theight=\"75\"\\twidth=\"135\"\\tclass=\"lazy-loading\" alt=\"bangladesh-await-security-clearance-for-sri-lanka-tour\" source=\"/a/img/v1/135x75/i1/c175546/bangladesh-await-security-clea.jpg\" src=\"\" style=\"padding:0px;\"/></a></div><div class=\"cb-col-67 cb-col cb-hdln-hght\"><h3 class=\"sml-crd-hdln\"><a href=\"/cricket-news/108706/bangladesh-await-security-clearance-for-sri-lanka-tour\" title=\"Bangladesh await security clearance for Sri Lanka tour\">Bangladesh await security clearance for Sri Lanka tour</a></h3><div class=\"sml-crd-subtxt\">1d ago</div></div><div class=\"cb-nws-intr\">Bangladesh are set to host Afghanistan and Zimbabwe in a T20 tri-series in September</div> </div><div class=\"sml-crd-main\"><div class=\"crd-cntxt\">OUTSIDE THE CIRCLE</div><div class=\"cb-col-33 cb-col\"><a href=\"/cricket-news/108716/much-ado-about-numbers\" title=\"Much ado about numbers\"><img\\theight=\"75\"\\twidth=\"135\"\\tclass=\"lazy-loading\" alt=\"much-ado-about-numbers\" source=\"/a/img/v1/135x75/i1/c175661/much-ado-about-numbers.jpg\" src=\"\" style=\"padding:0px;\"/></a></div><div class=\"cb-col-67 cb-col cb-hdln-hght\"><h3 class=\"sml-crd-hdln\"><a href=\"/cricket-news/108716/much-ado-about-numbers\" title=\"Much ado about numbers\">Much ado about numbers</a></h3><div class=\"sml-crd-subtxt\">1d ago</div></div><div class=\"cb-nws-intr\">Remarkable results away from the World Cup prompt controversy</div> </div></div></div><div class=\"cb-col cb-col-33\"> <div class=\"cb-col cb-col-100 cb-hm-rt-itm cb-bg-white\"> <div id=\"mpu\" class=\"ad-unit center-block \" style=\"min-height: 250px;\"></div> </div> <div id=\"strip_320x50\" class=\"ad-unit\"></div> <div class=\"cb-col cb-col-100 cb-hm-rt-itm cb-bg-white\" id=\"latest-vid-mod\" gtm-label=\\'Homepage\\'> <h4 class=\"cb-mdl-hdr\">FEATURED VIDEOS</h4> <div class=\"cb-col cb-col-100 cb-mid-wrp\"> <a target=\"_self\" href=\"/cricket-videos/39471/new-zealand-vs-australia-match-37-preview\" class=\"suggested-video-gtm\" gtm-label=\"New Zealand vs Australia, Match 37: Preview|39471\" title=\"New Zealand vs Australia, Match 37: Preview\" > <div class=\"cb-pos-rel\"> <img class=\"cb-suggested-vid-img suggested-video-gtm\" gtm-label=\"New Zealand vs Australia, Match 37: Preview|39471\" alt=\"New Zealand vs Australia, Match 37: Preview\" gtm-label=\"New Zealand vs Australia, Match 37: Preview|39471\" title=\"New Zealand vs Australia, Match 37: Preview\" src=\"/a/img/v1/290x164/i1/c175792/new-zealand-vs-australia-matc.jpg\" height=\"164\" width=\"290\" /> <div class=\\'cb-vid-duration\\'>9:13</div> <div class=\"cb-cen\"> <div class=\"cb-vid-sm-ply-api\">&#9658;</div> </div> </div> <h4 class=\"text-hvr-underline suggested-video-gtm\" gtm-label=\"New Zealand vs Australia, Match 37: Preview|39471\">New Zealand vs Australia, Match 37: Preview</h4> </a> <div class=\"cb-nws-time\">\\t15h ago </div> </div> <div class=\"cb-col cb-col-100 cb-mid-wrp\"> <a target=\"_self\" href=\"/cricket-videos/39472/pacers-will-hold-the-key-in-new-zealand-australia-clash-damien-fleming\" class=\"suggested-video-gtm\" gtm-label=\"Pacers will hold the key in New Zealand-Australia clash - Damien Fleming|39472\" title=\"Pacers will hold the key in New Zealand-Australia clash - Damien Fleming\" > <div class=\"cb-pos-rel\"> <img class=\"cb-suggested-vid-img suggested-video-gtm\" gtm-label=\"Pacers will hold the key in New Zealand-Australia clash - Damien Fleming|39472\" alt=\"Pacers will hold the key in New Zealand-Australia clash - Damien Fleming\" gtm-label=\"Pacers will hold the key in New Zealand-Australia clash - Damien Fleming|39472\" title=\"Pacers will hold the key in New Zealand-Australia clash - Damien Fleming\" src=\"/a/img/v1/290x164/i1/c175794/pacers-will-hold-the-key-in-ne.jpg\" height=\"164\" width=\"290\" /> <div class=\\'cb-vid-duration\\'>5:05</div> <div class=\"cb-cen\"> <div class=\"cb-vid-sm-ply-api\">&#9658;</div> </div> </div> <h4 class=\"text-hvr-underline suggested-video-gtm\" gtm-label=\"Pacers will hold the key in New Zealand-Australia clash - Damien Fleming|39472\">Pacers will hold the key in New Zealand-Australia clash - Damien Fleming</h4> </a> <div class=\"cb-nws-time\">\\t13h ago </div> </div> <div class=\"cb-col cb-col-100 cb-mid-wrp\"> <a target=\"_self\" href=\"/cricket-videos/39476/centerstage-cwc-2019-jingoist-reporter-forces-pakistan-angle-into-india-england-contest\" class=\"suggested-video-gtm\" gtm-label=\"Centerstage @ CWC 2019: Jingoist reporter forces Pakistan angle into India-England contest|39476\" title=\"Centerstage @ CWC 2019: Jingoist reporter forces Pakistan angle into India-England contest\" > <div class=\"cb-pos-rel\"> <img class=\"cb-suggested-vid-img suggested-video-gtm\" gtm-label=\"Centerstage @ CWC 2019: Jingoist reporter forces Pakistan angle into India-England contest|39476\" alt=\"Centerstage @ CWC 2019: Jingoist reporter forces Pakistan angle into India-England contest\" gtm-label=\"Centerstage @ CWC 2019: Jingoist reporter forces Pakistan angle into India-England contest|39476\" title=\"Centerstage @ CWC 2019: Jingoist reporter forces Pakistan angle into India-England contest\" src=\"/a/img/v1/290x164/i1/c175799/centerstage-cwc-2019-jingoi.jpg\" height=\"164\" width=\"290\" /> <div class=\\'cb-vid-duration\\'>2:40</div> <div class=\"cb-cen\"> <div class=\"cb-vid-sm-ply-api\">&#9658;</div> </div> </div> <h4 class=\"text-hvr-underline suggested-video-gtm\" gtm-label=\"Centerstage @ CWC 2019: Jingoist reporter forces Pakistan angle into India-England contest|39476\">Centerstage @ CWC 2019: Jingoist reporter forces Pakistan angle into India-England contest</h4> </a> <div class=\"cb-nws-time\">\\t4h ago </div> </div> <div class=\"cb-col cb-col-100 cb-more-btn-cntnr\"> <a target=\"_self\" title =\"Click to view more videos\" href=\"/cricket-videos\" class=\"cb-more-btn\" role=\"button\">More Videos</a> </div> </div> <div class=\"cb-col cb-col-100 cb-hm-rt-itm cb-bg-white\"> <div id=\"mpu2\" class=\"ad-unit center-block\"></div> </div> <div class=\"cb-col cb-col-100 cb-hm-rt-itm cb-bg-white\"> <h4 class=\"cb-mdl-hdr\">Specials</h4> <div class=\"cb-col cb-col-100 cb-mid-wrp\"><a href=\"/cricket-news/108699/icc-cricket-world-cup-2019-new-zealand-craig-mcmillan-interview\" title=\"Craig McMillan - The batting innovator long before the T20 era\"><img class=\"cb-vid-img\" alt=\"Craig McMillan - The batting innovator long before the T20 era\" src=\"/i/news/fth/303x170/images/homepage/qck_1561594068.jpeg\" height=\"170\" width=\"303\"/><h4 class=\"text-hvr-underline\">Craig McMillan - The batting innovator long before the T20 era</h4></a><div class=\"cb-nws-intr\">The former New Zealand cricketer opens up about his playing days, the joy of playing against spin, facing Warne and McGrath and so much more</div></div><div class=\"cb-col cb-col-100 cb-mid-wrp\"><a href=\"/cricket-news/108667/the-indian-constant-in-mushtaq-mohammads-memory-trail\" title=\"The Indian constant in Mushtaq Mohammad\\'s memory trail\"><img class=\"cb-vid-img\" alt=\"The Indian constant in Mushtaq Mohammad\\'s memory trail\" src=\"/i/news/fth/303x170/images/homepage/qck_1561526653.jpeg\" height=\"170\" width=\"303\"/><h4 class=\"text-hvr-underline\">The Indian constant in Mushtaq Mohammad\\'s memory trail</h4></a><div class=\"cb-nws-intr\">Mushtaq Mohammad opens up about the Indian influences through his journey, his love for classical music, a chance meeting with Lata Mangeshkar and more in an exclusive chat</div></div><div class=\"cb-col cb-col-100 cb-mid-wrp\"><a href=\"/cricket-news/108602/afghanistan-pacer-hamid-hassans-promise-kept-as-he-embarks-on-last-lap\" title=\"Hamid Hassan\\'s promise kept as he embarks on last lap\"><img class=\"cb-vid-img\" alt=\"Hamid Hassan\\'s promise kept as he embarks on last lap\" src=\"/i/news/fth/303x170/images/homepage/qck_1561117801.jpeg\" height=\"170\" width=\"303\"/><h4 class=\"text-hvr-underline\">Hamid Hassan\\'s promise kept as he embarks on last lap</h4></a><div class=\"cb-nws-intr\">The Afghanistan pacer has battled through hurdles aplenty to live his World Cup dream, including a career-threatening injury a few years ago</div></div><div class=\"cb-col cb-col-100 cb-mid-wrp\"><a href=\"/cricket-news/108580/wahab-riaz-jofra-archer-faf-du-plessis-angelo-mathews-steve-smith-when-world-cup-stars-played-club-cricke\" title=\"When World Cup stars played club cricket\"><img class=\"cb-vid-img\" alt=\"When World Cup stars played club cricket\" src=\"/i/news/fth/303x170/images/homepage/qck_1561022281.jpeg\" height=\"170\" width=\"303\"/><h4 class=\"text-hvr-underline\">When World Cup stars played club cricket</h4></a><div class=\"cb-nws-intr\">The days when every great cricketer played in English league cricket may be gone, but there are still some at this World Cup who had such a stint. We speak to those who played with them</div></div><div class=\"cb-col cb-col-100 cb-mid-wrp\"><a href=\"/cricket-news/108598/2019-world-cup-joe-root-grandfather-don-root-don-bradman\" title=\"In conversation with grandpa Root\"><img class=\"cb-vid-img\" alt=\"In conversation with grandpa Root\" src=\"/i/news/fth/303x170/images/homepage/qck_1561083998.jpeg\" height=\"170\" width=\"303\"/><h4 class=\"text-hvr-underline\">In conversation with grandpa Root</h4></a><div class=\"cb-nws-intr\">Don, the 83-year-old grandfather of Joe Root, talks about seeing Bradman live as a 14-year-old, and now spending his retired life watching cricket</div></div> </div> <div class=\"cb-col cb-col-100 cb-hm-rt-itm cb-bg-white\"> <div id=\"mpu3\" class=\"ad-unit center-block\"></div> </div> </div> <span id=\"skin_right\" class=\"ad-unit\" style=\"overflow:hidden;position:fixed;top:0;left:calc(50% + 490px);margin-left:3px;z-index:-99;\"></span></div></div><div ng-cloak ng-if=\\'$root.$GEO.continent == \"EU\"\\'><div class=\"feedback-bar text-center cb-col-100 disp-none feedback-menu\" id=\"feedback-bar\" ng-controller=\"FeedbackCtrl\"\\tng-init=\"show_feedback_menu();\"><span class=\"feedback-txt\">We use cookies to improve your experience on our site and to show you non-personalized ads. Find out more in our <a style=\"color:#4A90E2;\" href=\"/info/privacy\">privacy policy</a> and <a style=\"color:#4A90E2;\" href=\"/info/privacy#cookie_policy\">cookie policy</a></span><button class=\"cb-feedback-btn blue-btn cb-cursor\" id=\"close_feedback_btn\" ng-click=\"close_feedback();\">OK</button></div></div><footer id=\"FooterWraper\" itemscope itemtype=\"http://schema.org/WPFooter\" ><div class=\"cb-footer cb-col-100 cb-col\"><div class=\\'cb-ftr-cntnr\\'><div class=\"cb-col-25 cb-col\"><a class=\"center-block\" href=\"/\"><div class=\"cb-ftr-logo cb-ico\"></div></a></div><div class=\"cb-col-25 cb-col\"><div class=\"text-left cb-font-16 text-bold\">MOBILE SITE & APPS</div><ul class=\"cb-ftr-ul\"><li class=\"cb-ftr-lst\"><a href=\"https://m.cricbuzz.com\" class=\"text-white\"><span class=\"cb-mobile-site cb-ico\"></span><span class=\"cb-footer-list-rt\">m.cricbuzz.com</span></a></li><li class=\"cb-ftr-lst\"><a class=\"text-white\" href=\"https://play.google.com/store/apps/details?id=com.cricbuzz.android\" target=\"_blank\"><span class=\"cb-app-android cb-ico\"></span><span class=\"cb-footer-list-rt\">Android</span></a></li><li class=\"cb-ftr-lst\"><a class=\"text-white\" href=\"https://itunes.apple.com/app/id360466413\" target=\"_blank\"><span class=\"cb-app-ios cb-ico\"></span><span class=\"cb-footer-list-rt\">iOS</span></a></li></ul></div><div class=\"cb-col-25 cb-col\"><div class=\"text-left cb-font-16 text-bold\">FOLLOW US ON</div><ul class=\"cb-ftr-ul\"><li class=\"cb-ftr-lst\"><a class=\"text-white\" href=\"https://www.facebook.com/cricbuzz\" target=\"_blank\"><span class=\"cb-social-fb cb-ico\"></span><span class=\"cb-footer-list-rt\">facebook</span></a></li><li class=\"cb-ftr-lst\"><a class=\"text-white\" href=\"https://twitter.com/cricbuzz\" target=\"_blank\"><span class=\"cb-social-twitter cb-ico\"></span><span class=\"cb-footer-list-rt\">twitter</span></a></li><li class=\"cb-ftr-lst\"><a class=\"text-white\" href=\"https://www.youtube.com/channel/UCSRQXk5yErn4e14vN76upOw\" target=\"_blank\"><span class=\"cb-social-ytbe cb-ico\"></span><span class=\"cb-footer-list-rt\">youtube</span></a></li><li class=\"cb-ftr-lst\"><a class=\"text-white\" href=\"https://in.pinterest.com/cricbuzz/\" target=\"_blank\"><span class=\"cb-social-pinterest cb-ico\"></span><span class=\"cb-footer-list-rt\">Pinterest</span></a></li></ul></div><div class=\"cb-col-25 cb-col\"><div class=\"text-left cb-font-16 text-bold\">COMPANY</div><ul class=\"cb-ftr-ul\"><li class=\"cb-ftr-lst\"><a class=\"text-white\" href=\"/careers\">Careers</a></li><li class=\"cb-ftr-lst\"><a class=\"text-white\" href=\"/info/advertise\">Advertise</a></li><li class=\"cb-ftr-lst\"><a class=\"text-white\" rel=\"nofollow\" href=\"/info/privacy\">Privacy Policy</a></li><li class=\"cb-ftr-lst\"><a class=\"text-white\" rel=\"nofollow\" href=\"/info/termsofuse\">Terms of Use</a></li><li class=\"cb-ftr-lst\"><a class=\"text-white\" href=\"/product-blog/cricbuzz-mobile-apps-tv-ad-cricket-ka-keeda\">Cricbuzz TV Ads</a></li></ul></div><div class=\\'cb-col-100 cb-col cb-ftr-cpyrght\\'>&copy; 2019 Cricbuzz.com, Times Internet Limited. All rights reserved | <a class=\\'cb-ftr-cpyrght text-hvr-underline\\' href=\"http://timesofindia.indiatimes.com/\" target=\"_blank\">The Times of India</a> | <a href=\"http://navbharattimes.indiatimes.com/\" target=\"_blank\" class=\\'cb-ftr-cpyrght text-hvr-underline\\'>Navbharat Times</a></div></div></div></footer><script type=\"text/javascript\">var script_tag = document.getElementsByTagName(\\'script\\')[0];\\t(function() {\\tvar cmin = document.createElement(\\'script\\'); cmin.type = \\'text/javascript\\'; cmin.async = true;\\tcmin.src = \\'/dist/js/cricbuzz.min.6501.js\\';\\tscript_tag.parentNode.insertBefore(cmin, script_tag);\\t})();</script><noscript><iframe src=\"//www.googletagmanager.com/ns.html?id=GTM-PGNCT7\"\\theight=\"0\" width=\"0\" style=\"display:none;visibility:hidden\"></iframe></noscript><script>(function(w,d,s,l,i){w[l]=w[l]||[];w[l].push({\\'gtm.start\\':\\tnew Date().getTime(),event:\\'gtm.js\\'});var f=d.getElementsByTagName(s)[0],\\tj=d.createElement(s),dl=l!=\\'dataLayer\\'?\\'&l=\\'+l:\\'\\';j.async=true;j.src=\\t\\'//www.googletagmanager.com/gtm.js?id=\\'+i+dl;f.parentNode.insertBefore(j,f);\\t})(window,document,\\'script\\',\\'dataLayer\\',\\'GTM-PGNCT7\\');</script><script>window.onerror = function(message, file, line) {\\tvar sFormattedMessage = \\'[\\' + file + \\' (\\' + line + \\')] \\' + message;\\tdataLayer.push({\\'EventAction\\': \"Application\",\\'EventLabel\\': sFormattedMessage,\\'event\\': \\'Exceptions\\'});\\t}</script> </body></html>'"
      ]
     },
     "execution_count": 21,
     "metadata": {},
     "output_type": "execute_result"
    }
   ],
   "source": [
    "url.text"
   ]
  },
  {
   "cell_type": "code",
   "execution_count": 22,
   "metadata": {},
   "outputs": [],
   "source": [
    "Soup = url.text"
   ]
  },
  {
   "cell_type": "code",
   "execution_count": 23,
   "metadata": {},
   "outputs": [],
   "source": [
    "S = BeautifulSoup(Soup,'html.parser')"
   ]
  },
  {
   "cell_type": "code",
   "execution_count": 1,
   "metadata": {},
   "outputs": [
    {
     "ename": "NameError",
     "evalue": "name 'S' is not defined",
     "output_type": "error",
     "traceback": [
      "\u001b[1;31m---------------------------------------------------------------------------\u001b[0m",
      "\u001b[1;31mNameError\u001b[0m                                 Traceback (most recent call last)",
      "\u001b[1;32m<ipython-input-1-4f240edf7bc9>\u001b[0m in \u001b[0;36m<module>\u001b[1;34m\u001b[0m\n\u001b[1;32m----> 1\u001b[1;33m \u001b[1;32mfor\u001b[0m \u001b[0mi\u001b[0m \u001b[1;32min\u001b[0m \u001b[0mS\u001b[0m\u001b[1;33m.\u001b[0m\u001b[0mfindAll\u001b[0m\u001b[1;33m(\u001b[0m\u001b[1;34m'div'\u001b[0m\u001b[1;33m,\u001b[0m\u001b[1;33m{\u001b[0m\u001b[1;34m\"class\"\u001b[0m\u001b[1;33m:\u001b[0m\u001b[1;34m\"cb-col cb-col-25 cb-mtch-blk\"\u001b[0m\u001b[1;33m}\u001b[0m\u001b[1;33m)\u001b[0m\u001b[1;33m:\u001b[0m\u001b[1;33m\u001b[0m\u001b[1;33m\u001b[0m\u001b[0m\n\u001b[0m\u001b[0;32m      2\u001b[0m     \u001b[0mprint\u001b[0m\u001b[1;33m(\u001b[0m\u001b[0mi\u001b[0m\u001b[1;33m.\u001b[0m\u001b[0mtext\u001b[0m\u001b[1;33m)\u001b[0m\u001b[1;33m\u001b[0m\u001b[1;33m\u001b[0m\u001b[0m\n",
      "\u001b[1;31mNameError\u001b[0m: name 'S' is not defined"
     ]
    }
   ],
   "source": [
    "for i in S.findAll('div',{\"class\":\"cb-col cb-col-25 cb-mtch-blk\"}):\n",
    "    print(i.text)"
   ]
  },
  {
   "cell_type": "code",
   "execution_count": 126,
   "metadata": {},
   "outputs": [],
   "source": [
    "from textblob import TextBlob "
   ]
  },
  {
   "cell_type": "code",
   "execution_count": 128,
   "metadata": {},
   "outputs": [
    {
     "name": "stdout",
     "output_type": "stream",
     "text": [
      "Sentiment(polarity=0.8, subjectivity=1.0)\n",
      "أنا سعيد\n",
      "i\n",
      "i am happy\n",
      "('i', 'NN')\n",
      "('am', 'VBP')\n",
      "('happy', 'JJ')\n",
      " \n",
      "i am happy\n",
      "('i', 'NN')\n",
      "('am', 'VBP')\n",
      "('happy', 'JJ')\n",
      "a\n",
      "i am happy\n",
      "('i', 'NN')\n",
      "('am', 'VBP')\n",
      "('happy', 'JJ')\n",
      "m\n",
      "i am happy\n",
      "('i', 'NN')\n",
      "('am', 'VBP')\n",
      "('happy', 'JJ')\n",
      " \n",
      "i am happy\n",
      "('i', 'NN')\n",
      "('am', 'VBP')\n",
      "('happy', 'JJ')\n",
      "h\n",
      "i am happy\n",
      "('i', 'NN')\n",
      "('am', 'VBP')\n",
      "('happy', 'JJ')\n",
      "a\n",
      "i am happy\n",
      "('i', 'NN')\n",
      "('am', 'VBP')\n",
      "('happy', 'JJ')\n",
      "p\n",
      "i am happy\n",
      "('i', 'NN')\n",
      "('am', 'VBP')\n",
      "('happy', 'JJ')\n",
      "p\n",
      "i am happy\n",
      "('i', 'NN')\n",
      "('am', 'VBP')\n",
      "('happy', 'JJ')\n",
      "y\n",
      "i am happy\n",
      "('i', 'NN')\n",
      "('am', 'VBP')\n",
      "('happy', 'JJ')\n"
     ]
    }
   ],
   "source": [
    "a = TextBlob(\"i am happy\")\n",
    "b=a.sentiment\n",
    "c=a.translate(to='ar')\n",
    "print(b)\n",
    "print(c)\n",
    "for i in a:\n",
    "    print(i)\n",
    "    d=TextBlob(\"i am happy\")\n",
    "    e=d.correct()\n",
    "    print(e)\n",
    "    for tags in a.tags:\n",
    "        print(tags)"
   ]
  },
  {
   "cell_type": "code",
   "execution_count": 7,
   "metadata": {},
   "outputs": [],
   "source": [
    "import pandas"
   ]
  },
  {
   "cell_type": "code",
   "execution_count": 10,
   "metadata": {},
   "outputs": [
    {
     "data": {
      "text/plain": [
       "[1, 2, 3, 4, 5]"
      ]
     },
     "execution_count": 10,
     "metadata": {},
     "output_type": "execute_result"
    }
   ],
   "source": [
    "i = [1,2,3,4,5]\n",
    "i"
   ]
  },
  {
   "cell_type": "code",
   "execution_count": 12,
   "metadata": {},
   "outputs": [
    {
     "data": {
      "text/plain": [
       "['neeraj', 'mohit']"
      ]
     },
     "execution_count": 12,
     "metadata": {},
     "output_type": "execute_result"
    }
   ],
   "source": [
    "s = ['neeraj','mohit']\n",
    "s"
   ]
  },
  {
   "cell_type": "code",
   "execution_count": 13,
   "metadata": {},
   "outputs": [
    {
     "data": {
      "text/html": [
       "<div>\n",
       "<style scoped>\n",
       "    .dataframe tbody tr th:only-of-type {\n",
       "        vertical-align: middle;\n",
       "    }\n",
       "\n",
       "    .dataframe tbody tr th {\n",
       "        vertical-align: top;\n",
       "    }\n",
       "\n",
       "    .dataframe thead th {\n",
       "        text-align: right;\n",
       "    }\n",
       "</style>\n",
       "<table border=\"1\" class=\"dataframe\">\n",
       "  <thead>\n",
       "    <tr style=\"text-align: right;\">\n",
       "      <th></th>\n",
       "      <th>0</th>\n",
       "    </tr>\n",
       "  </thead>\n",
       "  <tbody>\n",
       "    <tr>\n",
       "      <th>0</th>\n",
       "      <td>neeraj</td>\n",
       "    </tr>\n",
       "    <tr>\n",
       "      <th>1</th>\n",
       "      <td>mohit</td>\n",
       "    </tr>\n",
       "  </tbody>\n",
       "</table>\n",
       "</div>"
      ],
      "text/plain": [
       "        0\n",
       "0  neeraj\n",
       "1   mohit"
      ]
     },
     "execution_count": 13,
     "metadata": {},
     "output_type": "execute_result"
    }
   ],
   "source": [
    "pandas.DataFrame(s)"
   ]
  },
  {
   "cell_type": "code",
   "execution_count": 14,
   "metadata": {},
   "outputs": [
    {
     "data": {
      "text/plain": [
       "0    neeraj\n",
       "1     mohit\n",
       "dtype: object"
      ]
     },
     "execution_count": 14,
     "metadata": {},
     "output_type": "execute_result"
    }
   ],
   "source": [
    "pandas.Series(s)"
   ]
  },
  {
   "cell_type": "code",
   "execution_count": 21,
   "metadata": {},
   "outputs": [
    {
     "data": {
      "text/plain": [
       "a     list\n",
       "b    order\n",
       "c    tuple\n",
       "dtype: object"
      ]
     },
     "execution_count": 21,
     "metadata": {},
     "output_type": "execute_result"
    }
   ],
   "source": [
    "pandas.Series(x)"
   ]
  },
  {
   "cell_type": "code",
   "execution_count": 27,
   "metadata": {},
   "outputs": [
    {
     "name": "stdout",
     "output_type": "stream",
     "text": [
      "     0\n",
      "0  dog\n",
      "1  fsd\n",
      "2  sdf\n"
     ]
    }
   ],
   "source": [
    "x = {'a':['dog','fsd','sdf'],\n",
    "     'b':['cat','fdg''cvx'],\n",
    "     'c':['tiger','fsdfc','fsdz']}\n",
    "b=pandas.DataFrame(x['a'])\n",
    "print(b)"
   ]
  },
  {
   "cell_type": "code",
   "execution_count": 28,
   "metadata": {},
   "outputs": [],
   "source": [
    "import pandas as pd"
   ]
  },
  {
   "cell_type": "code",
   "execution_count": 34,
   "metadata": {},
   "outputs": [
    {
     "name": "stdout",
     "output_type": "stream",
     "text": [
      "       Year Industry_aggregation_NZSIOC Industry_code_NZSIOC  \\\n",
      "0      2018                     Level 1                99999   \n",
      "1      2018                     Level 1                99999   \n",
      "2      2018                     Level 1                99999   \n",
      "3      2018                     Level 1                99999   \n",
      "4      2018                     Level 1                99999   \n",
      "5      2018                     Level 1                99999   \n",
      "6      2018                     Level 1                99999   \n",
      "7      2018                     Level 1                99999   \n",
      "8      2018                     Level 1                99999   \n",
      "9      2018                     Level 1                99999   \n",
      "10     2018                     Level 1                99999   \n",
      "11     2018                     Level 1                99999   \n",
      "12     2018                     Level 1                99999   \n",
      "13     2018                     Level 1                99999   \n",
      "14     2018                     Level 1                99999   \n",
      "15     2018                     Level 1                99999   \n",
      "16     2018                     Level 1                99999   \n",
      "17     2018                     Level 1                99999   \n",
      "18     2018                     Level 1                99999   \n",
      "19     2018                     Level 1                99999   \n",
      "20     2018                     Level 1                99999   \n",
      "21     2018                     Level 1                99999   \n",
      "22     2018                     Level 1                99999   \n",
      "23     2018                     Level 1                99999   \n",
      "24     2018                     Level 1                99999   \n",
      "25     2018                     Level 1                99999   \n",
      "26     2018                     Level 1                99999   \n",
      "27     2018                     Level 1                99999   \n",
      "28     2018                     Level 1                99999   \n",
      "29     2018                     Level 1                99999   \n",
      "...     ...                         ...                  ...   \n",
      "27780  2013                     Level 3                 ZZ11   \n",
      "27781  2013                     Level 3                 ZZ11   \n",
      "27782  2013                     Level 3                 ZZ11   \n",
      "27783  2013                     Level 3                 ZZ11   \n",
      "27784  2013                     Level 3                 ZZ11   \n",
      "27785  2013                     Level 3                 ZZ11   \n",
      "27786  2013                     Level 3                 ZZ11   \n",
      "27787  2013                     Level 3                 ZZ11   \n",
      "27788  2013                     Level 3                 ZZ11   \n",
      "27789  2013                     Level 3                 ZZ11   \n",
      "27790  2013                     Level 3                 ZZ11   \n",
      "27791  2013                     Level 3                 ZZ11   \n",
      "27792  2013                     Level 3                 ZZ11   \n",
      "27793  2013                     Level 3                 ZZ11   \n",
      "27794  2013                     Level 3                 ZZ11   \n",
      "27795  2013                     Level 3                 ZZ11   \n",
      "27796  2013                     Level 3                 ZZ11   \n",
      "27797  2013                     Level 3                 ZZ11   \n",
      "27798  2013                     Level 3                 ZZ11   \n",
      "27799  2013                     Level 3                 ZZ11   \n",
      "27800  2013                     Level 3                 ZZ11   \n",
      "27801  2013                     Level 3                 ZZ11   \n",
      "27802  2013                     Level 3                 ZZ11   \n",
      "27803  2013                     Level 3                 ZZ11   \n",
      "27804  2013                     Level 3                 ZZ11   \n",
      "27805  2013                     Level 3                 ZZ11   \n",
      "27806  2013                     Level 3                 ZZ11   \n",
      "27807  2013                     Level 3                 ZZ11   \n",
      "27808  2013                     Level 3                 ZZ11   \n",
      "27809  2013                     Level 3                 ZZ11   \n",
      "\n",
      "             Industry_name_NZSIOC               Units Variable_code  \\\n",
      "0                  All industries  Dollars (millions)           H01   \n",
      "1                  All industries  Dollars (millions)           H04   \n",
      "2                  All industries  Dollars (millions)           H05   \n",
      "3                  All industries  Dollars (millions)           H07   \n",
      "4                  All industries  Dollars (millions)           H08   \n",
      "5                  All industries  Dollars (millions)           H09   \n",
      "6                  All industries  Dollars (millions)           H10   \n",
      "7                  All industries  Dollars (millions)           H11   \n",
      "8                  All industries  Dollars (millions)           H12   \n",
      "9                  All industries  Dollars (millions)           H13   \n",
      "10                 All industries  Dollars (millions)           H14   \n",
      "11                 All industries  Dollars (millions)           H19   \n",
      "12                 All industries  Dollars (millions)           H20   \n",
      "13                 All industries  Dollars (millions)           H21   \n",
      "14                 All industries  Dollars (millions)           H22   \n",
      "15                 All industries  Dollars (millions)           H23   \n",
      "16                 All industries  Dollars (millions)           H24   \n",
      "17                 All industries  Dollars (millions)           H25   \n",
      "18                 All industries  Dollars (millions)           H26   \n",
      "19                 All industries  Dollars (millions)           H29   \n",
      "20                 All industries  Dollars (millions)           H30   \n",
      "21                 All industries  Dollars (millions)           H31   \n",
      "22                 All industries  Dollars (millions)           H32   \n",
      "23                 All industries  Dollars (millions)           H33   \n",
      "24                 All industries             Dollars           H34   \n",
      "25                 All industries             Dollars           H35   \n",
      "26                 All industries          Percentage           H36   \n",
      "27                 All industries          Percentage           H37   \n",
      "28                 All industries          Percentage           H39   \n",
      "29                 All industries          Percentage           H40   \n",
      "...                           ...                 ...           ...   \n",
      "27780  Food product manufacturing  Dollars (millions)           H08   \n",
      "27781  Food product manufacturing  Dollars (millions)           H09   \n",
      "27782  Food product manufacturing  Dollars (millions)           H10   \n",
      "27783  Food product manufacturing  Dollars (millions)           H11   \n",
      "27784  Food product manufacturing  Dollars (millions)           H12   \n",
      "27785  Food product manufacturing  Dollars (millions)           H13   \n",
      "27786  Food product manufacturing  Dollars (millions)           H17   \n",
      "27787  Food product manufacturing  Dollars (millions)           H18   \n",
      "27788  Food product manufacturing  Dollars (millions)           H20   \n",
      "27789  Food product manufacturing  Dollars (millions)           H21   \n",
      "27790  Food product manufacturing  Dollars (millions)           H22   \n",
      "27791  Food product manufacturing  Dollars (millions)           H23   \n",
      "27792  Food product manufacturing  Dollars (millions)           H24   \n",
      "27793  Food product manufacturing  Dollars (millions)           H25   \n",
      "27794  Food product manufacturing  Dollars (millions)           H26   \n",
      "27795  Food product manufacturing  Dollars (millions)           H27   \n",
      "27796  Food product manufacturing  Dollars (millions)           H28   \n",
      "27797  Food product manufacturing  Dollars (millions)           H29   \n",
      "27798  Food product manufacturing  Dollars (millions)           H30   \n",
      "27799  Food product manufacturing  Dollars (millions)           H31   \n",
      "27800  Food product manufacturing  Dollars (millions)           H32   \n",
      "27801  Food product manufacturing  Dollars (millions)           H33   \n",
      "27802  Food product manufacturing             Dollars           H34   \n",
      "27803  Food product manufacturing             Dollars           H35   \n",
      "27804  Food product manufacturing          Percentage           H36   \n",
      "27805  Food product manufacturing          Percentage           H37   \n",
      "27806  Food product manufacturing          Percentage           H38   \n",
      "27807  Food product manufacturing          Percentage           H39   \n",
      "27808  Food product manufacturing          Percentage           H40   \n",
      "27809  Food product manufacturing          Percentage           H41   \n",
      "\n",
      "                                           Variable_name  \\\n",
      "0                                           Total income   \n",
      "1        Sales, government funding, grants and subsidies   \n",
      "2                      Interest, dividends and donations   \n",
      "3                                   Non-operating income   \n",
      "4                                      Total expenditure   \n",
      "5                                 Interest and donations   \n",
      "6                                         Indirect taxes   \n",
      "7                                           Depreciation   \n",
      "8                                Salaries and wages paid   \n",
      "9                               Redundancy and severance   \n",
      "10     Salaries and wages to self employed commission...   \n",
      "11                Purchases and other operating expenses   \n",
      "12                                Non-operating expenses   \n",
      "13                                        Opening stocks   \n",
      "14                                        Closing stocks   \n",
      "15                             Surplus before income tax   \n",
      "16                                          Total assets   \n",
      "17                                        Current assets   \n",
      "18                                 Fixed tangible assets   \n",
      "19                                          Other assets   \n",
      "20                          Total equity and liabilities   \n",
      "21                   Shareholders funds or owners equity   \n",
      "22                                   Current liabilities   \n",
      "23                                     Other liabilities   \n",
      "24                       Total income per employee count   \n",
      "25                            Surplus per employee count   \n",
      "26                                         Current ratio   \n",
      "27                                           Quick ratio   \n",
      "28                                      Return on equity   \n",
      "29                                Return on total assets   \n",
      "...                                                  ...   \n",
      "27780                                  Total expenditure   \n",
      "27781                             Interest and donations   \n",
      "27782                                     Indirect taxes   \n",
      "27783                                       Depreciation   \n",
      "27784                            Salaries and wages paid   \n",
      "27785                           Redundancy and severance   \n",
      "27786               Purchases of goods bought for resale   \n",
      "27787             Other purchases and operating expenses   \n",
      "27788                             Non-operating expenses   \n",
      "27789                                     Opening stocks   \n",
      "27790                                     Closing stocks   \n",
      "27791                          Surplus before income tax   \n",
      "27792                                       Total assets   \n",
      "27793                                     Current assets   \n",
      "27794                              Fixed tangible assets   \n",
      "27795                          Additions to fixed assets   \n",
      "27796                          Disposals of fixed assets   \n",
      "27797                                       Other assets   \n",
      "27798                       Total equity and liabilities   \n",
      "27799                Shareholders funds or owners equity   \n",
      "27800                                Current liabilities   \n",
      "27801                                  Other liabilities   \n",
      "27802                    Total income per employee count   \n",
      "27803                         Surplus per employee count   \n",
      "27804                                      Current ratio   \n",
      "27805                                        Quick ratio   \n",
      "27806                Margin on sales of goods for resale   \n",
      "27807                                   Return on equity   \n",
      "27808                             Return on total assets   \n",
      "27809                              Liabilities structure   \n",
      "\n",
      "           Variable_category    Value  \\\n",
      "0      Financial performance   691859   \n",
      "1      Financial performance   605766   \n",
      "2      Financial performance    63509   \n",
      "3      Financial performance    22583   \n",
      "4      Financial performance   597623   \n",
      "5      Financial performance    34223   \n",
      "6      Financial performance     7124   \n",
      "7      Financial performance    19863   \n",
      "8      Financial performance   106351   \n",
      "9      Financial performance      297   \n",
      "10     Financial performance     1659   \n",
      "11     Financial performance   418642   \n",
      "12     Financial performance     9762   \n",
      "13     Financial performance    59433   \n",
      "14     Financial performance    63592   \n",
      "15     Financial performance    98395   \n",
      "16        Financial position  2068648   \n",
      "17        Financial position   571177   \n",
      "18        Financial position   499274   \n",
      "19        Financial position   998194   \n",
      "20        Financial position  2068649   \n",
      "21        Financial position   700186   \n",
      "22        Financial position   740971   \n",
      "23        Financial position   627488   \n",
      "24          Financial ratios   376800   \n",
      "25          Financial ratios    53600   \n",
      "26          Financial ratios       77   \n",
      "27          Financial ratios       69   \n",
      "28          Financial ratios       14   \n",
      "29          Financial ratios        5   \n",
      "...                      ...      ...   \n",
      "27780  Financial performance    35502   \n",
      "27781  Financial performance      438   \n",
      "27782  Financial performance       82   \n",
      "27783  Financial performance      820   \n",
      "27784  Financial performance     3894   \n",
      "27785  Financial performance        8   \n",
      "27786  Financial performance     1679   \n",
      "27787  Financial performance    28496   \n",
      "27788  Financial performance       93   \n",
      "27789  Financial performance     3722   \n",
      "27790  Financial performance     4041   \n",
      "27791  Financial performance     1227   \n",
      "27792     Financial position    23102   \n",
      "27793     Financial position     9312   \n",
      "27794     Financial position     8357   \n",
      "27795     Financial position     1339   \n",
      "27796     Financial position      375   \n",
      "27797     Financial position     5434   \n",
      "27798     Financial position    23102   \n",
      "27799     Financial position    10670   \n",
      "27800     Financial position    10212   \n",
      "27801     Financial position     2220   \n",
      "27802       Financial ratios   523700   \n",
      "27803       Financial ratios    17700   \n",
      "27804       Financial ratios       91   \n",
      "27805       Financial ratios       52   \n",
      "27806       Financial ratios       40   \n",
      "27807       Financial ratios       12   \n",
      "27808       Financial ratios        5   \n",
      "27809       Financial ratios       46   \n",
      "\n",
      "                                  Industry_code_ANZSIC06  \n",
      "0      ANZSIC06 divisions A-S (excluding classes K633...  \n",
      "1      ANZSIC06 divisions A-S (excluding classes K633...  \n",
      "2      ANZSIC06 divisions A-S (excluding classes K633...  \n",
      "3      ANZSIC06 divisions A-S (excluding classes K633...  \n",
      "4      ANZSIC06 divisions A-S (excluding classes K633...  \n",
      "5      ANZSIC06 divisions A-S (excluding classes K633...  \n",
      "6      ANZSIC06 divisions A-S (excluding classes K633...  \n",
      "7      ANZSIC06 divisions A-S (excluding classes K633...  \n",
      "8      ANZSIC06 divisions A-S (excluding classes K633...  \n",
      "9      ANZSIC06 divisions A-S (excluding classes K633...  \n",
      "10     ANZSIC06 divisions A-S (excluding classes K633...  \n",
      "11     ANZSIC06 divisions A-S (excluding classes K633...  \n",
      "12     ANZSIC06 divisions A-S (excluding classes K633...  \n",
      "13     ANZSIC06 divisions A-S (excluding classes K633...  \n",
      "14     ANZSIC06 divisions A-S (excluding classes K633...  \n",
      "15     ANZSIC06 divisions A-S (excluding classes K633...  \n",
      "16     ANZSIC06 divisions A-S (excluding classes K633...  \n",
      "17     ANZSIC06 divisions A-S (excluding classes K633...  \n",
      "18     ANZSIC06 divisions A-S (excluding classes K633...  \n",
      "19     ANZSIC06 divisions A-S (excluding classes K633...  \n",
      "20     ANZSIC06 divisions A-S (excluding classes K633...  \n",
      "21     ANZSIC06 divisions A-S (excluding classes K633...  \n",
      "22     ANZSIC06 divisions A-S (excluding classes K633...  \n",
      "23     ANZSIC06 divisions A-S (excluding classes K633...  \n",
      "24     ANZSIC06 divisions A-S (excluding classes K633...  \n",
      "25     ANZSIC06 divisions A-S (excluding classes K633...  \n",
      "26     ANZSIC06 divisions A-S (excluding classes K633...  \n",
      "27     ANZSIC06 divisions A-S (excluding classes K633...  \n",
      "28     ANZSIC06 divisions A-S (excluding classes K633...  \n",
      "29     ANZSIC06 divisions A-S (excluding classes K633...  \n",
      "...                                                  ...  \n",
      "27780  ANZSIC06 groups C111, C112, C113, C114, C115, ...  \n",
      "27781  ANZSIC06 groups C111, C112, C113, C114, C115, ...  \n",
      "27782  ANZSIC06 groups C111, C112, C113, C114, C115, ...  \n",
      "27783  ANZSIC06 groups C111, C112, C113, C114, C115, ...  \n",
      "27784  ANZSIC06 groups C111, C112, C113, C114, C115, ...  \n",
      "27785  ANZSIC06 groups C111, C112, C113, C114, C115, ...  \n",
      "27786  ANZSIC06 groups C111, C112, C113, C114, C115, ...  \n",
      "27787  ANZSIC06 groups C111, C112, C113, C114, C115, ...  \n",
      "27788  ANZSIC06 groups C111, C112, C113, C114, C115, ...  \n",
      "27789  ANZSIC06 groups C111, C112, C113, C114, C115, ...  \n",
      "27790  ANZSIC06 groups C111, C112, C113, C114, C115, ...  \n",
      "27791  ANZSIC06 groups C111, C112, C113, C114, C115, ...  \n",
      "27792  ANZSIC06 groups C111, C112, C113, C114, C115, ...  \n",
      "27793  ANZSIC06 groups C111, C112, C113, C114, C115, ...  \n",
      "27794  ANZSIC06 groups C111, C112, C113, C114, C115, ...  \n",
      "27795  ANZSIC06 groups C111, C112, C113, C114, C115, ...  \n",
      "27796  ANZSIC06 groups C111, C112, C113, C114, C115, ...  \n",
      "27797  ANZSIC06 groups C111, C112, C113, C114, C115, ...  \n",
      "27798  ANZSIC06 groups C111, C112, C113, C114, C115, ...  \n",
      "27799  ANZSIC06 groups C111, C112, C113, C114, C115, ...  \n",
      "27800  ANZSIC06 groups C111, C112, C113, C114, C115, ...  \n",
      "27801  ANZSIC06 groups C111, C112, C113, C114, C115, ...  \n",
      "27802  ANZSIC06 groups C111, C112, C113, C114, C115, ...  \n",
      "27803  ANZSIC06 groups C111, C112, C113, C114, C115, ...  \n",
      "27804  ANZSIC06 groups C111, C112, C113, C114, C115, ...  \n",
      "27805  ANZSIC06 groups C111, C112, C113, C114, C115, ...  \n",
      "27806  ANZSIC06 groups C111, C112, C113, C114, C115, ...  \n",
      "27807  ANZSIC06 groups C111, C112, C113, C114, C115, ...  \n",
      "27808  ANZSIC06 groups C111, C112, C113, C114, C115, ...  \n",
      "27809  ANZSIC06 groups C111, C112, C113, C114, C115, ...  \n",
      "\n",
      "[27810 rows x 10 columns]\n"
     ]
    }
   ],
   "source": [
    "a = pd.read_csv('nkd.csv')\n",
    "print(a)"
   ]
  },
  {
   "cell_type": "code",
   "execution_count": 38,
   "metadata": {},
   "outputs": [
    {
     "name": "stdout",
     "output_type": "stream",
     "text": [
      "                             Year Industry_code_NZSIOC  \\\n",
      "Industry_aggregation_NZSIOC                              \n",
      "Level 3                      2018                 AA11   \n",
      "Level 3                      2018                 AA11   \n",
      "Level 3                      2018                 AA11   \n",
      "Level 3                      2018                 AA11   \n",
      "Level 3                      2018                 AA11   \n",
      "Level 3                      2018                 AA11   \n",
      "Level 3                      2018                 AA11   \n",
      "Level 3                      2018                 AA11   \n",
      "Level 3                      2018                 AA11   \n",
      "Level 3                      2018                 AA11   \n",
      "Level 3                      2018                 AA11   \n",
      "Level 3                      2018                 AA11   \n",
      "Level 3                      2018                 AA11   \n",
      "Level 3                      2018                 AA11   \n",
      "Level 3                      2018                 AA11   \n",
      "Level 3                      2018                 AA11   \n",
      "Level 3                      2018                 AA11   \n",
      "Level 3                      2018                 AA11   \n",
      "Level 3                      2018                 AA11   \n",
      "Level 3                      2018                 AA11   \n",
      "Level 3                      2018                 AA11   \n",
      "Level 3                      2018                 AA11   \n",
      "Level 3                      2018                 AA11   \n",
      "Level 3                      2018                 AA11   \n",
      "Level 3                      2018                 AA11   \n",
      "Level 3                      2018                 AA11   \n",
      "Level 3                      2018                 AA11   \n",
      "Level 3                      2018                 AA11   \n",
      "Level 3                      2018                 AA11   \n",
      "Level 3                      2018                 AA11   \n",
      "...                           ...                  ...   \n",
      "Level 3                      2013                 ZZ11   \n",
      "Level 3                      2013                 ZZ11   \n",
      "Level 3                      2013                 ZZ11   \n",
      "Level 3                      2013                 ZZ11   \n",
      "Level 3                      2013                 ZZ11   \n",
      "Level 3                      2013                 ZZ11   \n",
      "Level 3                      2013                 ZZ11   \n",
      "Level 3                      2013                 ZZ11   \n",
      "Level 3                      2013                 ZZ11   \n",
      "Level 3                      2013                 ZZ11   \n",
      "Level 3                      2013                 ZZ11   \n",
      "Level 3                      2013                 ZZ11   \n",
      "Level 3                      2013                 ZZ11   \n",
      "Level 3                      2013                 ZZ11   \n",
      "Level 3                      2013                 ZZ11   \n",
      "Level 3                      2013                 ZZ11   \n",
      "Level 3                      2013                 ZZ11   \n",
      "Level 3                      2013                 ZZ11   \n",
      "Level 3                      2013                 ZZ11   \n",
      "Level 3                      2013                 ZZ11   \n",
      "Level 3                      2013                 ZZ11   \n",
      "Level 3                      2013                 ZZ11   \n",
      "Level 3                      2013                 ZZ11   \n",
      "Level 3                      2013                 ZZ11   \n",
      "Level 3                      2013                 ZZ11   \n",
      "Level 3                      2013                 ZZ11   \n",
      "Level 3                      2013                 ZZ11   \n",
      "Level 3                      2013                 ZZ11   \n",
      "Level 3                      2013                 ZZ11   \n",
      "Level 3                      2013                 ZZ11   \n",
      "\n",
      "                                       Industry_name_NZSIOC  \\\n",
      "Industry_aggregation_NZSIOC                                   \n",
      "Level 3                      Horticulture and Fruit Growing   \n",
      "Level 3                      Horticulture and Fruit Growing   \n",
      "Level 3                      Horticulture and Fruit Growing   \n",
      "Level 3                      Horticulture and Fruit Growing   \n",
      "Level 3                      Horticulture and Fruit Growing   \n",
      "Level 3                      Horticulture and Fruit Growing   \n",
      "Level 3                      Horticulture and Fruit Growing   \n",
      "Level 3                      Horticulture and Fruit Growing   \n",
      "Level 3                      Horticulture and Fruit Growing   \n",
      "Level 3                      Horticulture and Fruit Growing   \n",
      "Level 3                      Horticulture and Fruit Growing   \n",
      "Level 3                      Horticulture and Fruit Growing   \n",
      "Level 3                      Horticulture and Fruit Growing   \n",
      "Level 3                      Horticulture and Fruit Growing   \n",
      "Level 3                      Horticulture and Fruit Growing   \n",
      "Level 3                      Horticulture and Fruit Growing   \n",
      "Level 3                      Horticulture and Fruit Growing   \n",
      "Level 3                      Horticulture and Fruit Growing   \n",
      "Level 3                      Horticulture and Fruit Growing   \n",
      "Level 3                      Horticulture and Fruit Growing   \n",
      "Level 3                      Horticulture and Fruit Growing   \n",
      "Level 3                      Horticulture and Fruit Growing   \n",
      "Level 3                      Horticulture and Fruit Growing   \n",
      "Level 3                      Horticulture and Fruit Growing   \n",
      "Level 3                      Horticulture and Fruit Growing   \n",
      "Level 3                      Horticulture and Fruit Growing   \n",
      "Level 3                      Horticulture and Fruit Growing   \n",
      "Level 3                      Horticulture and Fruit Growing   \n",
      "Level 3                      Horticulture and Fruit Growing   \n",
      "Level 3                      Horticulture and Fruit Growing   \n",
      "...                                                     ...   \n",
      "Level 3                          Food product manufacturing   \n",
      "Level 3                          Food product manufacturing   \n",
      "Level 3                          Food product manufacturing   \n",
      "Level 3                          Food product manufacturing   \n",
      "Level 3                          Food product manufacturing   \n",
      "Level 3                          Food product manufacturing   \n",
      "Level 3                          Food product manufacturing   \n",
      "Level 3                          Food product manufacturing   \n",
      "Level 3                          Food product manufacturing   \n",
      "Level 3                          Food product manufacturing   \n",
      "Level 3                          Food product manufacturing   \n",
      "Level 3                          Food product manufacturing   \n",
      "Level 3                          Food product manufacturing   \n",
      "Level 3                          Food product manufacturing   \n",
      "Level 3                          Food product manufacturing   \n",
      "Level 3                          Food product manufacturing   \n",
      "Level 3                          Food product manufacturing   \n",
      "Level 3                          Food product manufacturing   \n",
      "Level 3                          Food product manufacturing   \n",
      "Level 3                          Food product manufacturing   \n",
      "Level 3                          Food product manufacturing   \n",
      "Level 3                          Food product manufacturing   \n",
      "Level 3                          Food product manufacturing   \n",
      "Level 3                          Food product manufacturing   \n",
      "Level 3                          Food product manufacturing   \n",
      "Level 3                          Food product manufacturing   \n",
      "Level 3                          Food product manufacturing   \n",
      "Level 3                          Food product manufacturing   \n",
      "Level 3                          Food product manufacturing   \n",
      "Level 3                          Food product manufacturing   \n",
      "\n",
      "                                          Units Variable_code  \\\n",
      "Industry_aggregation_NZSIOC                                     \n",
      "Level 3                      Dollars (millions)           H01   \n",
      "Level 3                      Dollars (millions)           H04   \n",
      "Level 3                      Dollars (millions)           H05   \n",
      "Level 3                      Dollars (millions)           H07   \n",
      "Level 3                      Dollars (millions)           H08   \n",
      "Level 3                      Dollars (millions)           H09   \n",
      "Level 3                      Dollars (millions)           H10   \n",
      "Level 3                      Dollars (millions)           H11   \n",
      "Level 3                      Dollars (millions)           H12   \n",
      "Level 3                      Dollars (millions)           H13   \n",
      "Level 3                      Dollars (millions)           H19   \n",
      "Level 3                      Dollars (millions)           H20   \n",
      "Level 3                      Dollars (millions)           H21   \n",
      "Level 3                      Dollars (millions)           H22   \n",
      "Level 3                      Dollars (millions)           H23   \n",
      "Level 3                      Dollars (millions)           H24   \n",
      "Level 3                      Dollars (millions)           H25   \n",
      "Level 3                      Dollars (millions)           H26   \n",
      "Level 3                      Dollars (millions)           H29   \n",
      "Level 3                      Dollars (millions)           H30   \n",
      "Level 3                      Dollars (millions)           H31   \n",
      "Level 3                      Dollars (millions)           H32   \n",
      "Level 3                      Dollars (millions)           H33   \n",
      "Level 3                                 Dollars           H34   \n",
      "Level 3                                 Dollars           H35   \n",
      "Level 3                              Percentage           H36   \n",
      "Level 3                              Percentage           H37   \n",
      "Level 3                              Percentage           H39   \n",
      "Level 3                              Percentage           H40   \n",
      "Level 3                              Percentage           H41   \n",
      "...                                         ...           ...   \n",
      "Level 3                      Dollars (millions)           H08   \n",
      "Level 3                      Dollars (millions)           H09   \n",
      "Level 3                      Dollars (millions)           H10   \n",
      "Level 3                      Dollars (millions)           H11   \n",
      "Level 3                      Dollars (millions)           H12   \n",
      "Level 3                      Dollars (millions)           H13   \n",
      "Level 3                      Dollars (millions)           H17   \n",
      "Level 3                      Dollars (millions)           H18   \n",
      "Level 3                      Dollars (millions)           H20   \n",
      "Level 3                      Dollars (millions)           H21   \n",
      "Level 3                      Dollars (millions)           H22   \n",
      "Level 3                      Dollars (millions)           H23   \n",
      "Level 3                      Dollars (millions)           H24   \n",
      "Level 3                      Dollars (millions)           H25   \n",
      "Level 3                      Dollars (millions)           H26   \n",
      "Level 3                      Dollars (millions)           H27   \n",
      "Level 3                      Dollars (millions)           H28   \n",
      "Level 3                      Dollars (millions)           H29   \n",
      "Level 3                      Dollars (millions)           H30   \n",
      "Level 3                      Dollars (millions)           H31   \n",
      "Level 3                      Dollars (millions)           H32   \n",
      "Level 3                      Dollars (millions)           H33   \n",
      "Level 3                                 Dollars           H34   \n",
      "Level 3                                 Dollars           H35   \n",
      "Level 3                              Percentage           H36   \n",
      "Level 3                              Percentage           H37   \n",
      "Level 3                              Percentage           H38   \n",
      "Level 3                              Percentage           H39   \n",
      "Level 3                              Percentage           H40   \n",
      "Level 3                              Percentage           H41   \n",
      "\n",
      "                                                               Variable_name  \\\n",
      "Industry_aggregation_NZSIOC                                                    \n",
      "Level 3                                                         Total income   \n",
      "Level 3                      Sales, government funding, grants and subsidies   \n",
      "Level 3                                    Interest, dividends and donations   \n",
      "Level 3                                                 Non-operating income   \n",
      "Level 3                                                    Total expenditure   \n",
      "Level 3                                               Interest and donations   \n",
      "Level 3                                                       Indirect taxes   \n",
      "Level 3                                                         Depreciation   \n",
      "Level 3                                              Salaries and wages paid   \n",
      "Level 3                                             Redundancy and severance   \n",
      "Level 3                               Purchases and other operating expenses   \n",
      "Level 3                                               Non-operating expenses   \n",
      "Level 3                                                       Opening stocks   \n",
      "Level 3                                                       Closing stocks   \n",
      "Level 3                                            Surplus before income tax   \n",
      "Level 3                                                         Total assets   \n",
      "Level 3                                                       Current assets   \n",
      "Level 3                                                Fixed tangible assets   \n",
      "Level 3                                                         Other assets   \n",
      "Level 3                                         Total equity and liabilities   \n",
      "Level 3                                  Shareholders funds or owners equity   \n",
      "Level 3                                                  Current liabilities   \n",
      "Level 3                                                    Other liabilities   \n",
      "Level 3                                      Total income per employee count   \n",
      "Level 3                                           Surplus per employee count   \n",
      "Level 3                                                        Current ratio   \n",
      "Level 3                                                          Quick ratio   \n",
      "Level 3                                                     Return on equity   \n",
      "Level 3                                               Return on total assets   \n",
      "Level 3                                                Liabilities structure   \n",
      "...                                                                      ...   \n",
      "Level 3                                                    Total expenditure   \n",
      "Level 3                                               Interest and donations   \n",
      "Level 3                                                       Indirect taxes   \n",
      "Level 3                                                         Depreciation   \n",
      "Level 3                                              Salaries and wages paid   \n",
      "Level 3                                             Redundancy and severance   \n",
      "Level 3                                 Purchases of goods bought for resale   \n",
      "Level 3                               Other purchases and operating expenses   \n",
      "Level 3                                               Non-operating expenses   \n",
      "Level 3                                                       Opening stocks   \n",
      "Level 3                                                       Closing stocks   \n",
      "Level 3                                            Surplus before income tax   \n",
      "Level 3                                                         Total assets   \n",
      "Level 3                                                       Current assets   \n",
      "Level 3                                                Fixed tangible assets   \n",
      "Level 3                                            Additions to fixed assets   \n",
      "Level 3                                            Disposals of fixed assets   \n",
      "Level 3                                                         Other assets   \n",
      "Level 3                                         Total equity and liabilities   \n",
      "Level 3                                  Shareholders funds or owners equity   \n",
      "Level 3                                                  Current liabilities   \n",
      "Level 3                                                    Other liabilities   \n",
      "Level 3                                      Total income per employee count   \n",
      "Level 3                                           Surplus per employee count   \n",
      "Level 3                                                        Current ratio   \n",
      "Level 3                                                          Quick ratio   \n",
      "Level 3                                  Margin on sales of goods for resale   \n",
      "Level 3                                                     Return on equity   \n",
      "Level 3                                               Return on total assets   \n",
      "Level 3                                                Liabilities structure   \n",
      "\n",
      "                                 Variable_category   Value  \\\n",
      "Industry_aggregation_NZSIOC                                  \n",
      "Level 3                      Financial performance    4432   \n",
      "Level 3                      Financial performance    4119   \n",
      "Level 3                      Financial performance     101   \n",
      "Level 3                      Financial performance     211   \n",
      "Level 3                      Financial performance    3579   \n",
      "Level 3                      Financial performance     180   \n",
      "Level 3                      Financial performance      33   \n",
      "Level 3                      Financial performance     200   \n",
      "Level 3                      Financial performance     744   \n",
      "Level 3                      Financial performance       0   \n",
      "Level 3                      Financial performance    2408   \n",
      "Level 3                      Financial performance      14   \n",
      "Level 3                      Financial performance     317   \n",
      "Level 3                      Financial performance     317   \n",
      "Level 3                      Financial performance     854   \n",
      "Level 3                         Financial position   13187   \n",
      "Level 3                         Financial position    2352   \n",
      "Level 3                         Financial position    8714   \n",
      "Level 3                         Financial position    2121   \n",
      "Level 3                         Financial position   13187   \n",
      "Level 3                         Financial position    6107   \n",
      "Level 3                         Financial position    3213   \n",
      "Level 3                         Financial position    3867   \n",
      "Level 3                           Financial ratios  179700   \n",
      "Level 3                           Financial ratios   34600   \n",
      "Level 3                           Financial ratios      73   \n",
      "Level 3                           Financial ratios      63   \n",
      "Level 3                           Financial ratios      14   \n",
      "Level 3                           Financial ratios       6   \n",
      "Level 3                           Financial ratios      46   \n",
      "...                                            ...     ...   \n",
      "Level 3                      Financial performance   35502   \n",
      "Level 3                      Financial performance     438   \n",
      "Level 3                      Financial performance      82   \n",
      "Level 3                      Financial performance     820   \n",
      "Level 3                      Financial performance    3894   \n",
      "Level 3                      Financial performance       8   \n",
      "Level 3                      Financial performance    1679   \n",
      "Level 3                      Financial performance   28496   \n",
      "Level 3                      Financial performance      93   \n",
      "Level 3                      Financial performance    3722   \n",
      "Level 3                      Financial performance    4041   \n",
      "Level 3                      Financial performance    1227   \n",
      "Level 3                         Financial position   23102   \n",
      "Level 3                         Financial position    9312   \n",
      "Level 3                         Financial position    8357   \n",
      "Level 3                         Financial position    1339   \n",
      "Level 3                         Financial position     375   \n",
      "Level 3                         Financial position    5434   \n",
      "Level 3                         Financial position   23102   \n",
      "Level 3                         Financial position   10670   \n",
      "Level 3                         Financial position   10212   \n",
      "Level 3                         Financial position    2220   \n",
      "Level 3                           Financial ratios  523700   \n",
      "Level 3                           Financial ratios   17700   \n",
      "Level 3                           Financial ratios      91   \n",
      "Level 3                           Financial ratios      52   \n",
      "Level 3                           Financial ratios      40   \n",
      "Level 3                           Financial ratios      12   \n",
      "Level 3                           Financial ratios       5   \n",
      "Level 3                           Financial ratios      46   \n",
      "\n",
      "                                                        Industry_code_ANZSIC06  \n",
      "Industry_aggregation_NZSIOC                                                     \n",
      "Level 3                                   ANZSIC06 groups A011, A012, and A013  \n",
      "Level 3                                   ANZSIC06 groups A011, A012, and A013  \n",
      "Level 3                                   ANZSIC06 groups A011, A012, and A013  \n",
      "Level 3                                   ANZSIC06 groups A011, A012, and A013  \n",
      "Level 3                                   ANZSIC06 groups A011, A012, and A013  \n",
      "Level 3                                   ANZSIC06 groups A011, A012, and A013  \n",
      "Level 3                                   ANZSIC06 groups A011, A012, and A013  \n",
      "Level 3                                   ANZSIC06 groups A011, A012, and A013  \n",
      "Level 3                                   ANZSIC06 groups A011, A012, and A013  \n",
      "Level 3                                   ANZSIC06 groups A011, A012, and A013  \n",
      "Level 3                                   ANZSIC06 groups A011, A012, and A013  \n",
      "Level 3                                   ANZSIC06 groups A011, A012, and A013  \n",
      "Level 3                                   ANZSIC06 groups A011, A012, and A013  \n",
      "Level 3                                   ANZSIC06 groups A011, A012, and A013  \n",
      "Level 3                                   ANZSIC06 groups A011, A012, and A013  \n",
      "Level 3                                   ANZSIC06 groups A011, A012, and A013  \n",
      "Level 3                                   ANZSIC06 groups A011, A012, and A013  \n",
      "Level 3                                   ANZSIC06 groups A011, A012, and A013  \n",
      "Level 3                                   ANZSIC06 groups A011, A012, and A013  \n",
      "Level 3                                   ANZSIC06 groups A011, A012, and A013  \n",
      "Level 3                                   ANZSIC06 groups A011, A012, and A013  \n",
      "Level 3                                   ANZSIC06 groups A011, A012, and A013  \n",
      "Level 3                                   ANZSIC06 groups A011, A012, and A013  \n",
      "Level 3                                   ANZSIC06 groups A011, A012, and A013  \n",
      "Level 3                                   ANZSIC06 groups A011, A012, and A013  \n",
      "Level 3                                   ANZSIC06 groups A011, A012, and A013  \n",
      "Level 3                                   ANZSIC06 groups A011, A012, and A013  \n",
      "Level 3                                   ANZSIC06 groups A011, A012, and A013  \n",
      "Level 3                                   ANZSIC06 groups A011, A012, and A013  \n",
      "Level 3                                   ANZSIC06 groups A011, A012, and A013  \n",
      "...                                                                        ...  \n",
      "Level 3                      ANZSIC06 groups C111, C112, C113, C114, C115, ...  \n",
      "Level 3                      ANZSIC06 groups C111, C112, C113, C114, C115, ...  \n",
      "Level 3                      ANZSIC06 groups C111, C112, C113, C114, C115, ...  \n",
      "Level 3                      ANZSIC06 groups C111, C112, C113, C114, C115, ...  \n",
      "Level 3                      ANZSIC06 groups C111, C112, C113, C114, C115, ...  \n",
      "Level 3                      ANZSIC06 groups C111, C112, C113, C114, C115, ...  \n",
      "Level 3                      ANZSIC06 groups C111, C112, C113, C114, C115, ...  \n",
      "Level 3                      ANZSIC06 groups C111, C112, C113, C114, C115, ...  \n",
      "Level 3                      ANZSIC06 groups C111, C112, C113, C114, C115, ...  \n",
      "Level 3                      ANZSIC06 groups C111, C112, C113, C114, C115, ...  \n",
      "Level 3                      ANZSIC06 groups C111, C112, C113, C114, C115, ...  \n",
      "Level 3                      ANZSIC06 groups C111, C112, C113, C114, C115, ...  \n",
      "Level 3                      ANZSIC06 groups C111, C112, C113, C114, C115, ...  \n",
      "Level 3                      ANZSIC06 groups C111, C112, C113, C114, C115, ...  \n",
      "Level 3                      ANZSIC06 groups C111, C112, C113, C114, C115, ...  \n",
      "Level 3                      ANZSIC06 groups C111, C112, C113, C114, C115, ...  \n",
      "Level 3                      ANZSIC06 groups C111, C112, C113, C114, C115, ...  \n",
      "Level 3                      ANZSIC06 groups C111, C112, C113, C114, C115, ...  \n",
      "Level 3                      ANZSIC06 groups C111, C112, C113, C114, C115, ...  \n",
      "Level 3                      ANZSIC06 groups C111, C112, C113, C114, C115, ...  \n",
      "Level 3                      ANZSIC06 groups C111, C112, C113, C114, C115, ...  \n",
      "Level 3                      ANZSIC06 groups C111, C112, C113, C114, C115, ...  \n",
      "Level 3                      ANZSIC06 groups C111, C112, C113, C114, C115, ...  \n",
      "Level 3                      ANZSIC06 groups C111, C112, C113, C114, C115, ...  \n",
      "Level 3                      ANZSIC06 groups C111, C112, C113, C114, C115, ...  \n",
      "Level 3                      ANZSIC06 groups C111, C112, C113, C114, C115, ...  \n",
      "Level 3                      ANZSIC06 groups C111, C112, C113, C114, C115, ...  \n",
      "Level 3                      ANZSIC06 groups C111, C112, C113, C114, C115, ...  \n",
      "Level 3                      ANZSIC06 groups C111, C112, C113, C114, C115, ...  \n",
      "Level 3                      ANZSIC06 groups C111, C112, C113, C114, C115, ...  \n",
      "\n",
      "[9234 rows x 9 columns]\n"
     ]
    }
   ],
   "source": [
    "a = pd.read_csv(\"nkd.csv\",index_col = \"Industry_aggregation_NZSIOC\")\n",
    "b = a.loc[\"Level 3\"]\n",
    "print(b)"
   ]
  },
  {
   "cell_type": "code",
   "execution_count": 40,
   "metadata": {},
   "outputs": [
    {
     "name": "stdout",
     "output_type": "stream",
     "text": [
      "                             Year Industry_code_NZSIOC  \\\n",
      "Industry_aggregation_NZSIOC                              \n",
      "Level 3                      2013                 ZZ11   \n",
      "Level 3                      2013                 ZZ11   \n",
      "Level 3                      2013                 ZZ11   \n",
      "Level 3                      2013                 ZZ11   \n",
      "\n",
      "                                   Industry_name_NZSIOC               Units  \\\n",
      "Industry_aggregation_NZSIOC                                                   \n",
      "Level 3                      Food product manufacturing  Dollars (millions)   \n",
      "Level 3                      Food product manufacturing  Dollars (millions)   \n",
      "Level 3                      Food product manufacturing  Dollars (millions)   \n",
      "Level 3                      Food product manufacturing  Dollars (millions)   \n",
      "\n",
      "                            Variable_code              Variable_name  \\\n",
      "Industry_aggregation_NZSIOC                                            \n",
      "Level 3                               H22             Closing stocks   \n",
      "Level 3                               H23  Surplus before income tax   \n",
      "Level 3                               H24               Total assets   \n",
      "Level 3                               H25             Current assets   \n",
      "\n",
      "                                 Variable_category  Value  \\\n",
      "Industry_aggregation_NZSIOC                                 \n",
      "Level 3                      Financial performance   4041   \n",
      "Level 3                      Financial performance   1227   \n",
      "Level 3                         Financial position  23102   \n",
      "Level 3                         Financial position   9312   \n",
      "\n",
      "                                                        Industry_code_ANZSIC06  \n",
      "Industry_aggregation_NZSIOC                                                     \n",
      "Level 3                      ANZSIC06 groups C111, C112, C113, C114, C115, ...  \n",
      "Level 3                      ANZSIC06 groups C111, C112, C113, C114, C115, ...  \n",
      "Level 3                      ANZSIC06 groups C111, C112, C113, C114, C115, ...  \n",
      "Level 3                      ANZSIC06 groups C111, C112, C113, C114, C115, ...  \n"
     ]
    }
   ],
   "source": [
    "a = pd.read_csv(\"nkd.csv\",index_col = \"Industry_aggregation_NZSIOC\")\n",
    "b = a.iloc[27790:27794]\n",
    "print(b)"
   ]
  },
  {
   "cell_type": "code",
   "execution_count": 2,
   "metadata": {},
   "outputs": [],
   "source": [
    "import numpy as np"
   ]
  },
  {
   "cell_type": "code",
   "execution_count": 7,
   "metadata": {},
   "outputs": [
    {
     "name": "stdout",
     "output_type": "stream",
     "text": [
      "[1 2 3 4]\n"
     ]
    }
   ],
   "source": [
    "a = np.array([1,2,3,4])\n",
    "print(a)"
   ]
  },
  {
   "cell_type": "code",
   "execution_count": 14,
   "metadata": {},
   "outputs": [
    {
     "name": "stdout",
     "output_type": "stream",
     "text": [
      "[[1 2]\n",
      " [5 6]]\n"
     ]
    }
   ],
   "source": [
    "a = np.array([[1,2],[5,6]])\n",
    "print(a)"
   ]
  },
  {
   "cell_type": "code",
   "execution_count": 15,
   "metadata": {},
   "outputs": [
    {
     "name": "stdout",
     "output_type": "stream",
     "text": [
      "[[1 2 3]\n",
      " [5 6 7]\n",
      " [9 0 1]]\n"
     ]
    }
   ],
   "source": [
    "b = np.array([[1,2,3],[5,6,7],[9,0,1]])\n",
    "print(b)"
   ]
  },
  {
   "cell_type": "code",
   "execution_count": 16,
   "metadata": {},
   "outputs": [
    {
     "name": "stdout",
     "output_type": "stream",
     "text": [
      "[[0 1 2]\n",
      " [3 4 5]\n",
      " [6 7 8]]\n"
     ]
    }
   ],
   "source": [
    "c = np.array([[0,1,2],[3,4,5],[6,7,8]])\n",
    "print(c)"
   ]
  },
  {
   "cell_type": "code",
   "execution_count": 24,
   "metadata": {},
   "outputs": [],
   "source": [
    "d = np.add(b,c)"
   ]
  },
  {
   "cell_type": "code",
   "execution_count": 25,
   "metadata": {},
   "outputs": [
    {
     "data": {
      "text/plain": [
       "array([[ 1,  3,  5],\n",
       "       [ 8, 10, 12],\n",
       "       [15,  7,  9]])"
      ]
     },
     "execution_count": 25,
     "metadata": {},
     "output_type": "execute_result"
    }
   ],
   "source": [
    "d"
   ]
  },
  {
   "cell_type": "code",
   "execution_count": 33,
   "metadata": {},
   "outputs": [
    {
     "data": {
      "text/plain": [
       "array([[1, 5, 9],\n",
       "       [2, 6, 0],\n",
       "       [3, 7, 1]])"
      ]
     },
     "execution_count": 33,
     "metadata": {},
     "output_type": "execute_result"
    }
   ],
   "source": [
    "e = b.T\n",
    "e"
   ]
  },
  {
   "cell_type": "code",
   "execution_count": 34,
   "metadata": {},
   "outputs": [
    {
     "data": {
      "text/plain": [
       "34"
      ]
     },
     "execution_count": 34,
     "metadata": {},
     "output_type": "execute_result"
    }
   ],
   "source": [
    "f = b.sum()\n",
    "f"
   ]
  },
  {
   "cell_type": "code",
   "execution_count": 40,
   "metadata": {},
   "outputs": [
    {
     "data": {
      "text/plain": [
       "array([[1.        , 1.41421356, 1.73205081],\n",
       "       [2.23606798, 2.44948974, 2.64575131],\n",
       "       [3.        , 0.        , 1.        ]])"
      ]
     },
     "execution_count": 40,
     "metadata": {},
     "output_type": "execute_result"
    }
   ],
   "source": [
    "g = np.sqrt(b)\n",
    "g"
   ]
  },
  {
   "cell_type": "code",
   "execution_count": 41,
   "metadata": {},
   "outputs": [],
   "source": [
    "import matplotlib.pyplot as p"
   ]
  },
  {
   "cell_type": "code",
   "execution_count": 42,
   "metadata": {},
   "outputs": [],
   "source": [
    "a = [1,2,3,4]"
   ]
  },
  {
   "cell_type": "code",
   "execution_count": 55,
   "metadata": {},
   "outputs": [],
   "source": [
    "b = [9,0,1,2]"
   ]
  },
  {
   "cell_type": "code",
   "execution_count": 56,
   "metadata": {},
   "outputs": [
    {
     "data": {
      "text/plain": [
       "[<matplotlib.lines.Line2D at 0x267cf99ca20>]"
      ]
     },
     "execution_count": 56,
     "metadata": {},
     "output_type": "execute_result"
    },
    {
     "data": {
      "image/png": "[encoded data removed]",
      "text/plain": [
       "<Figure size 432x288 with 1 Axes>"
      ]
     },
     "metadata": {
      "needs_background": "light"
     },
     "output_type": "display_data"
    }
   ],
   "source": [
    "p.plot(a)\n",
    "p.plot(b)"
   ]
  },
  {
   "cell_type": "code",
   "execution_count": 61,
   "metadata": {},
   "outputs": [
    {
     "data": {
      "text/plain": [
       "[<matplotlib.lines.Line2D at 0x267cfaf0f28>]"
      ]
     },
     "execution_count": 61,
     "metadata": {},
     "output_type": "execute_result"
    },
    {
     "data": {
      "image/png": "[encoded data removed]",
      "text/plain": [
       "<Figure size 432x288 with 1 Axes>"
      ]
     },
     "metadata": {
      "needs_background": "light"
     },
     "output_type": "display_data"
    }
   ],
   "source": [
    "p.xlabel('x')\n",
    "p.ylabel('y')\n",
    "p.show\n",
    "p.plot(a)\n",
    "p.plot(b)"
   ]
  },
  {
   "cell_type": "code",
   "execution_count": 62,
   "metadata": {},
   "outputs": [
    {
     "data": {
      "text/plain": [
       "[<matplotlib.lines.Line2D at 0x267cfb56240>]"
      ]
     },
     "execution_count": 62,
     "metadata": {},
     "output_type": "execute_result"
    },
    {
     "data": {
      "image/png": "[encoded data removed]",
      "text/plain": [
       "<Figure size 432x288 with 1 Axes>"
      ]
     },
     "metadata": {
      "needs_background": "light"
     },
     "output_type": "display_data"
    }
   ],
   "source": [
    "p.title(\"neeraj data\")\n",
    "p.xlabel('x')\n",
    "p.ylabel('y')\n",
    "p.show\n",
    "p.plot(a)\n",
    "p.plot(b)"
   ]
  },
  {
   "cell_type": "code",
   "execution_count": 66,
   "metadata": {},
   "outputs": [
    {
     "data": {
      "text/plain": [
       "[<matplotlib.lines.Line2D at 0x267cfa9c5c0>]"
      ]
     },
     "execution_count": 66,
     "metadata": {},
     "output_type": "execute_result"
    },
    {
     "data": {
      "image/png": "[encoded data removed]",
      "text/plain": [
       "<Figure size 432x288 with 1 Axes>"
      ]
     },
     "metadata": {
      "needs_background": "light"
     },
     "output_type": "display_data"
    }
   ],
   "source": [
    "\n",
    "p.xlabel('x')\n",
    "p.ylabel('y')\n",
    "p.show\n",
    "p.plot(a)\n"
   ]
  },
  {
   "cell_type": "code",
   "execution_count": 70,
   "metadata": {},
   "outputs": [
    {
     "data": {
      "text/plain": [
       "<matplotlib.legend.Legend at 0x267cfc015c0>"
      ]
     },
     "execution_count": 70,
     "metadata": {},
     "output_type": "execute_result"
    },
    {
     "data": {
      "image/png": "[encoded data removed]",
      "text/plain": [
       "<Figure size 432x288 with 1 Axes>"
      ]
     },
     "metadata": {
      "needs_background": "light"
     },
     "output_type": "display_data"
    }
   ],
   "source": [
    "p.xlabel('x')\n",
    "p.ylabel('y')\n",
    "p.show\n",
    "p.plot(a)\n",
    "p.plot(b)\n",
    "p.legend(\"nk\")"
   ]
  },
  {
   "cell_type": "code",
   "execution_count": 75,
   "metadata": {},
   "outputs": [
    {
     "data": {
      "text/plain": [
       "<matplotlib.legend.Legend at 0x267cfcc6c50>"
      ]
     },
     "execution_count": 75,
     "metadata": {},
     "output_type": "execute_result"
    },
    {
     "data": {
      "image/png": "[encoded data removed]",
      "text/plain": [
       "<Figure size 432x288 with 1 Axes>"
      ]
     },
     "metadata": {
      "needs_background": "light"
     },
     "output_type": "display_data"
    }
   ],
   "source": [
    "p.title(\"neeraj data\")\n",
    "p.xlabel('x',color= 'red')\n",
    "p.ylabel('y',color= 'blue')\n",
    "p.show\n",
    "p.plot(a)\n",
    "p.plot(b)\n",
    "p.legend(\"nk\")"
   ]
  },
  {
   "cell_type": "code",
   "execution_count": 77,
   "metadata": {},
   "outputs": [
    {
     "name": "stdout",
     "output_type": "stream",
     "text": [
      "[<matplotlib.lines.Line2D object at 0x00000267D0D6D668>]\n"
     ]
    },
    {
     "data": {
      "image/png": "[encoded data removed]",
      "text/plain": [
       "<Figure size 432x288 with 1 Axes>"
      ]
     },
     "metadata": {
      "needs_background": "light"
     },
     "output_type": "display_data"
    }
   ],
   "source": [
    "p.title('neeraj data' ,COLOR=\"green\")\n",
    "a = [1,2,3,4,5]\n",
    "b = [6,7,8,9,0]\n",
    "p.xlabel('x',color= 'red')\n",
    "p.ylabel('y',color= 'blue')\n",
    "h = p.plot(a)\n",
    "h = p.plot(b)\n",
    "print(h)\n",
    "p.legend(\"nk\")\n",
    "p.show()\n"
   ]
  },
  {
   "cell_type": "code",
   "execution_count": 83,
   "metadata": {},
   "outputs": [
    {
     "name": "stdout",
     "output_type": "stream",
     "text": [
      "[<matplotlib.lines.Line2D object at 0x00000267D0F76358>]\n"
     ]
    },
    {
     "data": {
      "image/png": "[encoded data removed]",
      "text/plain": [
       "<Figure size 432x288 with 1 Axes>"
      ]
     },
     "metadata": {
      "needs_background": "light"
     },
     "output_type": "display_data"
    },
    {
     "data": {
      "text/plain": [
       "<BarContainer object of 5 artists>"
      ]
     },
     "execution_count": 83,
     "metadata": {},
     "output_type": "execute_result"
    },
    {
     "data": {
      "image/png": "[encoded data removed]",
      "text/plain": [
       "<Figure size 432x288 with 1 Axes>"
      ]
     },
     "metadata": {
      "needs_background": "light"
     },
     "output_type": "display_data"
    }
   ],
   "source": [
    "p.title('neeraj data' ,COLOR=\"green\")\n",
    "a = [1,2,3,4,5]\n",
    "b = [6,7,8,9,0]\n",
    "p.xlabel('x',color= 'red')\n",
    "p.ylabel('y',color= 'blue')\n",
    "h = p.plot(a)\n",
    "h = p.plot(b)\n",
    "print(h)\n",
    "p.legend(\"nk\")\n",
    "p.show()\n",
    "p.bar(a,b,color=\"blue\")"
   ]
  },
  {
   "cell_type": "code",
   "execution_count": 88,
   "metadata": {},
   "outputs": [
    {
     "name": "stdout",
     "output_type": "stream",
     "text": [
      "[<matplotlib.lines.Line2D object at 0x00000267D1108C50>]\n"
     ]
    },
    {
     "data": {
      "image/png": "[encoded data removed]",
      "text/plain": [
       "<Figure size 432x288 with 1 Axes>"
      ]
     },
     "metadata": {
      "needs_background": "light"
     },
     "output_type": "display_data"
    }
   ],
   "source": [
    "p.bar(a,b,color=\"blue\")\n",
    "p.title('neeraj data' ,COLOR=\"green\")\n",
    "a = [1,2,3,4,5]\n",
    "b = [6,7,8,9,10]\n",
    "p.xlabel('x',color= 'red')\n",
    "p.ylabel('y',color= 'blue')\n",
    "h = p.plot(a)\n",
    "h = p.plot(b)\n",
    "print(h)\n",
    "p.legend(\"nk\")\n",
    "p.show()"
   ]
  },
  {
   "cell_type": "code",
   "execution_count": 91,
   "metadata": {},
   "outputs": [
    {
     "name": "stdout",
     "output_type": "stream",
     "text": [
      "[<matplotlib.lines.Line2D object at 0x00000267CFD1D2E8>]\n"
     ]
    },
    {
     "data": {
      "image/png": "[encoded data removed]",
      "text/plain": [
       "<Figure size 432x288 with 1 Axes>"
      ]
     },
     "metadata": {
      "needs_background": "light"
     },
     "output_type": "display_data"
    },
    {
     "data": {
      "text/plain": [
       "<BarContainer object of 5 artists>"
      ]
     },
     "execution_count": 91,
     "metadata": {},
     "output_type": "execute_result"
    },
    {
     "data": {
      "image/png": "[encoded data removed]",
      "text/plain": [
       "<Figure size 432x288 with 1 Axes>"
      ]
     },
     "metadata": {
      "needs_background": "light"
     },
     "output_type": "display_data"
    }
   ],
   "source": [
    "p.bar(a,b,color=\"blue\")\n",
    "p.title('neeraj data' ,COLOR=\"green\")\n",
    "a = [1,2,3,4,5]\n",
    "b = [6,7,8,9,10]\n",
    "p.xlabel('x',color= 'red')\n",
    "p.ylabel('y',color= 'blue')\n",
    "h = p.plot(a)\n",
    "h = p.plot(b)\n",
    "print(h)\n",
    "p.legend(\"nk\")\n",
    "p.show()\n",
    "p.bar(a,b,color=['red','blue','green','yellow','black'])\n"
   ]
  },
  {
   "cell_type": "code",
   "execution_count": 93,
   "metadata": {},
   "outputs": [],
   "source": [
    "import matplotlib.pyplot as p"
   ]
  },
  {
   "cell_type": "code",
   "execution_count": 97,
   "metadata": {},
   "outputs": [
    {
     "name": "stdout",
     "output_type": "stream",
     "text": [
      "[<matplotlib.lines.Line2D object at 0x00000267D10E52E8>]\n"
     ]
    },
    {
     "data": {
      "image/png": "[encoded data removed]",
      "text/plain": [
       "<Figure size 432x288 with 1 Axes>"
      ]
     },
     "metadata": {
      "needs_background": "light"
     },
     "output_type": "display_data"
    },
    {
     "data": {
      "text/plain": [
       "<matplotlib.collections.PathCollection at 0x267d0f1fe48>"
      ]
     },
     "execution_count": 97,
     "metadata": {},
     "output_type": "execute_result"
    },
    {
     "data": {
      "image/png": "[encoded data removed]",
      "text/plain": [
       "<Figure size 432x288 with 1 Axes>"
      ]
     },
     "metadata": {
      "needs_background": "light"
     },
     "output_type": "display_data"
    }
   ],
   "source": [
    "p.bar(a,b,color=\"blue\")\n",
    "p.title('neeraj data' ,COLOR=\"green\")\n",
    "a = [1,2,3,4,5]\n",
    "b = [6,7,8,9,10]\n",
    "p.xlabel('x',color= 'red')\n",
    "p.ylabel('y',color= 'blue')\n",
    "h = p.plot(a)\n",
    "h = p.plot(b)\n",
    "print(h)\n",
    "p.legend(\"nk\")\n",
    "p.show()\n",
    "p.scatter(a,b,color=['red','blue','green','yellow','black'])"
   ]
  },
  {
   "cell_type": "code",
   "execution_count": 99,
   "metadata": {},
   "outputs": [],
   "source": [
    "a = [1,2,3,4]"
   ]
  },
  {
   "cell_type": "code",
   "execution_count": 100,
   "metadata": {},
   "outputs": [],
   "source": [
    "b = ['neeraj','mohit','rahul','ishita']"
   ]
  },
  {
   "cell_type": "code",
   "execution_count": 113,
   "metadata": {},
   "outputs": [
    {
     "data": {
      "image/png": "[encoded data removed]",
      "text/plain": [
       "<Figure size 432x288 with 1 Axes>"
      ]
     },
     "metadata": {},
     "output_type": "display_data"
    }
   ],
   "source": [
    "p.pie(a,labels=b)\n",
    "p.show()"
   ]
  },
  {
   "cell_type": "code",
   "execution_count": 121,
   "metadata": {},
   "outputs": [
    {
     "data": {
      "image/png": "[encoded data removed]",
      "text/plain": [
       "<Figure size 432x288 with 1 Axes>"
      ]
     },
     "metadata": {},
     "output_type": "display_data"
    }
   ],
   "source": [
    "p.pie(a,labels=b)\n",
    "p.legend(\"nmri\")\n",
    "p.show()"
   ]
  },
  {
   "cell_type": "code",
   "execution_count": 122,
   "metadata": {},
   "outputs": [
    {
     "data": {
      "image/png": "[encoded data removed]",
      "text/plain": [
       "<Figure size 432x288 with 1 Axes>"
      ]
     },
     "metadata": {},
     "output_type": "display_data"
    }
   ],
   "source": [
    "p.pie(a,labels=b,shadow= 'true')\n",
    "p.legend(\"nmri\")\n",
    "p.show()"
   ]
  },
  {
   "cell_type": "code",
   "execution_count": 124,
   "metadata": {},
   "outputs": [
    {
     "data": {
      "image/png": "[encoded data removed]",
      "text/plain": [
       "<Figure size 432x288 with 1 Axes>"
      ]
     },
     "metadata": {},
     "output_type": "display_data"
    }
   ],
   "source": [
    "a = [1,2,3,4]\n",
    "b = ['neeraj','mohit','rahul','ishita']\n",
    "t = ['green','blue','red','black','pink']\n",
    "p.title(\"FRIENDS\")\n",
    "p.pie(a,colors=t,labels=b,shadow=True)\n",
    "p.legend(\"nmri\")\n",
    "p.show()"
   ]
  },
  {
   "cell_type": "code",
   "execution_count": null,
   "metadata": {},
   "outputs": [],
   "source": []
  }
 ],
 "metadata": {
  "kernelspec": {
   "display_name": "Python 3",
   "language": "python",
   "name": "python3"
  },
  "language_info": {
   "codemirror_mode": {
    "name": "ipython",
    "version": 3
   },
   "file_extension": ".py",
   "mimetype": "text/x-python",
   "name": "python",
   "nbconvert_exporter": "python",
   "pygments_lexer": "ipython3",
   "version": "3.7.3"
  }
 },
 "nbformat": 4,
 "nbformat_minor": 2
}
